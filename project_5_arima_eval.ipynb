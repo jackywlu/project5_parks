{
 "cells": [
  {
   "cell_type": "markdown",
   "metadata": {},
   "source": [
    "In this notebook, I evaluate different time series models and save the metrics for each of the model to compare them against one another. Afterwards, I save the best performing model into pickle files to make predictions for my web app."
   ]
  },
  {
   "cell_type": "markdown",
   "metadata": {},
   "source": [
    "# Table of Contents\n",
    "1. [Imports](#section1)\n",
    "2. [Prepare DataFrame](#section2)\n",
    "3. [Time Series Model Evaluation](#section3)\n",
    "4. [Model Error](#section4)\n",
    "5. [Save Final Models](#section5)"
   ]
  },
  {
   "cell_type": "markdown",
   "metadata": {},
   "source": [
    "<a id='section1'></a>"
   ]
  },
  {
   "cell_type": "markdown",
   "metadata": {},
   "source": [
    "### 1. Imports"
   ]
  },
  {
   "cell_type": "code",
   "execution_count": 94,
   "metadata": {},
   "outputs": [],
   "source": [
    "# standard imports\n",
    "import pandas as pd\n",
    "import numpy as np\n",
    "import matplotlib.pyplot as plt\n",
    "import matplotlib.colors as colors\n",
    "import seaborn as sns\n",
    "import pickle\n",
    "\n",
    "%matplotlib inline"
   ]
  },
  {
   "cell_type": "code",
   "execution_count": 95,
   "metadata": {},
   "outputs": [],
   "source": [
    "# time series imports\n",
    "from statsmodels.tsa.arima_model import ARIMA\n",
    "from statsmodels.tsa.stattools import adfuller\n",
    "from statsmodels.graphics.tsaplots import plot_acf, plot_pacf\n",
    "from pmdarima.arima.utils import ndiffs\n",
    "from pmdarima import auto_arima\n",
    "\n",
    "import fbprophet"
   ]
  },
  {
   "cell_type": "markdown",
   "metadata": {},
   "source": [
    "<a id='section2'></a>"
   ]
  },
  {
   "cell_type": "markdown",
   "metadata": {},
   "source": [
    "### 2. Prepare DataFrame"
   ]
  },
  {
   "cell_type": "markdown",
   "metadata": {},
   "source": [
    "First, I'll need to prep my visitor dataframe into a format that's useful for time series. I'll start off by just cleaning up Yosemite's dataframe."
   ]
  },
  {
   "cell_type": "code",
   "execution_count": 96,
   "metadata": {},
   "outputs": [
    {
     "data": {
      "text/html": [
       "<div>\n",
       "<style scoped>\n",
       "    .dataframe tbody tr th:only-of-type {\n",
       "        vertical-align: middle;\n",
       "    }\n",
       "\n",
       "    .dataframe tbody tr th {\n",
       "        vertical-align: top;\n",
       "    }\n",
       "\n",
       "    .dataframe thead th {\n",
       "        text-align: right;\n",
       "    }\n",
       "</style>\n",
       "<table border=\"1\" class=\"dataframe\">\n",
       "  <thead>\n",
       "    <tr style=\"text-align: right;\">\n",
       "      <th></th>\n",
       "      <th>JAN</th>\n",
       "      <th>FEB</th>\n",
       "      <th>MAR</th>\n",
       "      <th>APR</th>\n",
       "      <th>MAY</th>\n",
       "      <th>JUN</th>\n",
       "      <th>JUL</th>\n",
       "      <th>AUG</th>\n",
       "      <th>SEP</th>\n",
       "      <th>OCT</th>\n",
       "      <th>NOV</th>\n",
       "      <th>DEC</th>\n",
       "      <th>Total</th>\n",
       "    </tr>\n",
       "    <tr>\n",
       "      <th>Year</th>\n",
       "      <th></th>\n",
       "      <th></th>\n",
       "      <th></th>\n",
       "      <th></th>\n",
       "      <th></th>\n",
       "      <th></th>\n",
       "      <th></th>\n",
       "      <th></th>\n",
       "      <th></th>\n",
       "      <th></th>\n",
       "      <th></th>\n",
       "      <th></th>\n",
       "      <th></th>\n",
       "    </tr>\n",
       "  </thead>\n",
       "  <tbody>\n",
       "    <tr>\n",
       "      <th>2020</th>\n",
       "      <td>132742</td>\n",
       "      <td>167778</td>\n",
       "      <td>136305</td>\n",
       "      <td>203944</td>\n",
       "      <td>330180</td>\n",
       "      <td>236260</td>\n",
       "      <td>469192</td>\n",
       "      <td>556572</td>\n",
       "      <td>428354</td>\n",
       "      <td>307513</td>\n",
       "      <td>149609</td>\n",
       "      <td>111929</td>\n",
       "      <td>1005972</td>\n",
       "    </tr>\n",
       "    <tr>\n",
       "      <th>2019</th>\n",
       "      <td>116746</td>\n",
       "      <td>111665</td>\n",
       "      <td>173610</td>\n",
       "      <td>297207</td>\n",
       "      <td>393004</td>\n",
       "      <td>496625</td>\n",
       "      <td>717462</td>\n",
       "      <td>703153</td>\n",
       "      <td>584664</td>\n",
       "      <td>448939</td>\n",
       "      <td>230598</td>\n",
       "      <td>149188</td>\n",
       "      <td>4422861</td>\n",
       "    </tr>\n",
       "    <tr>\n",
       "      <th>2018</th>\n",
       "      <td>129432</td>\n",
       "      <td>143321</td>\n",
       "      <td>170681</td>\n",
       "      <td>278349</td>\n",
       "      <td>385670</td>\n",
       "      <td>543690</td>\n",
       "      <td>504230</td>\n",
       "      <td>441867</td>\n",
       "      <td>524387</td>\n",
       "      <td>360776</td>\n",
       "      <td>215854</td>\n",
       "      <td>311179</td>\n",
       "      <td>4009436</td>\n",
       "    </tr>\n",
       "    <tr>\n",
       "      <th>2017</th>\n",
       "      <td>120025</td>\n",
       "      <td>119421</td>\n",
       "      <td>166793</td>\n",
       "      <td>302553</td>\n",
       "      <td>471844</td>\n",
       "      <td>565702</td>\n",
       "      <td>633351</td>\n",
       "      <td>615892</td>\n",
       "      <td>566279</td>\n",
       "      <td>429827</td>\n",
       "      <td>217927</td>\n",
       "      <td>127276</td>\n",
       "      <td>4336890</td>\n",
       "    </tr>\n",
       "    <tr>\n",
       "      <th>2016</th>\n",
       "      <td>139780</td>\n",
       "      <td>201601</td>\n",
       "      <td>286990</td>\n",
       "      <td>305092</td>\n",
       "      <td>457309</td>\n",
       "      <td>703614</td>\n",
       "      <td>780728</td>\n",
       "      <td>692450</td>\n",
       "      <td>598428</td>\n",
       "      <td>483232</td>\n",
       "      <td>218998</td>\n",
       "      <td>160646</td>\n",
       "      <td>5028868</td>\n",
       "    </tr>\n",
       "  </tbody>\n",
       "</table>\n",
       "</div>"
      ],
      "text/plain": [
       "         JAN     FEB     MAR     APR     MAY     JUN     JUL     AUG     SEP  \\\n",
       "Year                                                                           \n",
       "2020  132742  167778  136305  203944  330180  236260  469192  556572  428354   \n",
       "2019  116746  111665  173610  297207  393004  496625  717462  703153  584664   \n",
       "2018  129432  143321  170681  278349  385670  543690  504230  441867  524387   \n",
       "2017  120025  119421  166793  302553  471844  565702  633351  615892  566279   \n",
       "2016  139780  201601  286990  305092  457309  703614  780728  692450  598428   \n",
       "\n",
       "         OCT     NOV     DEC    Total  \n",
       "Year                                   \n",
       "2020  307513  149609  111929  1005972  \n",
       "2019  448939  230598  149188  4422861  \n",
       "2018  360776  215854  311179  4009436  \n",
       "2017  429827  217927  127276  4336890  \n",
       "2016  483232  218998  160646  5028868  "
      ]
     },
     "execution_count": 96,
     "metadata": {},
     "output_type": "execute_result"
    }
   ],
   "source": [
    "# using the Yosemite data as an example\n",
    "yosemite_df = pd.read_pickle(\"visitor_data/YOSE.pickle\")\n",
    "\n",
    "# clean up data and turn values into integers\n",
    "yosemite_df.iloc[:,1:] = yosemite_df.iloc[:,1:].replace(\"\\xa0\", 0)\n",
    "yosemite_df = yosemite_df.replace(\",\", '', regex=True).astype(int)\n",
    "\n",
    "# impute low, zero, or missing values with the mean\n",
    "for column in yosemite_df.columns.tolist()[1:]:\n",
    "    yosemite_df[column] = yosemite_df[column].map(lambda x: int(yosemite_df[column].mean()) if x < 100 else x)\n",
    "\n",
    "yosemite_df.set_index(\"Year\", inplace=True)\n",
    "\n",
    "yosemite_df.head()"
   ]
  },
  {
   "cell_type": "code",
   "execution_count": 97,
   "metadata": {},
   "outputs": [
    {
     "data": {
      "text/html": [
       "<div>\n",
       "<style scoped>\n",
       "    .dataframe tbody tr th:only-of-type {\n",
       "        vertical-align: middle;\n",
       "    }\n",
       "\n",
       "    .dataframe tbody tr th {\n",
       "        vertical-align: top;\n",
       "    }\n",
       "\n",
       "    .dataframe thead th {\n",
       "        text-align: right;\n",
       "    }\n",
       "</style>\n",
       "<table border=\"1\" class=\"dataframe\">\n",
       "  <thead>\n",
       "    <tr style=\"text-align: right;\">\n",
       "      <th></th>\n",
       "      <th>num_visitors</th>\n",
       "    </tr>\n",
       "  </thead>\n",
       "  <tbody>\n",
       "    <tr>\n",
       "      <th>1979-01-01</th>\n",
       "      <td>72701</td>\n",
       "    </tr>\n",
       "    <tr>\n",
       "      <th>1979-02-01</th>\n",
       "      <td>72926</td>\n",
       "    </tr>\n",
       "    <tr>\n",
       "      <th>1979-03-01</th>\n",
       "      <td>87950</td>\n",
       "    </tr>\n",
       "    <tr>\n",
       "      <th>1979-04-01</th>\n",
       "      <td>136275</td>\n",
       "    </tr>\n",
       "    <tr>\n",
       "      <th>1979-05-01</th>\n",
       "      <td>210756</td>\n",
       "    </tr>\n",
       "  </tbody>\n",
       "</table>\n",
       "</div>"
      ],
      "text/plain": [
       "            num_visitors\n",
       "1979-01-01         72701\n",
       "1979-02-01         72926\n",
       "1979-03-01         87950\n",
       "1979-04-01        136275\n",
       "1979-05-01        210756"
      ]
     },
     "execution_count": 97,
     "metadata": {},
     "output_type": "execute_result"
    }
   ],
   "source": [
    "park_df = pd.DataFrame(yosemite_df.drop(columns=[\"Total\"]).stack(), columns=[\"num_visitors\"])\n",
    "\n",
    "# turn year and month strings into a datetime object\n",
    "park_df.index = [(str(idx[0]) + \" \" + idx[1]) for idx in park_df.index]\n",
    "park_df.index = pd.to_datetime(park_df.index, format=\"%Y %b\")\n",
    "\n",
    "# remove all visitor values past March 2020 due to the coronavirus pandemic\n",
    "park_df = park_df[park_df.index < '2020-02-02']\n",
    "park_df.sort_index(ascending=True, inplace=True)\n",
    "\n",
    "park_df.head()"
   ]
  },
  {
   "cell_type": "markdown",
   "metadata": {},
   "source": [
    "<a id='section3'></a>"
   ]
  },
  {
   "cell_type": "markdown",
   "metadata": {},
   "source": [
    "### 3. Time Series Model Evaluation"
   ]
  },
  {
   "cell_type": "markdown",
   "metadata": {},
   "source": [
    "The Time Series models I want to evaluate are:\n",
    "* ARIMA\n",
    "* SARIMA\n",
    "* FB Prophet\n",
    "\n",
    "First, I need to split my data into a training and testing set. I also want to define a metric, in this case mean absolute percent error, to evaluate how good each model's predictions are."
   ]
  },
  {
   "cell_type": "code",
   "execution_count": 98,
   "metadata": {},
   "outputs": [],
   "source": [
    "def split_train_test(data, months: int):\n",
    "    '''\n",
    "    Split data into a training and testing set based on the number of months from the end date.\n",
    "    For example, if months awas 12, the data would be split into the last 12 months of the dataset and the rest\n",
    "    of the data.\n",
    "    \n",
    "    Parameters:\n",
    "    ------------\n",
    "    - data: Dataframe with data to split into training and testing\n",
    "    - months: number of months to split the data into\n",
    "    \n",
    "    Returns:\n",
    "    --------\n",
    "    - train_data: Dataframe of training data\n",
    "    - test_data: Dataframe of testing data\n",
    "    \n",
    "    '''\n",
    "    train_data = data.copy().iloc[:len(data)-months]\n",
    "    test_data = data.copy().iloc[len(data)-months:]\n",
    "    \n",
    "    return train_data, test_data"
   ]
  },
  {
   "cell_type": "code",
   "execution_count": 99,
   "metadata": {},
   "outputs": [],
   "source": [
    "# metric to gauge model performance\n",
    "def mape(y_true, y_pred):\n",
    "    '''\n",
    "    Returns the mean absolute percent error between the actual and predicted values.\n",
    "    \n",
    "    Parameters:\n",
    "    -----------\n",
    "    - y_true: the actual values\n",
    "    - y_pred: the model's predicted values\n",
    "    \n",
    "    Returns:\n",
    "    --------\n",
    "    - the mean absolute percent error between the actual and predicted values  \n",
    "    '''\n",
    "    \n",
    "    # reshape to make them the same shape\n",
    "    y_true = np.array(y_true).reshape(-1, 1)\n",
    "    y_pred = np.array(y_pred).reshape(-1, 1)\n",
    "    \n",
    "    error = (y_true - y_pred) / y_true\n",
    "    return np.mean(np.abs(error)) * 100"
   ]
  },
  {
   "cell_type": "markdown",
   "metadata": {},
   "source": [
    "Using AutoARIMA to find the best model with lowest AIC. AIC is Akaike's Information Criterion."
   ]
  },
  {
   "cell_type": "code",
   "execution_count": 100,
   "metadata": {},
   "outputs": [],
   "source": [
    "# train on everything up to 48 months or 4 years\n",
    "park_train, park_test = split_train_test(park_df, 48)"
   ]
  },
  {
   "cell_type": "code",
   "execution_count": 101,
   "metadata": {},
   "outputs": [
    {
     "name": "stdout",
     "output_type": "stream",
     "text": [
      "Performing stepwise search to minimize aic\n",
      " ARIMA(1,0,1)(0,0,0)[0]             : AIC=11365.515, Time=0.15 sec\n",
      " ARIMA(0,0,0)(0,0,0)[0]             : AIC=12604.594, Time=0.01 sec\n",
      " ARIMA(1,0,0)(0,0,0)[0]             : AIC=11526.466, Time=0.02 sec\n",
      " ARIMA(0,0,1)(0,0,0)[0]             : AIC=12264.158, Time=0.03 sec\n",
      " ARIMA(2,0,1)(0,0,0)[0]             : AIC=11274.092, Time=0.06 sec\n",
      " ARIMA(2,0,0)(0,0,0)[0]             : AIC=11272.421, Time=0.05 sec\n",
      " ARIMA(3,0,0)(0,0,0)[0]             : AIC=11273.725, Time=0.06 sec\n",
      " ARIMA(3,0,1)(0,0,0)[0]             : AIC=11274.613, Time=0.10 sec\n",
      " ARIMA(2,0,0)(0,0,0)[0] intercept   : AIC=11107.810, Time=0.08 sec\n",
      " ARIMA(1,0,0)(0,0,0)[0] intercept   : AIC=11500.644, Time=0.04 sec\n",
      " ARIMA(3,0,0)(0,0,0)[0] intercept   : AIC=11034.305, Time=0.10 sec\n",
      " ARIMA(3,0,1)(0,0,0)[0] intercept   : AIC=11034.910, Time=0.20 sec\n",
      " ARIMA(2,0,1)(0,0,0)[0] intercept   : AIC=11129.373, Time=0.22 sec\n",
      "\n",
      "Best model:  ARIMA(3,0,0)(0,0,0)[0] intercept\n",
      "Total fit time: 1.187 seconds\n"
     ]
    },
    {
     "data": {
      "text/html": [
       "<table class=\"simpletable\">\n",
       "<caption>SARIMAX Results</caption>\n",
       "<tr>\n",
       "  <th>Dep. Variable:</th>           <td>y</td>        <th>  No. Observations:  </th>    <td>446</td>   \n",
       "</tr>\n",
       "<tr>\n",
       "  <th>Model:</th>           <td>SARIMAX(3, 0, 0)</td> <th>  Log Likelihood     </th> <td>-5512.152</td>\n",
       "</tr>\n",
       "<tr>\n",
       "  <th>Date:</th>            <td>Sat, 12 Sep 2020</td> <th>  AIC                </th> <td>11034.305</td>\n",
       "</tr>\n",
       "<tr>\n",
       "  <th>Time:</th>                <td>16:34:36</td>     <th>  BIC                </th> <td>11054.806</td>\n",
       "</tr>\n",
       "<tr>\n",
       "  <th>Sample:</th>                  <td>0</td>        <th>  HQIC               </th> <td>11042.388</td>\n",
       "</tr>\n",
       "<tr>\n",
       "  <th></th>                      <td> - 446</td>      <th>                     </th>     <td> </td>    \n",
       "</tr>\n",
       "<tr>\n",
       "  <th>Covariance Type:</th>        <td>opg</td>       <th>                     </th>     <td> </td>    \n",
       "</tr>\n",
       "</table>\n",
       "<table class=\"simpletable\">\n",
       "<tr>\n",
       "      <td></td>         <th>coef</th>     <th>std err</th>      <th>z</th>      <th>P>|z|</th>  <th>[0.025</th>    <th>0.975]</th>  \n",
       "</tr>\n",
       "<tr>\n",
       "  <th>intercept</th> <td> 1.124e+05</td> <td> 6758.823</td> <td>   16.637</td> <td> 0.000</td> <td> 9.92e+04</td> <td> 1.26e+05</td>\n",
       "</tr>\n",
       "<tr>\n",
       "  <th>ar.L1</th>     <td>    1.1758</td> <td>    0.045</td> <td>   25.897</td> <td> 0.000</td> <td>    1.087</td> <td>    1.265</td>\n",
       "</tr>\n",
       "<tr>\n",
       "  <th>ar.L2</th>     <td>   -0.1787</td> <td>    0.079</td> <td>   -2.271</td> <td> 0.023</td> <td>   -0.333</td> <td>   -0.024</td>\n",
       "</tr>\n",
       "<tr>\n",
       "  <th>ar.L3</th>     <td>   -0.3963</td> <td>    0.049</td> <td>   -8.043</td> <td> 0.000</td> <td>   -0.493</td> <td>   -0.300</td>\n",
       "</tr>\n",
       "<tr>\n",
       "  <th>sigma2</th>    <td> 3.162e+09</td> <td>    0.055</td> <td> 5.78e+10</td> <td> 0.000</td> <td> 3.16e+09</td> <td> 3.16e+09</td>\n",
       "</tr>\n",
       "</table>\n",
       "<table class=\"simpletable\">\n",
       "<tr>\n",
       "  <th>Ljung-Box (Q):</th>          <td>901.75</td> <th>  Jarque-Bera (JB):  </th> <td>6.95</td>\n",
       "</tr>\n",
       "<tr>\n",
       "  <th>Prob(Q):</th>                 <td>0.00</td>  <th>  Prob(JB):          </th> <td>0.03</td>\n",
       "</tr>\n",
       "<tr>\n",
       "  <th>Heteroskedasticity (H):</th>  <td>0.75</td>  <th>  Skew:              </th> <td>0.01</td>\n",
       "</tr>\n",
       "<tr>\n",
       "  <th>Prob(H) (two-sided):</th>     <td>0.08</td>  <th>  Kurtosis:          </th> <td>3.61</td>\n",
       "</tr>\n",
       "</table><br/><br/>Warnings:<br/>[1] Covariance matrix calculated using the outer product of gradients (complex-step).<br/>[2] Covariance matrix is singular or near-singular, with condition number 3.32e+27. Standard errors may be unstable."
      ],
      "text/plain": [
       "<class 'statsmodels.iolib.summary.Summary'>\n",
       "\"\"\"\n",
       "                               SARIMAX Results                                \n",
       "==============================================================================\n",
       "Dep. Variable:                      y   No. Observations:                  446\n",
       "Model:               SARIMAX(3, 0, 0)   Log Likelihood               -5512.152\n",
       "Date:                Sat, 12 Sep 2020   AIC                          11034.305\n",
       "Time:                        16:34:36   BIC                          11054.806\n",
       "Sample:                             0   HQIC                         11042.388\n",
       "                                - 446                                         \n",
       "Covariance Type:                  opg                                         \n",
       "==============================================================================\n",
       "                 coef    std err          z      P>|z|      [0.025      0.975]\n",
       "------------------------------------------------------------------------------\n",
       "intercept   1.124e+05   6758.823     16.637      0.000    9.92e+04    1.26e+05\n",
       "ar.L1          1.1758      0.045     25.897      0.000       1.087       1.265\n",
       "ar.L2         -0.1787      0.079     -2.271      0.023      -0.333      -0.024\n",
       "ar.L3         -0.3963      0.049     -8.043      0.000      -0.493      -0.300\n",
       "sigma2      3.162e+09      0.055   5.78e+10      0.000    3.16e+09    3.16e+09\n",
       "===================================================================================\n",
       "Ljung-Box (Q):                      901.75   Jarque-Bera (JB):                 6.95\n",
       "Prob(Q):                              0.00   Prob(JB):                         0.03\n",
       "Heteroskedasticity (H):               0.75   Skew:                             0.01\n",
       "Prob(H) (two-sided):                  0.08   Kurtosis:                         3.61\n",
       "===================================================================================\n",
       "\n",
       "Warnings:\n",
       "[1] Covariance matrix calculated using the outer product of gradients (complex-step).\n",
       "[2] Covariance matrix is singular or near-singular, with condition number 3.32e+27. Standard errors may be unstable.\n",
       "\"\"\""
      ]
     },
     "execution_count": 101,
     "metadata": {},
     "output_type": "execute_result"
    }
   ],
   "source": [
    "best_arima = auto_arima(park_train[\"num_visitors\"].values, start_p = 1, start_q = 1,\n",
    "                        test='adf', max_p = 3, max_q = 3, m=1, d=None, seasonal=False,\n",
    "                        start_P=0, D=1, trace=True, error_action='ignore', suppress_warnings=True, stepwise=True)\n",
    "best_arima.summary()"
   ]
  },
  {
   "cell_type": "code",
   "execution_count": 102,
   "metadata": {},
   "outputs": [],
   "source": [
    "# evaluate model\n",
    "n_periods = 48\n",
    "arima_predictions = best_arima.predict(n_periods=n_periods)"
   ]
  },
  {
   "cell_type": "code",
   "execution_count": 104,
   "metadata": {},
   "outputs": [
    {
     "data": {
      "text/plain": [
       "50.24949797173145"
      ]
     },
     "execution_count": 104,
     "metadata": {},
     "output_type": "execute_result"
    }
   ],
   "source": [
    "# pretty bad, 50% error\n",
    "arima_mape = mape(park_test[\"num_visitors\"].values, arima_predictions)\n",
    "arima_mape"
   ]
  },
  {
   "cell_type": "code",
   "execution_count": 105,
   "metadata": {},
   "outputs": [
    {
     "data": {
      "image/png": "[encoded data removed]",
      "text/plain": [
       "<Figure size 432x288 with 1 Axes>"
      ]
     },
     "metadata": {
      "needs_background": "light"
     },
     "output_type": "display_data"
    }
   ],
   "source": [
    "# plot predicted values vs actual values\n",
    "comparison = pd.DataFrame(arima_predictions)\n",
    "comparison[\"actual\"] = pd.Series(park_test[\"num_visitors\"].values, index=comparison.index)\n",
    "comparison = comparison.rename(columns={0:\"prediction\"})\n",
    "comparison.plot();"
   ]
  },
  {
   "cell_type": "markdown",
   "metadata": {},
   "source": [
    "I've tried ARIMA without seasonality, but what about SARIMA with seasonality?"
   ]
  },
  {
   "cell_type": "code",
   "execution_count": 106,
   "metadata": {},
   "outputs": [
    {
     "name": "stdout",
     "output_type": "stream",
     "text": [
      "Performing stepwise search to minimize aic\n",
      " ARIMA(1,0,1)(0,1,1)[12] intercept   : AIC=10235.772, Time=0.46 sec\n",
      " ARIMA(0,0,0)(0,1,0)[12] intercept   : AIC=10336.282, Time=0.03 sec\n",
      " ARIMA(1,0,0)(1,1,0)[12] intercept   : AIC=10245.842, Time=0.23 sec\n",
      " ARIMA(0,0,1)(0,1,1)[12] intercept   : AIC=10261.408, Time=0.23 sec\n",
      " ARIMA(0,0,0)(0,1,0)[12]             : AIC=10340.748, Time=0.03 sec\n",
      " ARIMA(1,0,1)(0,1,0)[12] intercept   : AIC=10289.603, Time=0.14 sec\n",
      " ARIMA(1,0,1)(1,1,1)[12] intercept   : AIC=10237.641, Time=0.62 sec\n",
      " ARIMA(1,0,1)(0,1,2)[12] intercept   : AIC=10237.315, Time=0.83 sec\n",
      " ARIMA(1,0,1)(1,1,0)[12] intercept   : AIC=10245.823, Time=0.38 sec\n",
      " ARIMA(1,0,1)(1,1,2)[12] intercept   : AIC=10238.038, Time=1.81 sec\n",
      " ARIMA(1,0,0)(0,1,1)[12] intercept   : AIC=10235.696, Time=0.25 sec\n",
      " ARIMA(1,0,0)(0,1,0)[12] intercept   : AIC=10287.901, Time=0.06 sec\n",
      " ARIMA(1,0,0)(1,1,1)[12] intercept   : AIC=10237.305, Time=0.40 sec\n",
      " ARIMA(1,0,0)(0,1,2)[12] intercept   : AIC=10237.137, Time=0.64 sec\n",
      " ARIMA(1,0,0)(1,1,2)[12] intercept   : AIC=10239.095, Time=1.21 sec\n",
      " ARIMA(0,0,0)(0,1,1)[12] intercept   : AIC=10320.644, Time=0.21 sec\n",
      " ARIMA(2,0,0)(0,1,1)[12] intercept   : AIC=10235.011, Time=0.35 sec\n",
      " ARIMA(2,0,0)(0,1,0)[12] intercept   : AIC=10289.619, Time=0.07 sec\n",
      " ARIMA(2,0,0)(1,1,1)[12] intercept   : AIC=10236.741, Time=0.49 sec\n",
      " ARIMA(2,0,0)(0,1,2)[12] intercept   : AIC=10236.521, Time=0.83 sec\n",
      " ARIMA(2,0,0)(1,1,0)[12] intercept   : AIC=10245.950, Time=0.34 sec\n",
      " ARIMA(2,0,0)(1,1,2)[12] intercept   : AIC=10238.323, Time=0.87 sec\n",
      " ARIMA(3,0,0)(0,1,1)[12] intercept   : AIC=10236.838, Time=0.41 sec\n",
      " ARIMA(2,0,1)(0,1,1)[12] intercept   : AIC=10236.970, Time=0.64 sec\n",
      " ARIMA(3,0,1)(0,1,1)[12] intercept   : AIC=10238.465, Time=0.86 sec\n",
      " ARIMA(2,0,0)(0,1,1)[12]             : AIC=10239.361, Time=0.27 sec\n",
      "\n",
      "Best model:  ARIMA(2,0,0)(0,1,1)[12] intercept\n",
      "Total fit time: 12.669 seconds\n"
     ]
    },
    {
     "data": {
      "text/html": [
       "<table class=\"simpletable\">\n",
       "<caption>SARIMAX Results</caption>\n",
       "<tr>\n",
       "  <th>Dep. Variable:</th>                   <td>y</td>                <th>  No. Observations:  </th>    <td>446</td>   \n",
       "</tr>\n",
       "<tr>\n",
       "  <th>Model:</th>           <td>SARIMAX(2, 0, 0)x(0, 1, [1], 12)</td> <th>  Log Likelihood     </th> <td>-5112.505</td>\n",
       "</tr>\n",
       "<tr>\n",
       "  <th>Date:</th>                    <td>Sat, 12 Sep 2020</td>         <th>  AIC                </th> <td>10235.011</td>\n",
       "</tr>\n",
       "<tr>\n",
       "  <th>Time:</th>                        <td>16:35:04</td>             <th>  BIC                </th> <td>10255.376</td>\n",
       "</tr>\n",
       "<tr>\n",
       "  <th>Sample:</th>                          <td>0</td>                <th>  HQIC               </th> <td>10243.050</td>\n",
       "</tr>\n",
       "<tr>\n",
       "  <th></th>                              <td> - 446</td>              <th>                     </th>     <td> </td>    \n",
       "</tr>\n",
       "<tr>\n",
       "  <th>Covariance Type:</th>                <td>opg</td>               <th>                     </th>     <td> </td>    \n",
       "</tr>\n",
       "</table>\n",
       "<table class=\"simpletable\">\n",
       "<tr>\n",
       "      <td></td>         <th>coef</th>     <th>std err</th>      <th>z</th>      <th>P>|z|</th>  <th>[0.025</th>    <th>0.975]</th>  \n",
       "</tr>\n",
       "<tr>\n",
       "  <th>intercept</th> <td> 2859.5396</td> <td> 1038.042</td> <td>    2.755</td> <td> 0.006</td> <td>  825.014</td> <td> 4894.065</td>\n",
       "</tr>\n",
       "<tr>\n",
       "  <th>ar.L1</th>     <td>    0.4825</td> <td>    0.045</td> <td>   10.762</td> <td> 0.000</td> <td>    0.395</td> <td>    0.570</td>\n",
       "</tr>\n",
       "<tr>\n",
       "  <th>ar.L2</th>     <td>    0.0835</td> <td>    0.053</td> <td>    1.580</td> <td> 0.114</td> <td>   -0.020</td> <td>    0.187</td>\n",
       "</tr>\n",
       "<tr>\n",
       "  <th>ma.S.L12</th>  <td>   -0.4344</td> <td>    0.033</td> <td>  -13.249</td> <td> 0.000</td> <td>   -0.499</td> <td>   -0.370</td>\n",
       "</tr>\n",
       "<tr>\n",
       "  <th>sigma2</th>    <td>  1.14e+09</td> <td>    0.004</td> <td> 2.63e+11</td> <td> 0.000</td> <td> 1.14e+09</td> <td> 1.14e+09</td>\n",
       "</tr>\n",
       "</table>\n",
       "<table class=\"simpletable\">\n",
       "<tr>\n",
       "  <th>Ljung-Box (Q):</th>          <td>63.37</td> <th>  Jarque-Bera (JB):  </th> <td>228.40</td>\n",
       "</tr>\n",
       "<tr>\n",
       "  <th>Prob(Q):</th>                <td>0.01</td>  <th>  Prob(JB):          </th>  <td>0.00</td> \n",
       "</tr>\n",
       "<tr>\n",
       "  <th>Heteroskedasticity (H):</th> <td>0.72</td>  <th>  Skew:              </th>  <td>-0.28</td>\n",
       "</tr>\n",
       "<tr>\n",
       "  <th>Prob(H) (two-sided):</th>    <td>0.05</td>  <th>  Kurtosis:          </th>  <td>6.51</td> \n",
       "</tr>\n",
       "</table><br/><br/>Warnings:<br/>[1] Covariance matrix calculated using the outer product of gradients (complex-step).<br/>[2] Covariance matrix is singular or near-singular, with condition number 4.7e+26. Standard errors may be unstable."
      ],
      "text/plain": [
       "<class 'statsmodels.iolib.summary.Summary'>\n",
       "\"\"\"\n",
       "                                      SARIMAX Results                                       \n",
       "============================================================================================\n",
       "Dep. Variable:                                    y   No. Observations:                  446\n",
       "Model:             SARIMAX(2, 0, 0)x(0, 1, [1], 12)   Log Likelihood               -5112.505\n",
       "Date:                              Sat, 12 Sep 2020   AIC                          10235.011\n",
       "Time:                                      16:35:04   BIC                          10255.376\n",
       "Sample:                                           0   HQIC                         10243.050\n",
       "                                              - 446                                         \n",
       "Covariance Type:                                opg                                         \n",
       "==============================================================================\n",
       "                 coef    std err          z      P>|z|      [0.025      0.975]\n",
       "------------------------------------------------------------------------------\n",
       "intercept   2859.5396   1038.042      2.755      0.006     825.014    4894.065\n",
       "ar.L1          0.4825      0.045     10.762      0.000       0.395       0.570\n",
       "ar.L2          0.0835      0.053      1.580      0.114      -0.020       0.187\n",
       "ma.S.L12      -0.4344      0.033    -13.249      0.000      -0.499      -0.370\n",
       "sigma2       1.14e+09      0.004   2.63e+11      0.000    1.14e+09    1.14e+09\n",
       "===================================================================================\n",
       "Ljung-Box (Q):                       63.37   Jarque-Bera (JB):               228.40\n",
       "Prob(Q):                              0.01   Prob(JB):                         0.00\n",
       "Heteroskedasticity (H):               0.72   Skew:                            -0.28\n",
       "Prob(H) (two-sided):                  0.05   Kurtosis:                         6.51\n",
       "===================================================================================\n",
       "\n",
       "Warnings:\n",
       "[1] Covariance matrix calculated using the outer product of gradients (complex-step).\n",
       "[2] Covariance matrix is singular or near-singular, with condition number 4.7e+26. Standard errors may be unstable.\n",
       "\"\"\""
      ]
     },
     "execution_count": 106,
     "metadata": {},
     "output_type": "execute_result"
    }
   ],
   "source": [
    "best_sarima = auto_arima(park_train[\"num_visitors\"].values, start_p = 1, start_q = 1,\n",
    "                        test='adf', max_p = 3, max_q = 3, m=12, d=None, seasonal=True, disp=-1,\n",
    "                        start_P=0, D=1, trace=True, error_action='ignore', suppress_warnings=True, stepwise=True)\n",
    "best_sarima.summary()"
   ]
  },
  {
   "cell_type": "code",
   "execution_count": 107,
   "metadata": {},
   "outputs": [],
   "source": [
    "# evaluate model\n",
    "n_periods = 48\n",
    "sarima_predictions = best_sarima.predict(n_periods=n_periods)"
   ]
  },
  {
   "cell_type": "code",
   "execution_count": 108,
   "metadata": {},
   "outputs": [
    {
     "data": {
      "text/plain": [
       "17.022279733249192"
      ]
     },
     "execution_count": 108,
     "metadata": {},
     "output_type": "execute_result"
    }
   ],
   "source": [
    "# not bad, 17% error\n",
    "sarima_mape = mape(park_test[\"num_visitors\"].values, sarima_predictions)\n",
    "sarima_mape"
   ]
  },
  {
   "cell_type": "code",
   "execution_count": 109,
   "metadata": {},
   "outputs": [
    {
     "data": {
      "image/png": "[encoded data removed]",
      "text/plain": [
       "<Figure size 432x288 with 1 Axes>"
      ]
     },
     "metadata": {
      "needs_background": "light"
     },
     "output_type": "display_data"
    }
   ],
   "source": [
    "comparison = pd.DataFrame(sarima_predictions)\n",
    "comparison[\"actual\"] = pd.Series(park_test[\"num_visitors\"].values, index=comparison.index)\n",
    "comparison = comparison.rename(columns={0:\"prediction\"})\n",
    "comparison.plot();"
   ]
  },
  {
   "cell_type": "markdown",
   "metadata": {},
   "source": [
    "Now to try FB Prophet"
   ]
  },
  {
   "cell_type": "code",
   "execution_count": 110,
   "metadata": {},
   "outputs": [],
   "source": [
    "fb_model = fbprophet.Prophet()"
   ]
  },
  {
   "cell_type": "code",
   "execution_count": 111,
   "metadata": {},
   "outputs": [
    {
     "name": "stderr",
     "output_type": "stream",
     "text": [
      "INFO:fbprophet:Disabling weekly seasonality. Run prophet with weekly_seasonality=True to override this.\n",
      "INFO:fbprophet:Disabling daily seasonality. Run prophet with daily_seasonality=True to override this.\n"
     ]
    },
    {
     "data": {
      "text/html": [
       "<div>\n",
       "<style scoped>\n",
       "    .dataframe tbody tr th:only-of-type {\n",
       "        vertical-align: middle;\n",
       "    }\n",
       "\n",
       "    .dataframe tbody tr th {\n",
       "        vertical-align: top;\n",
       "    }\n",
       "\n",
       "    .dataframe thead th {\n",
       "        text-align: right;\n",
       "    }\n",
       "</style>\n",
       "<table border=\"1\" class=\"dataframe\">\n",
       "  <thead>\n",
       "    <tr style=\"text-align: right;\">\n",
       "      <th></th>\n",
       "      <th>ds</th>\n",
       "      <th>y</th>\n",
       "    </tr>\n",
       "  </thead>\n",
       "  <tbody>\n",
       "    <tr>\n",
       "      <th>0</th>\n",
       "      <td>1979-01-01</td>\n",
       "      <td>72701</td>\n",
       "    </tr>\n",
       "    <tr>\n",
       "      <th>1</th>\n",
       "      <td>1979-02-01</td>\n",
       "      <td>72926</td>\n",
       "    </tr>\n",
       "    <tr>\n",
       "      <th>2</th>\n",
       "      <td>1979-03-01</td>\n",
       "      <td>87950</td>\n",
       "    </tr>\n",
       "    <tr>\n",
       "      <th>3</th>\n",
       "      <td>1979-04-01</td>\n",
       "      <td>136275</td>\n",
       "    </tr>\n",
       "    <tr>\n",
       "      <th>4</th>\n",
       "      <td>1979-05-01</td>\n",
       "      <td>210756</td>\n",
       "    </tr>\n",
       "  </tbody>\n",
       "</table>\n",
       "</div>"
      ],
      "text/plain": [
       "          ds       y\n",
       "0 1979-01-01   72701\n",
       "1 1979-02-01   72926\n",
       "2 1979-03-01   87950\n",
       "3 1979-04-01  136275\n",
       "4 1979-05-01  210756"
      ]
     },
     "execution_count": 111,
     "metadata": {},
     "output_type": "execute_result"
    }
   ],
   "source": [
    "park_train_df = park_train.reset_index()\n",
    "park_train_df.columns=[\"ds\", \"y\"]\n",
    "fb_model.fit(park_train_df)\n",
    "\n",
    "park_train_df.head()"
   ]
  },
  {
   "cell_type": "code",
   "execution_count": 112,
   "metadata": {},
   "outputs": [],
   "source": [
    "future = fb_model.make_future_dataframe(periods=48, freq='m')\n",
    "forecast = fb_model.predict(future)\n",
    "fb_predictions = forecast[['yhat']].tail(48)['yhat'].values.tolist()"
   ]
  },
  {
   "cell_type": "code",
   "execution_count": 114,
   "metadata": {},
   "outputs": [
    {
     "data": {
      "text/plain": [
       "20.149310479192376"
      ]
     },
     "execution_count": 114,
     "metadata": {},
     "output_type": "execute_result"
    }
   ],
   "source": [
    "# not bad, 20% error\n",
    "fb_prophet_mape = mape(park_test[\"num_visitors\"].values, fb_predictions)\n",
    "fb_prophet_mape"
   ]
  },
  {
   "cell_type": "code",
   "execution_count": 115,
   "metadata": {},
   "outputs": [
    {
     "data": {
      "image/png": "[encoded data removed]",
      "text/plain": [
       "<Figure size 432x288 with 1 Axes>"
      ]
     },
     "metadata": {
      "needs_background": "light"
     },
     "output_type": "display_data"
    }
   ],
   "source": [
    "comparison = pd.DataFrame(fb_predictions)\n",
    "comparison[\"actual\"] = pd.Series(park_test[\"num_visitors\"].values, index=comparison.index)\n",
    "comparison = comparison.rename(columns={0:\"prediction\"})\n",
    "comparison.plot();"
   ]
  },
  {
   "cell_type": "code",
   "execution_count": 149,
   "metadata": {},
   "outputs": [],
   "source": [
    "# keep track of the errors for each model and save them to a dataframe\n",
    "error_dict = {\"park\": \"YOSE\", \"ARIMA_mape\": arima_mape, \n",
    "              \"SARIMA_mape\": sarima_mape, \"FB_Prophet_mape\": fb_prophet_mape}"
   ]
  },
  {
   "cell_type": "code",
   "execution_count": 150,
   "metadata": {},
   "outputs": [
    {
     "data": {
      "text/html": [
       "<div>\n",
       "<style scoped>\n",
       "    .dataframe tbody tr th:only-of-type {\n",
       "        vertical-align: middle;\n",
       "    }\n",
       "\n",
       "    .dataframe tbody tr th {\n",
       "        vertical-align: top;\n",
       "    }\n",
       "\n",
       "    .dataframe thead th {\n",
       "        text-align: right;\n",
       "    }\n",
       "</style>\n",
       "<table border=\"1\" class=\"dataframe\">\n",
       "  <thead>\n",
       "    <tr style=\"text-align: right;\">\n",
       "      <th></th>\n",
       "      <th>park</th>\n",
       "      <th>ARIMA_mape</th>\n",
       "      <th>SARIMA_mape</th>\n",
       "      <th>FB_Prophet_mape</th>\n",
       "    </tr>\n",
       "  </thead>\n",
       "  <tbody>\n",
       "    <tr>\n",
       "      <th>0</th>\n",
       "      <td>YOSE</td>\n",
       "      <td>50.249498</td>\n",
       "      <td>17.02228</td>\n",
       "      <td>20.14931</td>\n",
       "    </tr>\n",
       "  </tbody>\n",
       "</table>\n",
       "</div>"
      ],
      "text/plain": [
       "   park  ARIMA_mape  SARIMA_mape  FB_Prophet_mape\n",
       "0  YOSE   50.249498     17.02228         20.14931"
      ]
     },
     "execution_count": 150,
     "metadata": {},
     "output_type": "execute_result"
    }
   ],
   "source": [
    "pd.DataFrame(error_dict, index=[0])"
   ]
  },
  {
   "cell_type": "markdown",
   "metadata": {},
   "source": [
    "<a id='section4'></a>"
   ]
  },
  {
   "cell_type": "markdown",
   "metadata": {},
   "source": [
    "### 4. Model Error"
   ]
  },
  {
   "cell_type": "markdown",
   "metadata": {},
   "source": [
    "Now that I know how to evaluate models for one national park, I can create functions to evaluate the top 10 most visited national visitor counts using different time series models."
   ]
  },
  {
   "cell_type": "code",
   "execution_count": 49,
   "metadata": {},
   "outputs": [],
   "source": [
    "def prep_data(park_code):\n",
    "    '''\n",
    "    Clean and prep the dataframe related to the park code for time series modeling.\n",
    "    Years and month data needs to be combined into a datetime object, missing or low values\n",
    "    are imputed, and visitor counts are turned into an integer.\n",
    "    \n",
    "    Parameters:\n",
    "    -----------\n",
    "    - park_code: the 4 letter code corresponding to a park, such as \"YOSE\" for Yosemite\n",
    "    \n",
    "    Returns:\n",
    "    --------\n",
    "    - park_df: Dataframe with date and visitor count formatted to do time series modeling\n",
    "    '''\n",
    "    \n",
    "    # read in the dataframe\n",
    "    park_df = pd.read_pickle(f\"visitor_data/{park_code}.pickle\")\n",
    "    \n",
    "    # clean up visitor number values and turn them into integers\n",
    "    park_df.iloc[:,1:] = park_df.iloc[:,1:].replace(\"\\xa0\", 0)\n",
    "    park_df = park_df.replace(\",\", '', regex=True).astype(int)\n",
    "    \n",
    "    # impute visitor values less than 100 with the mean visitor count of that month\n",
    "    for column in park_df.columns.tolist()[1:]:\n",
    "        park_df[column] = park_df[column].map(lambda x: int(park_df[column].mean()) \n",
    "                                              if x < 100 else x)\n",
    "    \n",
    "    # make the index the date so that all values in the dataframe are visitor counts\n",
    "    park_df.set_index(\"Year\", inplace=True)\n",
    "    park_df.drop(columns=[\"Total\"], inplace=True)\n",
    "    \n",
    "    # make the visitor counts into one column\n",
    "    park_df = pd.DataFrame(park_df.stack(), columns=[\"num_visitors\"])\n",
    "    \n",
    "    park_df.index = [(str(idx[0]) + \" \" + idx[1]) for idx in park_df.index]\n",
    "    park_df.index = pd.to_datetime(park_df.index, format=\"%Y %b\")\n",
    "    \n",
    "    # remove dates after February 2020 due to the coronavirus pandemic\n",
    "    park_df = park_df[park_df.index < '2020-02-02']\n",
    "    park_df.sort_index(ascending=True, inplace=True)\n",
    "    \n",
    "    return park_df"
   ]
  },
  {
   "cell_type": "code",
   "execution_count": 50,
   "metadata": {},
   "outputs": [],
   "source": [
    "def evaluate_models(data, months, park_code):\n",
    "    '''\n",
    "    Evaluate different time series models based on mean absolute percent error and save the values\n",
    "    into a dictionary.\n",
    "    \n",
    "    Parameters:\n",
    "    -----------\n",
    "    - data: (generally refers to output from the prep_data function) a cleaned dataframe\n",
    "            with date and visitor counts\n",
    "    - months: the number of months to split the data into training and testing sets\n",
    "    - park_code: the 4 letter code corresponding to a park, such as \"YOSE\" for Yosemite\n",
    "    \n",
    "    Returns:\n",
    "    --------\n",
    "    - error_dict: a dictionary that capture the mean absolute percent error for 3 different time series models\n",
    "                  on the data\n",
    "    \n",
    "    '''\n",
    "    error_dict = {}\n",
    "    \n",
    "    train_data, test_data = split_train_test(data, months)\n",
    "    \n",
    "    arima_mape = arima_error(train_data, test_data, months)\n",
    "    sarima_mape = sarima_error(train_data, test_data, months)\n",
    "    fb_prophet_mape = fb_prophet_error(train_data, test_data, months)\n",
    "    \n",
    "    \n",
    "    error_dict[\"park_code\"] = park_code\n",
    "    error_dict[\"ARIMA_mape\"] = arima_mape\n",
    "    error_dict[\"SARIMA_mape\"] = sarima_mape\n",
    "    error_dict[\"FB_Prophet_mape\"] = fb_prophet_mape\n",
    "    \n",
    "    return error_dict"
   ]
  },
  {
   "cell_type": "code",
   "execution_count": 51,
   "metadata": {},
   "outputs": [],
   "source": [
    "def arima_error(train_data, test_data, months):\n",
    "    '''\n",
    "    Fit an ARIMA model to the data and return the mean absolute percent error for the prediction\n",
    "    \n",
    "    Parameters:\n",
    "    -----------\n",
    "    - train_data: the training data (date and visitor counts) after splitting the original dataset\n",
    "    - test_data: the testing data (date and visitor counts) after splitting the original dataset\n",
    "    \n",
    "    Returns:\n",
    "    --------\n",
    "    - arima_mape: mean absolute percent error for an ARIMA model fit to the data\n",
    "    '''\n",
    "    \n",
    "    best_arima = auto_arima(train_data[\"num_visitors\"].values, start_p = 1, start_q = 1,\n",
    "                        test='adf', max_p = 3, max_q = 3, m=1, d=None, seasonal=False, disp=-1,\n",
    "                        start_P=0, D=1, trace=True, error_action='ignore', suppress_warnings=True, stepwise=True)\n",
    "    \n",
    "    arima_predictions = best_arima.predict(n_periods=months)\n",
    "    arima_mape = mape(test_data[\"num_visitors\"].values, arima_predictions)\n",
    "    \n",
    "    return arima_mape"
   ]
  },
  {
   "cell_type": "code",
   "execution_count": 52,
   "metadata": {},
   "outputs": [],
   "source": [
    "def sarima_error(train_data, test_data, months):\n",
    "    '''\n",
    "    Fit a SARIMA model to the data and return the mean absolute percent error for the prediction\n",
    "    \n",
    "    Parameters:\n",
    "    -----------\n",
    "    - train_data: the training data (date and visitor counts) after splitting the original dataset\n",
    "    - test_data: the testing data (date and visitor counts) after splitting the original dataset\n",
    "    \n",
    "    Returns:\n",
    "    --------\n",
    "    - sarima_mape: mean absolute percent error for a SARIMA model fit to the data\n",
    "    '''\n",
    "    \n",
    "    best_sarima = auto_arima(train_data[\"num_visitors\"].values, start_p = 1, start_q = 1,\n",
    "                        test='adf', max_p = 3, max_q = 3, m=12, d=None, seasonal=True,\n",
    "                        start_P=0, D=1, trace=True, error_action='ignore', suppress_warnings=True, stepwise=True)\n",
    "    \n",
    "    sarima_predictions = best_sarima.predict(n_periods=months)\n",
    "    sarima_mape = mape(test_data[\"num_visitors\"].values, sarima_predictions)\n",
    "    \n",
    "    return sarima_mape"
   ]
  },
  {
   "cell_type": "code",
   "execution_count": 53,
   "metadata": {},
   "outputs": [],
   "source": [
    "def fb_prophet_error(train_data, test_data, months):\n",
    "    '''\n",
    "    Fit a FB Prophet model to the data and return the mean absolute percent error for the prediction\n",
    "    \n",
    "    Parameters:\n",
    "    -----------\n",
    "    - train_data: the training data (date and visitor counts) after splitting the original dataset\n",
    "    - test_data: the testing data (date and visitor counts) after splitting the original dataset\n",
    "    \n",
    "    Returns:\n",
    "    --------\n",
    "    - fb_mape: mean absolute percent error for a FB Prophet model fit to the data\n",
    "    '''\n",
    "    \n",
    "    fb_model = fbprophet.Prophet()\n",
    "    \n",
    "    park_train_df = train_data.copy()\n",
    "    park_train_df = park_train_df.reset_index()\n",
    "    park_train_df.columns=[\"ds\", \"y\"]\n",
    "    \n",
    "    fb_model.fit(park_train_df)\n",
    "    \n",
    "    future = fb_model.make_future_dataframe(periods=months, freq='m')\n",
    "    forecast = fb_model.predict(future)\n",
    "    fb_predictions = forecast[['yhat']].tail(48).values.tolist()\n",
    "    \n",
    "    fb_mape = mape(test_data[\"num_visitors\"].values, fb_predictions)\n",
    "    \n",
    "    return fb_mape"
   ]
  },
  {
   "cell_type": "code",
   "execution_count": 169,
   "metadata": {},
   "outputs": [],
   "source": [
    "top_10_park_codes = ['ACAD',\n",
    " 'GLAC',\n",
    " 'GRCA',\n",
    " 'GRTE',\n",
    " 'GRSM',\n",
    " 'OLYM',\n",
    " 'ROMO',\n",
    " 'YELL',\n",
    " 'YOSE',\n",
    " 'ZION']"
   ]
  },
  {
   "cell_type": "code",
   "execution_count": 170,
   "metadata": {},
   "outputs": [
    {
     "name": "stdout",
     "output_type": "stream",
     "text": [
      "Performing stepwise search to minimize aic\n",
      " ARIMA(1,0,1)(0,0,0)[0]             : AIC=11755.938, Time=0.04 sec\n",
      " ARIMA(0,0,0)(0,0,0)[0]             : AIC=12614.897, Time=0.01 sec\n",
      " ARIMA(1,0,0)(0,0,0)[0]             : AIC=11861.768, Time=0.02 sec\n",
      " ARIMA(0,0,1)(0,0,0)[0]             : AIC=12266.214, Time=0.02 sec\n",
      " ARIMA(2,0,1)(0,0,0)[0]             : AIC=11715.363, Time=0.04 sec\n",
      " ARIMA(2,0,0)(0,0,0)[0]             : AIC=11714.255, Time=0.02 sec\n",
      " ARIMA(3,0,0)(0,0,0)[0]             : AIC=11715.088, Time=0.03 sec\n",
      " ARIMA(3,0,1)(0,0,0)[0]             : AIC=11716.877, Time=0.11 sec\n",
      " ARIMA(2,0,0)(0,0,0)[0] intercept   : AIC=11629.139, Time=0.05 sec\n",
      " ARIMA(1,0,0)(0,0,0)[0] intercept   : AIC=11840.612, Time=0.03 sec\n",
      " ARIMA(3,0,0)(0,0,0)[0] intercept   : AIC=11594.636, Time=0.06 sec\n",
      " ARIMA(3,0,1)(0,0,0)[0] intercept   : AIC=11587.504, Time=0.19 sec\n",
      " ARIMA(2,0,1)(0,0,0)[0] intercept   : AIC=11616.695, Time=0.21 sec\n",
      " ARIMA(3,0,2)(0,0,0)[0] intercept   : AIC=11567.286, Time=0.73 sec\n",
      " ARIMA(2,0,2)(0,0,0)[0] intercept   : AIC=11632.083, Time=0.26 sec\n",
      " ARIMA(3,0,3)(0,0,0)[0] intercept   : AIC=inf, Time=0.72 sec\n",
      " ARIMA(2,0,3)(0,0,0)[0] intercept   : AIC=inf, Time=0.52 sec\n",
      " ARIMA(3,0,2)(0,0,0)[0]             : AIC=inf, Time=0.49 sec\n",
      "\n",
      "Best model:  ARIMA(3,0,2)(0,0,0)[0] intercept\n",
      "Total fit time: 3.557 seconds\n",
      "Performing stepwise search to minimize aic\n",
      " ARIMA(1,0,1)(0,1,1)[12] intercept   : AIC=10592.481, Time=0.34 sec\n",
      " ARIMA(0,0,0)(0,1,0)[12] intercept   : AIC=10892.473, Time=0.02 sec\n",
      " ARIMA(1,0,0)(1,1,0)[12] intercept   : AIC=10612.194, Time=0.22 sec\n",
      " ARIMA(0,0,1)(0,1,1)[12] intercept   : AIC=10731.512, Time=0.20 sec\n",
      " ARIMA(0,0,0)(0,1,0)[12]             : AIC=10890.637, Time=0.02 sec\n",
      " ARIMA(1,0,1)(0,1,0)[12] intercept   : AIC=10621.851, Time=0.10 sec\n",
      " ARIMA(1,0,1)(1,1,1)[12] intercept   : AIC=10583.463, Time=0.62 sec\n",
      " ARIMA(1,0,1)(1,1,0)[12] intercept   : AIC=10600.974, Time=0.32 sec\n",
      " ARIMA(1,0,1)(2,1,1)[12] intercept   : AIC=10585.356, Time=1.42 sec\n",
      " ARIMA(1,0,1)(1,1,2)[12] intercept   : AIC=10585.395, Time=1.46 sec\n",
      " ARIMA(1,0,1)(0,1,2)[12] intercept   : AIC=10585.130, Time=0.76 sec\n",
      " ARIMA(1,0,1)(2,1,0)[12] intercept   : AIC=10593.811, Time=0.78 sec\n",
      " ARIMA(1,0,1)(2,1,2)[12] intercept   : AIC=10585.777, Time=3.00 sec\n",
      " ARIMA(0,0,1)(1,1,1)[12] intercept   : AIC=10728.397, Time=0.46 sec\n",
      " ARIMA(1,0,0)(1,1,1)[12] intercept   : AIC=10589.419, Time=0.52 sec\n",
      " ARIMA(2,0,1)(1,1,1)[12] intercept   : AIC=10585.088, Time=0.87 sec\n",
      " ARIMA(1,0,2)(1,1,1)[12] intercept   : AIC=10583.052, Time=0.90 sec\n",
      " ARIMA(1,0,2)(0,1,1)[12] intercept   : AIC=10591.774, Time=0.46 sec\n",
      " ARIMA(1,0,2)(1,1,0)[12] intercept   : AIC=10601.384, Time=0.40 sec\n",
      " ARIMA(1,0,2)(2,1,1)[12] intercept   : AIC=10584.536, Time=1.57 sec\n",
      " ARIMA(1,0,2)(1,1,2)[12] intercept   : AIC=10584.591, Time=1.61 sec\n",
      " ARIMA(1,0,2)(0,1,0)[12] intercept   : AIC=10625.426, Time=0.15 sec\n",
      " ARIMA(1,0,2)(0,1,2)[12] intercept   : AIC=10583.939, Time=1.02 sec\n",
      " ARIMA(1,0,2)(2,1,0)[12] intercept   : AIC=10593.078, Time=0.96 sec\n",
      " ARIMA(1,0,2)(2,1,2)[12] intercept   : AIC=inf, Time=3.01 sec\n",
      " ARIMA(0,0,2)(1,1,1)[12] intercept   : AIC=10662.401, Time=0.62 sec\n",
      " ARIMA(2,0,2)(1,1,1)[12] intercept   : AIC=10584.575, Time=2.65 sec\n",
      " ARIMA(1,0,3)(1,1,1)[12] intercept   : AIC=10582.273, Time=0.87 sec\n",
      " ARIMA(1,0,3)(0,1,1)[12] intercept   : AIC=10593.029, Time=0.58 sec\n",
      " ARIMA(1,0,3)(1,1,0)[12] intercept   : AIC=10602.698, Time=0.52 sec\n",
      " ARIMA(1,0,3)(2,1,1)[12] intercept   : AIC=10584.052, Time=1.96 sec\n",
      " ARIMA(1,0,3)(1,1,2)[12] intercept   : AIC=10584.125, Time=1.98 sec\n",
      " ARIMA(1,0,3)(0,1,0)[12] intercept   : AIC=10625.436, Time=0.21 sec\n",
      " ARIMA(1,0,3)(0,1,2)[12] intercept   : AIC=10584.077, Time=1.09 sec\n",
      " ARIMA(1,0,3)(2,1,0)[12] intercept   : AIC=10593.914, Time=1.15 sec\n",
      " ARIMA(1,0,3)(2,1,2)[12] intercept   : AIC=10584.519, Time=4.80 sec\n",
      " ARIMA(0,0,3)(1,1,1)[12] intercept   : AIC=inf, Time=1.12 sec\n",
      " ARIMA(2,0,3)(1,1,1)[12] intercept   : AIC=10580.880, Time=2.65 sec\n",
      " ARIMA(2,0,3)(0,1,1)[12] intercept   : AIC=10592.025, Time=1.47 sec\n",
      " ARIMA(2,0,3)(1,1,0)[12] intercept   : AIC=10600.581, Time=1.22 sec\n",
      " ARIMA(2,0,3)(2,1,1)[12] intercept   : AIC=10582.352, Time=4.52 sec\n",
      " ARIMA(2,0,3)(1,1,2)[12] intercept   : AIC=inf, Time=4.90 sec\n",
      " ARIMA(2,0,3)(0,1,0)[12] intercept   : AIC=10619.632, Time=0.46 sec\n",
      " ARIMA(2,0,3)(0,1,2)[12] intercept   : AIC=10582.456, Time=3.14 sec\n",
      " ARIMA(2,0,3)(2,1,0)[12] intercept   : AIC=10591.732, Time=3.15 sec\n",
      " ARIMA(2,0,3)(2,1,2)[12] intercept   : AIC=10584.342, Time=7.01 sec\n",
      " ARIMA(3,0,3)(1,1,1)[12] intercept   : AIC=10570.225, Time=4.56 sec\n",
      " ARIMA(3,0,3)(0,1,1)[12] intercept   : AIC=10582.930, Time=2.76 sec\n",
      " ARIMA(3,0,3)(1,1,0)[12] intercept   : AIC=10590.441, Time=3.91 sec\n",
      " ARIMA(3,0,3)(2,1,1)[12] intercept   : AIC=10572.875, Time=7.30 sec\n",
      " ARIMA(3,0,3)(1,1,2)[12] intercept   : AIC=10572.074, Time=7.22 sec\n",
      " ARIMA(3,0,3)(0,1,0)[12] intercept   : AIC=10620.549, Time=0.95 sec\n",
      " ARIMA(3,0,3)(0,1,2)[12] intercept   : AIC=10570.765, Time=6.84 sec\n",
      " ARIMA(3,0,3)(2,1,0)[12] intercept   : AIC=10587.105, Time=6.55 sec\n",
      " ARIMA(3,0,3)(2,1,2)[12] intercept   : AIC=inf, Time=7.92 sec\n",
      " ARIMA(3,0,2)(1,1,1)[12] intercept   : AIC=10571.501, Time=1.99 sec\n",
      " ARIMA(3,0,3)(1,1,1)[12]             : AIC=10568.389, Time=2.97 sec\n",
      " ARIMA(3,0,3)(0,1,1)[12]             : AIC=10580.823, Time=2.20 sec\n",
      " ARIMA(3,0,3)(1,1,0)[12]             : AIC=10588.495, Time=2.76 sec\n",
      " ARIMA(3,0,3)(2,1,1)[12]             : AIC=10569.854, Time=7.19 sec\n",
      " ARIMA(3,0,3)(1,1,2)[12]             : AIC=inf, Time=6.81 sec\n",
      " ARIMA(3,0,3)(0,1,0)[12]             : AIC=10618.546, Time=0.76 sec\n",
      " ARIMA(3,0,3)(0,1,2)[12]             : AIC=10568.645, Time=6.13 sec\n",
      " ARIMA(3,0,3)(2,1,0)[12]             : AIC=10585.076, Time=5.71 sec\n",
      " ARIMA(3,0,3)(2,1,2)[12]             : AIC=inf, Time=7.35 sec\n",
      " ARIMA(2,0,3)(1,1,1)[12]             : AIC=10578.837, Time=2.37 sec\n",
      " ARIMA(3,0,2)(1,1,1)[12]             : AIC=10567.886, Time=1.84 sec\n",
      " ARIMA(3,0,2)(0,1,1)[12]             : AIC=10577.137, Time=1.62 sec\n",
      " ARIMA(3,0,2)(1,1,0)[12]             : AIC=10589.661, Time=1.48 sec\n",
      " ARIMA(3,0,2)(2,1,1)[12]             : AIC=inf, Time=5.14 sec\n",
      " ARIMA(3,0,2)(1,1,2)[12]             : AIC=inf, Time=3.78 sec\n",
      " ARIMA(3,0,2)(0,1,0)[12]             : AIC=10614.582, Time=0.54 sec\n",
      " ARIMA(3,0,2)(0,1,2)[12]             : AIC=10569.764, Time=3.09 sec\n",
      " ARIMA(3,0,2)(2,1,0)[12]             : AIC=10581.712, Time=3.22 sec\n",
      " ARIMA(3,0,2)(2,1,2)[12]             : AIC=inf, Time=5.83 sec\n",
      " ARIMA(2,0,2)(1,1,1)[12]             : AIC=10582.132, Time=2.48 sec\n",
      " ARIMA(3,0,1)(1,1,1)[12]             : AIC=10584.941, Time=1.14 sec\n"
     ]
    },
    {
     "name": "stderr",
     "output_type": "stream",
     "text": [
      "INFO:fbprophet:Disabling weekly seasonality. Run prophet with weekly_seasonality=True to override this.\n",
      "INFO:fbprophet:Disabling daily seasonality. Run prophet with daily_seasonality=True to override this.\n"
     ]
    },
    {
     "name": "stdout",
     "output_type": "stream",
     "text": [
      " ARIMA(2,0,1)(1,1,1)[12]             : AIC=10583.102, Time=0.84 sec\n",
      "\n",
      "Best model:  ARIMA(3,0,2)(1,1,1)[12]          \n",
      "Total fit time: 192.533 seconds\n",
      "Performing stepwise search to minimize aic\n",
      " ARIMA(1,0,1)(0,0,0)[0]             : AIC=11573.051, Time=0.03 sec\n",
      " ARIMA(0,0,0)(0,0,0)[0]             : AIC=12378.629, Time=0.01 sec\n",
      " ARIMA(1,0,0)(0,0,0)[0]             : AIC=11831.391, Time=0.02 sec\n",
      " ARIMA(0,0,1)(0,0,0)[0]             : AIC=11944.211, Time=0.02 sec\n",
      " ARIMA(2,0,1)(0,0,0)[0]             : AIC=11499.456, Time=0.04 sec\n",
      " ARIMA(2,0,0)(0,0,0)[0]             : AIC=11590.098, Time=0.03 sec\n",
      " ARIMA(3,0,1)(0,0,0)[0]             : AIC=11484.273, Time=0.12 sec\n",
      " ARIMA(3,0,0)(0,0,0)[0]             : AIC=11494.366, Time=0.05 sec\n",
      " ARIMA(3,0,2)(0,0,0)[0]             : AIC=11478.427, Time=0.13 sec\n",
      " ARIMA(2,0,2)(0,0,0)[0]             : AIC=11476.449, Time=0.11 sec\n",
      " ARIMA(1,0,2)(0,0,0)[0]             : AIC=11478.239, Time=0.06 sec\n",
      " ARIMA(2,0,3)(0,0,0)[0]             : AIC=11479.257, Time=0.20 sec\n",
      " ARIMA(1,0,3)(0,0,0)[0]             : AIC=11478.200, Time=0.12 sec\n",
      " ARIMA(3,0,3)(0,0,0)[0]             : AIC=11484.351, Time=0.19 sec\n",
      " ARIMA(2,0,2)(0,0,0)[0] intercept   : AIC=11358.667, Time=0.37 sec\n",
      " ARIMA(1,0,2)(0,0,0)[0] intercept   : AIC=11450.756, Time=0.12 sec\n",
      " ARIMA(2,0,1)(0,0,0)[0] intercept   : AIC=11420.926, Time=0.07 sec\n",
      " ARIMA(3,0,2)(0,0,0)[0] intercept   : AIC=11371.327, Time=0.45 sec\n",
      " ARIMA(2,0,3)(0,0,0)[0] intercept   : AIC=11332.587, Time=0.56 sec\n",
      " ARIMA(1,0,3)(0,0,0)[0] intercept   : AIC=11441.666, Time=0.11 sec\n",
      " ARIMA(3,0,3)(0,0,0)[0] intercept   : AIC=11331.890, Time=0.58 sec\n",
      "\n",
      "Best model:  ARIMA(3,0,3)(0,0,0)[0] intercept\n",
      "Total fit time: 3.386 seconds\n",
      "Performing stepwise search to minimize aic\n",
      " ARIMA(1,0,1)(0,1,1)[12] intercept   : AIC=10260.344, Time=0.34 sec\n",
      " ARIMA(0,0,0)(0,1,0)[12] intercept   : AIC=10429.715, Time=0.03 sec\n",
      " ARIMA(1,0,0)(1,1,0)[12] intercept   : AIC=10276.956, Time=0.22 sec\n",
      " ARIMA(0,0,1)(0,1,1)[12] intercept   : AIC=10268.832, Time=0.24 sec\n",
      " ARIMA(0,0,0)(0,1,0)[12]             : AIC=10429.121, Time=0.02 sec\n",
      " ARIMA(1,0,1)(0,1,0)[12] intercept   : AIC=10323.287, Time=0.08 sec\n",
      " ARIMA(1,0,1)(1,1,1)[12] intercept   : AIC=10261.741, Time=0.51 sec\n",
      " ARIMA(1,0,1)(0,1,2)[12] intercept   : AIC=10261.901, Time=0.93 sec\n",
      " ARIMA(1,0,1)(1,1,0)[12] intercept   : AIC=10261.902, Time=0.38 sec\n",
      " ARIMA(1,0,1)(1,1,2)[12] intercept   : AIC=10259.493, Time=1.80 sec\n",
      " ARIMA(1,0,1)(2,1,2)[12] intercept   : AIC=10258.492, Time=1.98 sec\n",
      " ARIMA(1,0,1)(2,1,1)[12] intercept   : AIC=10259.533, Time=1.83 sec\n",
      " ARIMA(0,0,1)(2,1,2)[12] intercept   : AIC=10265.714, Time=1.97 sec\n",
      " ARIMA(1,0,0)(2,1,2)[12] intercept   : AIC=10276.949, Time=1.85 sec\n",
      " ARIMA(2,0,1)(2,1,2)[12] intercept   : AIC=10260.453, Time=3.00 sec\n",
      " ARIMA(1,0,2)(2,1,2)[12] intercept   : AIC=10261.167, Time=2.62 sec\n",
      " ARIMA(0,0,0)(2,1,2)[12] intercept   : AIC=10392.335, Time=1.79 sec\n",
      " ARIMA(0,0,2)(2,1,2)[12] intercept   : AIC=10259.938, Time=2.17 sec\n",
      " ARIMA(2,0,0)(2,1,2)[12] intercept   : AIC=10261.529, Time=1.97 sec\n",
      " ARIMA(2,0,2)(2,1,2)[12] intercept   : AIC=10262.851, Time=3.40 sec\n"
     ]
    },
    {
     "name": "stderr",
     "output_type": "stream",
     "text": [
      "INFO:fbprophet:Disabling weekly seasonality. Run prophet with weekly_seasonality=True to override this.\n",
      "INFO:fbprophet:Disabling daily seasonality. Run prophet with daily_seasonality=True to override this.\n"
     ]
    },
    {
     "name": "stdout",
     "output_type": "stream",
     "text": [
      " ARIMA(1,0,1)(2,1,2)[12]             : AIC=10259.389, Time=1.82 sec\n",
      "\n",
      "Best model:  ARIMA(1,0,1)(2,1,2)[12] intercept\n",
      "Total fit time: 28.971 seconds\n",
      "Performing stepwise search to minimize aic\n",
      " ARIMA(1,0,1)(0,0,0)[0]             : AIC=11414.911, Time=0.04 sec\n",
      " ARIMA(0,0,0)(0,0,0)[0]             : AIC=12705.473, Time=0.01 sec\n",
      " ARIMA(1,0,0)(0,0,0)[0]             : AIC=11504.024, Time=0.01 sec\n",
      " ARIMA(0,0,1)(0,0,0)[0]             : AIC=12371.038, Time=0.03 sec\n",
      " ARIMA(2,0,1)(0,0,0)[0]             : AIC=11363.169, Time=0.06 sec\n",
      " ARIMA(2,0,0)(0,0,0)[0]             : AIC=11364.500, Time=0.03 sec\n",
      " ARIMA(3,0,1)(0,0,0)[0]             : AIC=11357.645, Time=0.10 sec\n",
      " ARIMA(3,0,0)(0,0,0)[0]             : AIC=11359.891, Time=0.04 sec\n",
      " ARIMA(3,0,2)(0,0,0)[0]             : AIC=11100.023, Time=0.63 sec\n",
      " ARIMA(2,0,2)(0,0,0)[0]             : AIC=11345.598, Time=0.11 sec\n",
      " ARIMA(3,0,3)(0,0,0)[0]             : AIC=inf, Time=0.70 sec\n",
      " ARIMA(2,0,3)(0,0,0)[0]             : AIC=11397.977, Time=0.36 sec\n",
      " ARIMA(3,0,2)(0,0,0)[0] intercept   : AIC=11193.340, Time=0.47 sec\n",
      "\n",
      "Best model:  ARIMA(3,0,2)(0,0,0)[0]          \n",
      "Total fit time: 2.601 seconds\n",
      "Performing stepwise search to minimize aic\n",
      " ARIMA(1,0,1)(0,1,1)[12] intercept   : AIC=10368.916, Time=0.28 sec\n",
      " ARIMA(0,0,0)(0,1,0)[12] intercept   : AIC=10487.646, Time=0.03 sec\n",
      " ARIMA(1,0,0)(1,1,0)[12] intercept   : AIC=10401.119, Time=0.22 sec\n",
      " ARIMA(0,0,1)(0,1,1)[12] intercept   : AIC=10425.622, Time=0.23 sec\n",
      " ARIMA(0,0,0)(0,1,0)[12]             : AIC=10500.065, Time=0.02 sec\n",
      " ARIMA(1,0,1)(0,1,0)[12] intercept   : AIC=10433.548, Time=0.11 sec\n",
      " ARIMA(1,0,1)(1,1,1)[12] intercept   : AIC=10370.759, Time=0.52 sec\n",
      " ARIMA(1,0,1)(0,1,2)[12] intercept   : AIC=10370.306, Time=0.83 sec\n",
      " ARIMA(1,0,1)(1,1,0)[12] intercept   : AIC=10380.176, Time=0.44 sec\n",
      " ARIMA(1,0,1)(1,1,2)[12] intercept   : AIC=inf, Time=2.74 sec\n",
      " ARIMA(1,0,0)(0,1,1)[12] intercept   : AIC=10382.530, Time=0.25 sec\n",
      " ARIMA(2,0,1)(0,1,1)[12] intercept   : AIC=10352.898, Time=0.50 sec\n",
      " ARIMA(2,0,1)(0,1,0)[12] intercept   : AIC=10421.872, Time=0.16 sec\n",
      " ARIMA(2,0,1)(1,1,1)[12] intercept   : AIC=10353.950, Time=0.71 sec\n",
      " ARIMA(2,0,1)(0,1,2)[12] intercept   : AIC=10353.763, Time=1.25 sec\n",
      " ARIMA(2,0,1)(1,1,0)[12] intercept   : AIC=10370.839, Time=0.57 sec\n",
      " ARIMA(2,0,1)(1,1,2)[12] intercept   : AIC=10355.736, Time=2.19 sec\n",
      " ARIMA(2,0,0)(0,1,1)[12] intercept   : AIC=10353.437, Time=0.34 sec\n",
      " ARIMA(3,0,1)(0,1,1)[12] intercept   : AIC=10354.285, Time=0.78 sec\n",
      " ARIMA(2,0,2)(0,1,1)[12] intercept   : AIC=10352.284, Time=0.68 sec\n",
      " ARIMA(2,0,2)(0,1,0)[12] intercept   : AIC=10423.649, Time=0.24 sec\n",
      " ARIMA(2,0,2)(1,1,1)[12] intercept   : AIC=10353.437, Time=1.00 sec\n",
      " ARIMA(2,0,2)(0,1,2)[12] intercept   : AIC=10353.235, Time=1.64 sec\n",
      " ARIMA(2,0,2)(1,1,0)[12] intercept   : AIC=10369.918, Time=0.64 sec\n",
      " ARIMA(2,0,2)(1,1,2)[12] intercept   : AIC=10355.185, Time=2.67 sec\n",
      " ARIMA(1,0,2)(0,1,1)[12] intercept   : AIC=10358.972, Time=0.50 sec\n",
      " ARIMA(3,0,2)(0,1,1)[12] intercept   : AIC=10353.639, Time=1.18 sec\n",
      " ARIMA(2,0,3)(0,1,1)[12] intercept   : AIC=10352.998, Time=0.86 sec\n",
      " ARIMA(1,0,3)(0,1,1)[12] intercept   : AIC=10358.353, Time=0.66 sec\n",
      " ARIMA(3,0,3)(0,1,1)[12] intercept   : AIC=10354.762, Time=1.54 sec\n"
     ]
    },
    {
     "name": "stderr",
     "output_type": "stream",
     "text": [
      "INFO:fbprophet:Disabling weekly seasonality. Run prophet with weekly_seasonality=True to override this.\n",
      "INFO:fbprophet:Disabling daily seasonality. Run prophet with daily_seasonality=True to override this.\n"
     ]
    },
    {
     "name": "stdout",
     "output_type": "stream",
     "text": [
      " ARIMA(2,0,2)(0,1,1)[12]             : AIC=10358.408, Time=0.68 sec\n",
      "\n",
      "Best model:  ARIMA(2,0,2)(0,1,1)[12] intercept\n",
      "Total fit time: 24.462 seconds\n",
      "Performing stepwise search to minimize aic\n",
      " ARIMA(1,0,1)(0,0,0)[0]             : AIC=11556.819, Time=0.09 sec\n",
      " ARIMA(0,0,0)(0,0,0)[0]             : AIC=12468.582, Time=0.01 sec\n",
      " ARIMA(1,0,0)(0,0,0)[0]             : AIC=11804.073, Time=0.02 sec\n",
      " ARIMA(0,0,1)(0,0,0)[0]             : AIC=12053.127, Time=0.03 sec\n",
      " ARIMA(2,0,1)(0,0,0)[0]             : AIC=11480.838, Time=0.05 sec\n",
      " ARIMA(2,0,0)(0,0,0)[0]             : AIC=11535.574, Time=0.02 sec\n",
      " ARIMA(3,0,1)(0,0,0)[0]             : AIC=11458.808, Time=0.14 sec\n",
      " ARIMA(3,0,0)(0,0,0)[0]             : AIC=11457.334, Time=0.03 sec\n",
      " ARIMA(3,0,0)(0,0,0)[0] intercept   : AIC=11377.988, Time=0.08 sec\n",
      " ARIMA(2,0,0)(0,0,0)[0] intercept   : AIC=11389.196, Time=0.05 sec\n",
      " ARIMA(3,0,1)(0,0,0)[0] intercept   : AIC=11378.858, Time=0.14 sec\n",
      " ARIMA(2,0,1)(0,0,0)[0] intercept   : AIC=11380.985, Time=0.08 sec\n",
      "\n",
      "Best model:  ARIMA(3,0,0)(0,0,0)[0] intercept\n",
      "Total fit time: 0.743 seconds\n",
      "Performing stepwise search to minimize aic\n",
      " ARIMA(1,0,1)(0,1,1)[12] intercept   : AIC=10400.081, Time=0.33 sec\n",
      " ARIMA(0,0,0)(0,1,0)[12] intercept   : AIC=10505.876, Time=0.03 sec\n",
      " ARIMA(1,0,0)(1,1,0)[12] intercept   : AIC=10401.939, Time=0.24 sec\n",
      " ARIMA(0,0,1)(0,1,1)[12] intercept   : AIC=10422.959, Time=0.23 sec\n",
      " ARIMA(0,0,0)(0,1,0)[12]             : AIC=10504.646, Time=0.02 sec\n",
      " ARIMA(1,0,1)(0,1,0)[12] intercept   : AIC=10427.601, Time=0.10 sec\n",
      " ARIMA(1,0,1)(1,1,1)[12] intercept   : AIC=10375.615, Time=0.68 sec\n",
      " ARIMA(1,0,1)(1,1,0)[12] intercept   : AIC=10403.778, Time=0.37 sec\n",
      " ARIMA(1,0,1)(2,1,1)[12] intercept   : AIC=inf, Time=1.66 sec\n",
      " ARIMA(1,0,1)(1,1,2)[12] intercept   : AIC=inf, Time=1.82 sec\n",
      " ARIMA(1,0,1)(0,1,2)[12] intercept   : AIC=10394.895, Time=1.02 sec\n",
      " ARIMA(1,0,1)(2,1,0)[12] intercept   : AIC=10402.705, Time=0.83 sec\n",
      " ARIMA(1,0,1)(2,1,2)[12] intercept   : AIC=inf, Time=2.39 sec\n",
      " ARIMA(0,0,1)(1,1,1)[12] intercept   : AIC=inf, Time=0.81 sec\n",
      " ARIMA(1,0,0)(1,1,1)[12] intercept   : AIC=10374.303, Time=0.59 sec\n",
      " ARIMA(1,0,0)(0,1,1)[12] intercept   : AIC=10398.401, Time=0.25 sec\n",
      " ARIMA(1,0,0)(2,1,1)[12] intercept   : AIC=10375.333, Time=1.65 sec\n",
      " ARIMA(1,0,0)(1,1,2)[12] intercept   : AIC=10375.999, Time=1.33 sec\n",
      " ARIMA(1,0,0)(0,1,0)[12] intercept   : AIC=10425.780, Time=0.07 sec\n",
      " ARIMA(1,0,0)(0,1,2)[12] intercept   : AIC=10393.961, Time=0.85 sec\n",
      " ARIMA(1,0,0)(2,1,0)[12] intercept   : AIC=10400.908, Time=0.63 sec\n",
      " ARIMA(1,0,0)(2,1,2)[12] intercept   : AIC=inf, Time=1.97 sec\n",
      " ARIMA(0,0,0)(1,1,1)[12] intercept   : AIC=10507.872, Time=0.63 sec\n",
      " ARIMA(2,0,0)(1,1,1)[12] intercept   : AIC=10375.642, Time=0.74 sec\n",
      " ARIMA(2,0,1)(1,1,1)[12] intercept   : AIC=inf, Time=0.97 sec\n"
     ]
    },
    {
     "name": "stderr",
     "output_type": "stream",
     "text": [
      "INFO:fbprophet:Disabling weekly seasonality. Run prophet with weekly_seasonality=True to override this.\n",
      "INFO:fbprophet:Disabling daily seasonality. Run prophet with daily_seasonality=True to override this.\n"
     ]
    },
    {
     "name": "stdout",
     "output_type": "stream",
     "text": [
      " ARIMA(1,0,0)(1,1,1)[12]             : AIC=10377.657, Time=0.50 sec\n",
      "\n",
      "Best model:  ARIMA(1,0,0)(1,1,1)[12] intercept\n",
      "Total fit time: 20.731 seconds\n",
      "Performing stepwise search to minimize aic\n",
      " ARIMA(1,0,1)(0,0,0)[0]             : AIC=12483.529, Time=0.04 sec\n",
      " ARIMA(0,0,0)(0,0,0)[0]             : AIC=13459.718, Time=0.01 sec\n",
      " ARIMA(1,0,0)(0,0,0)[0]             : AIC=12488.010, Time=0.02 sec\n",
      " ARIMA(0,0,1)(0,0,0)[0]             : AIC=13153.726, Time=0.02 sec\n",
      " ARIMA(2,0,1)(0,0,0)[0]             : AIC=12480.393, Time=0.08 sec\n",
      " ARIMA(2,0,0)(0,0,0)[0]             : AIC=12482.475, Time=0.03 sec\n",
      " ARIMA(3,0,1)(0,0,0)[0]             : AIC=12479.729, Time=0.15 sec\n",
      " ARIMA(3,0,0)(0,0,0)[0]             : AIC=12480.455, Time=0.04 sec\n",
      " ARIMA(3,0,2)(0,0,0)[0]             : AIC=inf, Time=0.59 sec\n",
      " ARIMA(2,0,2)(0,0,0)[0]             : AIC=12487.747, Time=0.05 sec\n",
      " ARIMA(3,0,1)(0,0,0)[0] intercept   : AIC=12247.461, Time=0.29 sec\n",
      " ARIMA(2,0,1)(0,0,0)[0] intercept   : AIC=12390.616, Time=0.27 sec\n",
      " ARIMA(3,0,0)(0,0,0)[0] intercept   : AIC=12366.106, Time=0.08 sec\n",
      " ARIMA(3,0,2)(0,0,0)[0] intercept   : AIC=12420.235, Time=0.39 sec\n",
      " ARIMA(2,0,0)(0,0,0)[0] intercept   : AIC=12406.951, Time=0.04 sec\n",
      " ARIMA(2,0,2)(0,0,0)[0] intercept   : AIC=12405.963, Time=0.39 sec\n",
      "\n",
      "Best model:  ARIMA(3,0,1)(0,0,0)[0] intercept\n",
      "Total fit time: 2.497 seconds\n",
      "Performing stepwise search to minimize aic\n",
      " ARIMA(1,0,1)(0,1,1)[12] intercept   : AIC=11098.071, Time=0.39 sec\n",
      " ARIMA(0,0,0)(0,1,0)[12] intercept   : AIC=11136.649, Time=0.02 sec\n",
      " ARIMA(1,0,0)(1,1,0)[12] intercept   : AIC=11106.536, Time=0.24 sec\n",
      " ARIMA(0,0,1)(0,1,1)[12] intercept   : AIC=11112.436, Time=0.26 sec\n",
      " ARIMA(0,0,0)(0,1,0)[12]             : AIC=11137.054, Time=0.02 sec\n",
      " ARIMA(1,0,1)(0,1,0)[12] intercept   : AIC=11122.012, Time=0.12 sec\n",
      " ARIMA(1,0,1)(1,1,1)[12] intercept   : AIC=11098.505, Time=0.45 sec\n",
      " ARIMA(1,0,1)(0,1,2)[12] intercept   : AIC=11098.177, Time=0.97 sec\n",
      " ARIMA(1,0,1)(1,1,0)[12] intercept   : AIC=11100.834, Time=0.38 sec\n",
      " ARIMA(1,0,1)(1,1,2)[12] intercept   : AIC=11100.119, Time=1.65 sec\n",
      " ARIMA(1,0,0)(0,1,1)[12] intercept   : AIC=11104.903, Time=0.30 sec\n",
      " ARIMA(2,0,1)(0,1,1)[12] intercept   : AIC=11099.709, Time=0.66 sec\n",
      " ARIMA(1,0,2)(0,1,1)[12] intercept   : AIC=11099.516, Time=0.54 sec\n",
      " ARIMA(0,0,0)(0,1,1)[12] intercept   : AIC=11131.189, Time=0.17 sec\n",
      " ARIMA(0,0,2)(0,1,1)[12] intercept   : AIC=11104.857, Time=0.33 sec\n",
      " ARIMA(2,0,0)(0,1,1)[12] intercept   : AIC=11098.582, Time=0.32 sec\n",
      " ARIMA(2,0,2)(0,1,1)[12] intercept   : AIC=11100.901, Time=0.61 sec\n",
      " ARIMA(1,0,1)(0,1,1)[12]             : AIC=11097.370, Time=0.37 sec\n",
      " ARIMA(1,0,1)(0,1,0)[12]             : AIC=11120.877, Time=0.06 sec\n",
      " ARIMA(1,0,1)(1,1,1)[12]             : AIC=11097.372, Time=0.54 sec\n",
      " ARIMA(1,0,1)(0,1,2)[12]             : AIC=11098.077, Time=0.98 sec\n",
      " ARIMA(1,0,1)(1,1,0)[12]             : AIC=11100.227, Time=0.40 sec\n",
      " ARIMA(1,0,1)(1,1,2)[12]             : AIC=11099.214, Time=1.52 sec\n",
      " ARIMA(0,0,1)(0,1,1)[12]             : AIC=11113.526, Time=0.21 sec\n",
      " ARIMA(1,0,0)(0,1,1)[12]             : AIC=11106.060, Time=0.23 sec\n",
      " ARIMA(2,0,1)(0,1,1)[12]             : AIC=11087.509, Time=0.90 sec\n",
      " ARIMA(2,0,1)(0,1,0)[12]             : AIC=11122.942, Time=0.07 sec\n",
      " ARIMA(2,0,1)(1,1,1)[12]             : AIC=11082.471, Time=1.31 sec\n",
      " ARIMA(2,0,1)(1,1,0)[12]             : AIC=11094.228, Time=0.75 sec\n",
      " ARIMA(2,0,1)(2,1,1)[12]             : AIC=inf, Time=4.15 sec\n",
      " ARIMA(2,0,1)(1,1,2)[12]             : AIC=inf, Time=4.18 sec\n",
      " ARIMA(2,0,1)(0,1,2)[12]             : AIC=11084.950, Time=2.65 sec\n",
      " ARIMA(2,0,1)(2,1,0)[12]             : AIC=11092.522, Time=2.10 sec\n",
      " ARIMA(2,0,1)(2,1,2)[12]             : AIC=11081.354, Time=4.69 sec\n",
      " ARIMA(1,0,1)(2,1,2)[12]             : AIC=11097.242, Time=2.54 sec\n",
      " ARIMA(2,0,0)(2,1,2)[12]             : AIC=11098.996, Time=2.21 sec\n",
      " ARIMA(3,0,1)(2,1,2)[12]             : AIC=11081.840, Time=5.52 sec\n",
      " ARIMA(2,0,2)(2,1,2)[12]             : AIC=11100.919, Time=3.64 sec\n",
      " ARIMA(1,0,0)(2,1,2)[12]             : AIC=11104.864, Time=1.77 sec\n",
      " ARIMA(1,0,2)(2,1,2)[12]             : AIC=11085.271, Time=3.51 sec\n",
      " ARIMA(3,0,0)(2,1,2)[12]             : AIC=11100.289, Time=2.88 sec\n",
      " ARIMA(3,0,2)(2,1,2)[12]             : AIC=inf, Time=5.78 sec\n"
     ]
    },
    {
     "name": "stderr",
     "output_type": "stream",
     "text": [
      "INFO:fbprophet:Disabling weekly seasonality. Run prophet with weekly_seasonality=True to override this.\n",
      "INFO:fbprophet:Disabling daily seasonality. Run prophet with daily_seasonality=True to override this.\n"
     ]
    },
    {
     "name": "stdout",
     "output_type": "stream",
     "text": [
      " ARIMA(2,0,1)(2,1,2)[12] intercept   : AIC=11097.979, Time=3.32 sec\n",
      "\n",
      "Best model:  ARIMA(2,0,1)(2,1,2)[12]          \n",
      "Total fit time: 63.729 seconds\n",
      "Performing stepwise search to minimize aic\n",
      " ARIMA(1,0,1)(0,0,0)[0]             : AIC=11863.728, Time=0.03 sec\n",
      " ARIMA(0,0,0)(0,0,0)[0]             : AIC=12569.566, Time=0.01 sec\n",
      " ARIMA(1,0,0)(0,0,0)[0]             : AIC=11899.156, Time=0.02 sec\n",
      " ARIMA(0,0,1)(0,0,0)[0]             : AIC=12238.283, Time=0.02 sec\n",
      " ARIMA(2,0,1)(0,0,0)[0]             : AIC=11864.888, Time=0.05 sec\n",
      " ARIMA(1,0,2)(0,0,0)[0]             : AIC=11864.982, Time=0.04 sec\n",
      " ARIMA(0,0,2)(0,0,0)[0]             : AIC=12085.234, Time=0.15 sec\n",
      " ARIMA(2,0,0)(0,0,0)[0]             : AIC=11864.024, Time=0.02 sec\n",
      " ARIMA(2,0,2)(0,0,0)[0]             : AIC=11866.866, Time=0.12 sec\n",
      " ARIMA(1,0,1)(0,0,0)[0] intercept   : AIC=11802.098, Time=0.05 sec\n",
      " ARIMA(0,0,1)(0,0,0)[0] intercept   : AIC=11897.621, Time=0.04 sec\n",
      " ARIMA(1,0,0)(0,0,0)[0] intercept   : AIC=11855.035, Time=0.04 sec\n",
      " ARIMA(2,0,1)(0,0,0)[0] intercept   : AIC=11769.422, Time=0.21 sec\n",
      " ARIMA(2,0,0)(0,0,0)[0] intercept   : AIC=11769.388, Time=0.04 sec\n",
      " ARIMA(3,0,0)(0,0,0)[0] intercept   : AIC=11757.545, Time=0.06 sec\n",
      " ARIMA(3,0,1)(0,0,0)[0] intercept   : AIC=11750.550, Time=0.18 sec\n",
      " ARIMA(3,0,2)(0,0,0)[0] intercept   : AIC=inf, Time=0.60 sec\n",
      " ARIMA(2,0,2)(0,0,0)[0] intercept   : AIC=11759.285, Time=0.25 sec\n",
      " ARIMA(3,0,1)(0,0,0)[0]             : AIC=11866.646, Time=0.09 sec\n",
      "\n",
      "Best model:  ARIMA(3,0,1)(0,0,0)[0] intercept\n",
      "Total fit time: 2.046 seconds\n",
      "Performing stepwise search to minimize aic\n",
      " ARIMA(1,0,1)(0,1,1)[12] intercept   : AIC=10635.691, Time=0.41 sec\n",
      " ARIMA(0,0,0)(0,1,0)[12] intercept   : AIC=10702.070, Time=0.03 sec\n",
      " ARIMA(1,0,0)(1,1,0)[12] intercept   : AIC=10642.378, Time=0.22 sec\n",
      " ARIMA(0,0,1)(0,1,1)[12] intercept   : AIC=10637.025, Time=0.22 sec\n",
      " ARIMA(0,0,0)(0,1,0)[12]             : AIC=10701.355, Time=0.03 sec\n",
      " ARIMA(1,0,1)(0,1,0)[12] intercept   : AIC=10680.606, Time=0.10 sec\n",
      " ARIMA(1,0,1)(1,1,1)[12] intercept   : AIC=10625.058, Time=0.59 sec\n",
      " ARIMA(1,0,1)(1,1,0)[12] intercept   : AIC=10644.583, Time=0.41 sec\n",
      " ARIMA(1,0,1)(2,1,1)[12] intercept   : AIC=10626.983, Time=1.60 sec\n",
      " ARIMA(1,0,1)(1,1,2)[12] intercept   : AIC=10627.022, Time=1.78 sec\n",
      " ARIMA(1,0,1)(0,1,2)[12] intercept   : AIC=10628.261, Time=0.96 sec\n",
      " ARIMA(1,0,1)(2,1,0)[12] intercept   : AIC=10643.355, Time=0.95 sec\n",
      " ARIMA(1,0,1)(2,1,2)[12] intercept   : AIC=10625.436, Time=2.09 sec\n",
      " ARIMA(0,0,1)(1,1,1)[12] intercept   : AIC=10628.504, Time=0.43 sec\n",
      " ARIMA(1,0,0)(1,1,1)[12] intercept   : AIC=10622.784, Time=0.42 sec\n",
      " ARIMA(1,0,0)(0,1,1)[12] intercept   : AIC=10633.825, Time=0.20 sec\n",
      " ARIMA(1,0,0)(2,1,1)[12] intercept   : AIC=10624.586, Time=1.31 sec\n",
      " ARIMA(1,0,0)(1,1,2)[12] intercept   : AIC=10624.777, Time=1.32 sec\n",
      " ARIMA(1,0,0)(0,1,0)[12] intercept   : AIC=10678.643, Time=0.07 sec\n",
      " ARIMA(1,0,0)(0,1,2)[12] intercept   : AIC=10627.708, Time=0.66 sec\n",
      " ARIMA(1,0,0)(2,1,0)[12] intercept   : AIC=10641.231, Time=0.57 sec\n",
      " ARIMA(1,0,0)(2,1,2)[12] intercept   : AIC=10624.175, Time=1.47 sec\n",
      " ARIMA(0,0,0)(1,1,1)[12] intercept   : AIC=10662.068, Time=0.47 sec\n",
      " ARIMA(2,0,0)(1,1,1)[12] intercept   : AIC=10624.114, Time=0.53 sec\n",
      " ARIMA(2,0,1)(1,1,1)[12] intercept   : AIC=10625.927, Time=0.70 sec\n"
     ]
    },
    {
     "name": "stderr",
     "output_type": "stream",
     "text": [
      "INFO:fbprophet:Disabling weekly seasonality. Run prophet with weekly_seasonality=True to override this.\n",
      "INFO:fbprophet:Disabling daily seasonality. Run prophet with daily_seasonality=True to override this.\n"
     ]
    },
    {
     "name": "stdout",
     "output_type": "stream",
     "text": [
      " ARIMA(1,0,0)(1,1,1)[12]             : AIC=10625.806, Time=0.38 sec\n",
      "\n",
      "Best model:  ARIMA(1,0,0)(1,1,1)[12] intercept\n",
      "Total fit time: 17.918 seconds\n",
      "Performing stepwise search to minimize aic\n",
      " ARIMA(1,0,1)(0,0,0)[0]             : AIC=11626.179, Time=0.04 sec\n",
      " ARIMA(0,0,0)(0,0,0)[0]             : AIC=12588.259, Time=0.01 sec\n",
      " ARIMA(1,0,0)(0,0,0)[0]             : AIC=11845.370, Time=0.02 sec\n",
      " ARIMA(0,0,1)(0,0,0)[0]             : AIC=12198.583, Time=0.03 sec\n",
      " ARIMA(2,0,1)(0,0,0)[0]             : AIC=11542.565, Time=0.04 sec\n",
      " ARIMA(2,0,0)(0,0,0)[0]             : AIC=11580.139, Time=0.02 sec\n",
      " ARIMA(3,0,1)(0,0,0)[0]             : AIC=inf, Time=0.38 sec\n",
      " ARIMA(2,0,2)(0,0,0)[0]             : AIC=11517.546, Time=0.05 sec\n",
      " ARIMA(1,0,2)(0,0,0)[0]             : AIC=11531.286, Time=0.06 sec\n",
      " ARIMA(3,0,2)(0,0,0)[0]             : AIC=11501.348, Time=0.07 sec\n",
      " ARIMA(3,0,3)(0,0,0)[0]             : AIC=11352.313, Time=0.58 sec\n",
      " ARIMA(2,0,3)(0,0,0)[0]             : AIC=11511.970, Time=0.18 sec\n",
      " ARIMA(3,0,3)(0,0,0)[0] intercept   : AIC=11407.960, Time=0.59 sec\n",
      "\n",
      "Best model:  ARIMA(3,0,3)(0,0,0)[0]          \n",
      "Total fit time: 2.064 seconds\n",
      "Performing stepwise search to minimize aic\n",
      " ARIMA(1,0,1)(0,1,1)[12] intercept   : AIC=10260.144, Time=0.36 sec\n",
      " ARIMA(0,0,0)(0,1,0)[12] intercept   : AIC=10389.824, Time=0.02 sec\n",
      " ARIMA(1,0,0)(1,1,0)[12] intercept   : AIC=10262.921, Time=0.22 sec\n",
      " ARIMA(0,0,1)(0,1,1)[12] intercept   : AIC=10280.136, Time=0.24 sec\n",
      " ARIMA(0,0,0)(0,1,0)[12]             : AIC=10392.166, Time=0.02 sec\n",
      " ARIMA(1,0,1)(0,1,0)[12] intercept   : AIC=10292.856, Time=0.10 sec\n",
      " ARIMA(1,0,1)(1,1,1)[12] intercept   : AIC=10255.829, Time=0.65 sec\n",
      " ARIMA(1,0,1)(1,1,0)[12] intercept   : AIC=10263.672, Time=0.33 sec\n",
      " ARIMA(1,0,1)(2,1,1)[12] intercept   : AIC=10257.583, Time=1.53 sec\n",
      " ARIMA(1,0,1)(1,1,2)[12] intercept   : AIC=10257.828, Time=2.23 sec\n",
      " ARIMA(1,0,1)(0,1,2)[12] intercept   : AIC=10258.695, Time=1.13 sec\n",
      " ARIMA(1,0,1)(2,1,0)[12] intercept   : AIC=10265.172, Time=0.83 sec\n",
      " ARIMA(1,0,1)(2,1,2)[12] intercept   : AIC=10251.885, Time=2.29 sec\n",
      " ARIMA(0,0,1)(2,1,2)[12] intercept   : AIC=10269.502, Time=2.06 sec\n",
      " ARIMA(1,0,0)(2,1,2)[12] intercept   : AIC=10251.359, Time=1.71 sec\n",
      " ARIMA(1,0,0)(1,1,2)[12] intercept   : AIC=10257.720, Time=1.60 sec\n",
      " ARIMA(1,0,0)(2,1,1)[12] intercept   : AIC=10257.487, Time=1.53 sec\n",
      " ARIMA(1,0,0)(1,1,1)[12] intercept   : AIC=10255.729, Time=0.51 sec\n",
      " ARIMA(0,0,0)(2,1,2)[12] intercept   : AIC=10370.283, Time=1.64 sec\n",
      " ARIMA(2,0,0)(2,1,2)[12] intercept   : AIC=10251.876, Time=2.09 sec\n",
      " ARIMA(2,0,1)(2,1,2)[12] intercept   : AIC=10253.827, Time=2.96 sec\n"
     ]
    },
    {
     "name": "stderr",
     "output_type": "stream",
     "text": [
      "INFO:fbprophet:Disabling weekly seasonality. Run prophet with weekly_seasonality=True to override this.\n",
      "INFO:fbprophet:Disabling daily seasonality. Run prophet with daily_seasonality=True to override this.\n"
     ]
    },
    {
     "name": "stdout",
     "output_type": "stream",
     "text": [
      " ARIMA(1,0,0)(2,1,2)[12]             : AIC=10255.086, Time=1.62 sec\n",
      "\n",
      "Best model:  ARIMA(1,0,0)(2,1,2)[12] intercept\n",
      "Total fit time: 25.694 seconds\n",
      "Performing stepwise search to minimize aic\n",
      " ARIMA(1,0,1)(0,0,0)[0]             : AIC=11697.831, Time=0.04 sec\n",
      " ARIMA(0,0,0)(0,0,0)[0]             : AIC=12694.832, Time=0.01 sec\n",
      " ARIMA(1,0,0)(0,0,0)[0]             : AIC=12032.977, Time=0.02 sec\n",
      " ARIMA(0,0,1)(0,0,0)[0]             : AIC=12262.168, Time=0.03 sec\n",
      " ARIMA(2,0,1)(0,0,0)[0]             : AIC=11537.990, Time=0.05 sec\n",
      " ARIMA(2,0,0)(0,0,0)[0]             : AIC=11671.515, Time=0.03 sec\n",
      " ARIMA(3,0,1)(0,0,0)[0]             : AIC=11484.647, Time=0.07 sec\n",
      " ARIMA(3,0,0)(0,0,0)[0]             : AIC=11489.835, Time=0.03 sec\n",
      " ARIMA(3,0,2)(0,0,0)[0]             : AIC=11478.983, Time=0.13 sec\n",
      " ARIMA(2,0,2)(0,0,0)[0]             : AIC=11492.991, Time=0.09 sec\n",
      " ARIMA(3,0,3)(0,0,0)[0]             : AIC=11478.280, Time=0.16 sec\n",
      " ARIMA(2,0,3)(0,0,0)[0]             : AIC=11487.693, Time=0.18 sec\n",
      " ARIMA(3,0,3)(0,0,0)[0] intercept   : AIC=11442.655, Time=0.63 sec\n",
      " ARIMA(2,0,3)(0,0,0)[0] intercept   : AIC=11351.066, Time=0.33 sec\n",
      " ARIMA(1,0,3)(0,0,0)[0] intercept   : AIC=inf, Time=0.32 sec\n",
      " ARIMA(2,0,2)(0,0,0)[0] intercept   : AIC=11418.254, Time=0.10 sec\n",
      " ARIMA(1,0,2)(0,0,0)[0] intercept   : AIC=11504.069, Time=0.13 sec\n",
      " ARIMA(3,0,2)(0,0,0)[0] intercept   : AIC=11408.614, Time=0.27 sec\n",
      "\n",
      "Best model:  ARIMA(2,0,3)(0,0,0)[0] intercept\n",
      "Total fit time: 2.624 seconds\n",
      "Performing stepwise search to minimize aic\n",
      " ARIMA(1,0,1)(0,1,1)[12] intercept   : AIC=10176.610, Time=0.36 sec\n",
      " ARIMA(0,0,0)(0,1,0)[12] intercept   : AIC=10355.187, Time=0.03 sec\n",
      " ARIMA(1,0,0)(1,1,0)[12] intercept   : AIC=10174.181, Time=0.24 sec\n",
      " ARIMA(0,0,1)(0,1,1)[12] intercept   : AIC=10223.973, Time=0.26 sec\n",
      " ARIMA(0,0,0)(0,1,0)[12]             : AIC=10361.689, Time=0.02 sec\n",
      " ARIMA(1,0,0)(0,1,0)[12] intercept   : AIC=10195.997, Time=0.05 sec\n",
      " ARIMA(1,0,0)(2,1,0)[12] intercept   : AIC=10176.124, Time=0.45 sec\n",
      " ARIMA(1,0,0)(1,1,1)[12] intercept   : AIC=10176.157, Time=0.47 sec\n",
      " ARIMA(1,0,0)(0,1,1)[12] intercept   : AIC=10175.260, Time=0.22 sec\n",
      " ARIMA(1,0,0)(2,1,1)[12] intercept   : AIC=10178.080, Time=0.74 sec\n",
      " ARIMA(0,0,0)(1,1,0)[12] intercept   : AIC=10352.551, Time=0.54 sec\n",
      " ARIMA(2,0,0)(1,1,0)[12] intercept   : AIC=10175.547, Time=0.28 sec\n",
      " ARIMA(1,0,1)(1,1,0)[12] intercept   : AIC=10175.797, Time=0.31 sec\n",
      " ARIMA(0,0,1)(1,1,0)[12] intercept   : AIC=10222.845, Time=0.17 sec\n",
      " ARIMA(2,0,1)(1,1,0)[12] intercept   : AIC=10177.315, Time=0.89 sec\n",
      " ARIMA(1,0,0)(1,1,0)[12]             : AIC=10175.399, Time=0.19 sec\n",
      "\n",
      "Best model:  ARIMA(1,0,0)(1,1,0)[12] intercept\n",
      "Total fit time: 5.225 seconds\n"
     ]
    },
    {
     "name": "stderr",
     "output_type": "stream",
     "text": [
      "INFO:fbprophet:Disabling weekly seasonality. Run prophet with weekly_seasonality=True to override this.\n",
      "INFO:fbprophet:Disabling daily seasonality. Run prophet with daily_seasonality=True to override this.\n"
     ]
    },
    {
     "name": "stdout",
     "output_type": "stream",
     "text": [
      "Performing stepwise search to minimize aic\n",
      " ARIMA(1,0,1)(0,0,0)[0]             : AIC=11365.515, Time=0.05 sec\n",
      " ARIMA(0,0,0)(0,0,0)[0]             : AIC=12604.594, Time=0.01 sec\n",
      " ARIMA(1,0,0)(0,0,0)[0]             : AIC=11526.466, Time=0.02 sec\n",
      " ARIMA(0,0,1)(0,0,0)[0]             : AIC=12264.158, Time=0.02 sec\n",
      " ARIMA(2,0,1)(0,0,0)[0]             : AIC=11274.092, Time=0.05 sec\n",
      " ARIMA(2,0,0)(0,0,0)[0]             : AIC=11272.421, Time=0.03 sec\n",
      " ARIMA(3,0,0)(0,0,0)[0]             : AIC=11273.725, Time=0.06 sec\n",
      " ARIMA(3,0,1)(0,0,0)[0]             : AIC=11274.613, Time=0.08 sec\n",
      " ARIMA(2,0,0)(0,0,0)[0] intercept   : AIC=11107.810, Time=0.07 sec\n",
      " ARIMA(1,0,0)(0,0,0)[0] intercept   : AIC=11500.644, Time=0.03 sec\n",
      " ARIMA(3,0,0)(0,0,0)[0] intercept   : AIC=11034.305, Time=0.11 sec\n",
      " ARIMA(3,0,1)(0,0,0)[0] intercept   : AIC=11034.910, Time=0.18 sec\n",
      " ARIMA(2,0,1)(0,0,0)[0] intercept   : AIC=11129.373, Time=0.18 sec\n",
      "\n",
      "Best model:  ARIMA(3,0,0)(0,0,0)[0] intercept\n",
      "Total fit time: 0.900 seconds\n",
      "Performing stepwise search to minimize aic\n",
      " ARIMA(1,0,1)(0,1,1)[12] intercept   : AIC=10235.772, Time=0.39 sec\n",
      " ARIMA(0,0,0)(0,1,0)[12] intercept   : AIC=10336.282, Time=0.02 sec\n",
      " ARIMA(1,0,0)(1,1,0)[12] intercept   : AIC=10245.842, Time=0.25 sec\n",
      " ARIMA(0,0,1)(0,1,1)[12] intercept   : AIC=10261.408, Time=0.26 sec\n",
      " ARIMA(0,0,0)(0,1,0)[12]             : AIC=10340.748, Time=0.02 sec\n",
      " ARIMA(1,0,1)(0,1,0)[12] intercept   : AIC=10289.603, Time=0.13 sec\n",
      " ARIMA(1,0,1)(1,1,1)[12] intercept   : AIC=10237.641, Time=0.60 sec\n",
      " ARIMA(1,0,1)(0,1,2)[12] intercept   : AIC=10237.315, Time=0.83 sec\n",
      " ARIMA(1,0,1)(1,1,0)[12] intercept   : AIC=10245.823, Time=0.39 sec\n",
      " ARIMA(1,0,1)(1,1,2)[12] intercept   : AIC=10238.038, Time=1.95 sec\n",
      " ARIMA(1,0,0)(0,1,1)[12] intercept   : AIC=10235.696, Time=0.25 sec\n",
      " ARIMA(1,0,0)(0,1,0)[12] intercept   : AIC=10287.901, Time=0.05 sec\n",
      " ARIMA(1,0,0)(1,1,1)[12] intercept   : AIC=10237.305, Time=0.36 sec\n",
      " ARIMA(1,0,0)(0,1,2)[12] intercept   : AIC=10237.137, Time=0.63 sec\n",
      " ARIMA(1,0,0)(1,1,2)[12] intercept   : AIC=10239.095, Time=1.21 sec\n",
      " ARIMA(0,0,0)(0,1,1)[12] intercept   : AIC=10320.644, Time=0.18 sec\n",
      " ARIMA(2,0,0)(0,1,1)[12] intercept   : AIC=10235.011, Time=0.33 sec\n",
      " ARIMA(2,0,0)(0,1,0)[12] intercept   : AIC=10289.619, Time=0.07 sec\n",
      " ARIMA(2,0,0)(1,1,1)[12] intercept   : AIC=10236.741, Time=0.48 sec\n",
      " ARIMA(2,0,0)(0,1,2)[12] intercept   : AIC=10236.521, Time=0.78 sec\n",
      " ARIMA(2,0,0)(1,1,0)[12] intercept   : AIC=10245.950, Time=0.32 sec\n",
      " ARIMA(2,0,0)(1,1,2)[12] intercept   : AIC=10238.323, Time=0.91 sec\n",
      " ARIMA(3,0,0)(0,1,1)[12] intercept   : AIC=10236.838, Time=0.42 sec\n",
      " ARIMA(2,0,1)(0,1,1)[12] intercept   : AIC=10236.970, Time=0.64 sec\n",
      " ARIMA(3,0,1)(0,1,1)[12] intercept   : AIC=10238.465, Time=0.86 sec\n"
     ]
    },
    {
     "name": "stderr",
     "output_type": "stream",
     "text": [
      "INFO:fbprophet:Disabling weekly seasonality. Run prophet with weekly_seasonality=True to override this.\n",
      "INFO:fbprophet:Disabling daily seasonality. Run prophet with daily_seasonality=True to override this.\n"
     ]
    },
    {
     "name": "stdout",
     "output_type": "stream",
     "text": [
      " ARIMA(2,0,0)(0,1,1)[12]             : AIC=10239.361, Time=0.28 sec\n",
      "\n",
      "Best model:  ARIMA(2,0,0)(0,1,1)[12] intercept\n",
      "Total fit time: 12.640 seconds\n",
      "Performing stepwise search to minimize aic\n",
      " ARIMA(1,0,1)(0,0,0)[0]             : AIC=10993.204, Time=0.05 sec\n",
      " ARIMA(0,0,0)(0,0,0)[0]             : AIC=12248.491, Time=0.01 sec\n",
      " ARIMA(1,0,0)(0,0,0)[0]             : AIC=11114.374, Time=0.02 sec\n",
      " ARIMA(0,0,1)(0,0,0)[0]             : AIC=11922.274, Time=0.03 sec\n",
      " ARIMA(2,0,1)(0,0,0)[0]             : AIC=10911.021, Time=0.05 sec\n",
      " ARIMA(2,0,0)(0,0,0)[0]             : AIC=10910.867, Time=0.03 sec\n",
      " ARIMA(3,0,0)(0,0,0)[0]             : AIC=10908.974, Time=0.05 sec\n",
      " ARIMA(3,0,1)(0,0,0)[0]             : AIC=10889.416, Time=0.18 sec\n",
      " ARIMA(3,0,2)(0,0,0)[0]             : AIC=10609.196, Time=0.39 sec\n",
      " ARIMA(2,0,2)(0,0,0)[0]             : AIC=10864.036, Time=0.10 sec\n",
      " ARIMA(3,0,3)(0,0,0)[0]             : AIC=10856.728, Time=0.35 sec\n",
      " ARIMA(2,0,3)(0,0,0)[0]             : AIC=10849.487, Time=0.27 sec\n",
      " ARIMA(3,0,2)(0,0,0)[0] intercept   : AIC=10738.659, Time=0.40 sec\n",
      "\n",
      "Best model:  ARIMA(3,0,2)(0,0,0)[0]          \n",
      "Total fit time: 1.930 seconds\n",
      "Performing stepwise search to minimize aic\n",
      " ARIMA(1,0,1)(0,1,1)[12] intercept   : AIC=9840.157, Time=0.34 sec\n",
      " ARIMA(0,0,0)(0,1,0)[12] intercept   : AIC=9946.716, Time=0.03 sec\n",
      " ARIMA(1,0,0)(1,1,0)[12] intercept   : AIC=9859.727, Time=0.22 sec\n",
      " ARIMA(0,0,1)(0,1,1)[12] intercept   : AIC=9878.135, Time=0.21 sec\n",
      " ARIMA(0,0,0)(0,1,0)[12]             : AIC=9974.328, Time=0.02 sec\n",
      " ARIMA(1,0,1)(0,1,0)[12] intercept   : AIC=9897.073, Time=0.10 sec\n",
      " ARIMA(1,0,1)(1,1,1)[12] intercept   : AIC=9841.167, Time=0.43 sec\n",
      " ARIMA(1,0,1)(0,1,2)[12] intercept   : AIC=9842.129, Time=0.81 sec\n",
      " ARIMA(1,0,1)(1,1,0)[12] intercept   : AIC=9847.474, Time=0.29 sec\n",
      " ARIMA(1,0,1)(1,1,2)[12] intercept   : AIC=9836.415, Time=1.78 sec\n",
      " ARIMA(1,0,1)(2,1,2)[12] intercept   : AIC=9836.271, Time=1.95 sec\n",
      " ARIMA(1,0,1)(2,1,1)[12] intercept   : AIC=9834.918, Time=1.44 sec\n",
      " ARIMA(1,0,1)(2,1,0)[12] intercept   : AIC=9833.952, Time=0.79 sec\n",
      " ARIMA(0,0,1)(2,1,0)[12] intercept   : AIC=9882.950, Time=0.52 sec\n",
      " ARIMA(1,0,0)(2,1,0)[12] intercept   : AIC=9844.665, Time=0.55 sec\n",
      " ARIMA(2,0,1)(2,1,0)[12] intercept   : AIC=9835.679, Time=1.08 sec\n",
      " ARIMA(1,0,2)(2,1,0)[12] intercept   : AIC=9834.930, Time=1.04 sec\n",
      " ARIMA(0,0,0)(2,1,0)[12] intercept   : AIC=9928.792, Time=1.19 sec\n",
      " ARIMA(0,0,2)(2,1,0)[12] intercept   : AIC=9861.917, Time=0.59 sec\n",
      " ARIMA(2,0,0)(2,1,0)[12] intercept   : AIC=9834.984, Time=0.69 sec\n",
      " ARIMA(2,0,2)(2,1,0)[12] intercept   : AIC=9836.924, Time=1.50 sec\n"
     ]
    },
    {
     "name": "stderr",
     "output_type": "stream",
     "text": [
      "INFO:fbprophet:Disabling weekly seasonality. Run prophet with weekly_seasonality=True to override this.\n",
      "INFO:fbprophet:Disabling daily seasonality. Run prophet with daily_seasonality=True to override this.\n"
     ]
    },
    {
     "name": "stdout",
     "output_type": "stream",
     "text": [
      " ARIMA(1,0,1)(2,1,0)[12]             : AIC=9844.225, Time=0.64 sec\n",
      "\n",
      "Best model:  ARIMA(1,0,1)(2,1,0)[12] intercept\n",
      "Total fit time: 16.221 seconds\n"
     ]
    }
   ],
   "source": [
    "error_list = []\n",
    "for park in top_10_park_codes:\n",
    "    error_dict = {}\n",
    "    \n",
    "    park_df = prep_data(park)\n",
    "    \n",
    "    error_dict = evaluate_models(park_df, 48, park)\n",
    "    \n",
    "    error_list.append(error_dict)"
   ]
  },
  {
   "cell_type": "code",
   "execution_count": 185,
   "metadata": {},
   "outputs": [
    {
     "data": {
      "text/html": [
       "<div>\n",
       "<style scoped>\n",
       "    .dataframe tbody tr th:only-of-type {\n",
       "        vertical-align: middle;\n",
       "    }\n",
       "\n",
       "    .dataframe tbody tr th {\n",
       "        vertical-align: top;\n",
       "    }\n",
       "\n",
       "    .dataframe thead th {\n",
       "        text-align: right;\n",
       "    }\n",
       "</style>\n",
       "<table border=\"1\" class=\"dataframe\">\n",
       "  <thead>\n",
       "    <tr style=\"text-align: right;\">\n",
       "      <th></th>\n",
       "      <th>park_code</th>\n",
       "      <th>ARIMA_mape</th>\n",
       "      <th>SARIMA_mape</th>\n",
       "      <th>FB_Prophet_mape</th>\n",
       "    </tr>\n",
       "  </thead>\n",
       "  <tbody>\n",
       "    <tr>\n",
       "      <th>0</th>\n",
       "      <td>ACAD</td>\n",
       "      <td>521.372180</td>\n",
       "      <td>26.802974</td>\n",
       "      <td>63.281135</td>\n",
       "    </tr>\n",
       "    <tr>\n",
       "      <th>1</th>\n",
       "      <td>GLAC</td>\n",
       "      <td>413.700790</td>\n",
       "      <td>34.171251</td>\n",
       "      <td>101.880020</td>\n",
       "    </tr>\n",
       "    <tr>\n",
       "      <th>2</th>\n",
       "      <td>GRCA</td>\n",
       "      <td>28.207696</td>\n",
       "      <td>12.592828</td>\n",
       "      <td>18.194749</td>\n",
       "    </tr>\n",
       "    <tr>\n",
       "      <th>3</th>\n",
       "      <td>GRTE</td>\n",
       "      <td>158.575458</td>\n",
       "      <td>29.763549</td>\n",
       "      <td>38.299340</td>\n",
       "    </tr>\n",
       "    <tr>\n",
       "      <th>4</th>\n",
       "      <td>GRSM</td>\n",
       "      <td>28.196613</td>\n",
       "      <td>9.438412</td>\n",
       "      <td>17.565174</td>\n",
       "    </tr>\n",
       "    <tr>\n",
       "      <th>5</th>\n",
       "      <td>OLYM</td>\n",
       "      <td>106.973278</td>\n",
       "      <td>18.492869</td>\n",
       "      <td>17.705511</td>\n",
       "    </tr>\n",
       "    <tr>\n",
       "      <th>6</th>\n",
       "      <td>ROMO</td>\n",
       "      <td>108.927546</td>\n",
       "      <td>10.935630</td>\n",
       "      <td>21.776994</td>\n",
       "    </tr>\n",
       "    <tr>\n",
       "      <th>7</th>\n",
       "      <td>YELL</td>\n",
       "      <td>423.516955</td>\n",
       "      <td>27.789571</td>\n",
       "      <td>153.600737</td>\n",
       "    </tr>\n",
       "    <tr>\n",
       "      <th>8</th>\n",
       "      <td>YOSE</td>\n",
       "      <td>50.249498</td>\n",
       "      <td>17.022280</td>\n",
       "      <td>20.149310</td>\n",
       "    </tr>\n",
       "    <tr>\n",
       "      <th>9</th>\n",
       "      <td>ZION</td>\n",
       "      <td>24.693805</td>\n",
       "      <td>15.901526</td>\n",
       "      <td>26.772079</td>\n",
       "    </tr>\n",
       "  </tbody>\n",
       "</table>\n",
       "</div>"
      ],
      "text/plain": [
       "  park_code  ARIMA_mape  SARIMA_mape  FB_Prophet_mape\n",
       "0      ACAD  521.372180    26.802974        63.281135\n",
       "1      GLAC  413.700790    34.171251       101.880020\n",
       "2      GRCA   28.207696    12.592828        18.194749\n",
       "3      GRTE  158.575458    29.763549        38.299340\n",
       "4      GRSM   28.196613     9.438412        17.565174\n",
       "5      OLYM  106.973278    18.492869        17.705511\n",
       "6      ROMO  108.927546    10.935630        21.776994\n",
       "7      YELL  423.516955    27.789571       153.600737\n",
       "8      YOSE   50.249498    17.022280        20.149310\n",
       "9      ZION   24.693805    15.901526        26.772079"
      ]
     },
     "execution_count": 185,
     "metadata": {},
     "output_type": "execute_result"
    }
   ],
   "source": [
    "model_error_df = pd.DataFrame(error_list)\n",
    "model_error_df"
   ]
  },
  {
   "cell_type": "code",
   "execution_count": 186,
   "metadata": {},
   "outputs": [],
   "source": [
    "model_error_df.to_pickle(\"model_data/model_error_df.pickle\")"
   ]
  },
  {
   "cell_type": "markdown",
   "metadata": {},
   "source": [
    "<a id='section5'></a>"
   ]
  },
  {
   "cell_type": "markdown",
   "metadata": {},
   "source": [
    "### 5. Save Final Models"
   ]
  },
  {
   "cell_type": "markdown",
   "metadata": {},
   "source": [
    "* note: after running the project_5_neural_net_model_eval, I determined the SARIMA models had the lowest mean absolute percent error, so I would like to save these models to use as predictions in my web app"
   ]
  },
  {
   "cell_type": "markdown",
   "metadata": {},
   "source": [
    "First, I need to make a figure for my presentation showing how SARIMA predicted values vs. actual visitor counts."
   ]
  },
  {
   "cell_type": "code",
   "execution_count": 55,
   "metadata": {},
   "outputs": [],
   "source": [
    "def save_sarima(data, months, park_code):\n",
    "    '''\n",
    "    Fit a SARIMA model to the data to save as my final model\n",
    "    \n",
    "    Parameters:\n",
    "    -----------\n",
    "    - data: (generally refers to output from the prep_data function) a cleaned dataframe\n",
    "            with date and visitor counts\n",
    "    - months: the number of months to split the data into training and testing sets\n",
    "    - park_code: the 4 letter code corresponding to a park, such as \"YOSE\" for Yosemite\n",
    "    \n",
    "    Returns:\n",
    "    --------\n",
    "    - best_sarima: SARIMA model fit to the data\n",
    "    '''\n",
    "    train_data, test_data = split_train_test(data, months)\n",
    "    best_sarima = auto_arima(train_data[\"num_visitors\"].values, start_p = 1, start_q = 1,\n",
    "                        test='adf', max_p = 3, max_q = 3, m=12, d=None, seasonal=True,\n",
    "                        start_P=0, D=1, trace=True, error_action='ignore', suppress_warnings=True, stepwise=True)\n",
    "    \n",
    "    return best_sarima"
   ]
  },
  {
   "cell_type": "code",
   "execution_count": 56,
   "metadata": {},
   "outputs": [
    {
     "name": "stdout",
     "output_type": "stream",
     "text": [
      "Performing stepwise search to minimize aic\n",
      " ARIMA(1,0,1)(0,1,1)[12] intercept   : AIC=10235.772, Time=0.43 sec\n",
      " ARIMA(0,0,0)(0,1,0)[12] intercept   : AIC=10336.282, Time=0.02 sec\n",
      " ARIMA(1,0,0)(1,1,0)[12] intercept   : AIC=10245.842, Time=0.24 sec\n",
      " ARIMA(0,0,1)(0,1,1)[12] intercept   : AIC=10261.408, Time=0.26 sec\n",
      " ARIMA(0,0,0)(0,1,0)[12]             : AIC=10340.748, Time=0.03 sec\n",
      " ARIMA(1,0,1)(0,1,0)[12] intercept   : AIC=10289.603, Time=0.13 sec\n",
      " ARIMA(1,0,1)(1,1,1)[12] intercept   : AIC=10237.641, Time=0.57 sec\n",
      " ARIMA(1,0,1)(0,1,2)[12] intercept   : AIC=10237.315, Time=0.83 sec\n",
      " ARIMA(1,0,1)(1,1,0)[12] intercept   : AIC=10245.823, Time=0.39 sec\n",
      " ARIMA(1,0,1)(1,1,2)[12] intercept   : AIC=10238.038, Time=1.77 sec\n",
      " ARIMA(1,0,0)(0,1,1)[12] intercept   : AIC=10235.696, Time=0.25 sec\n",
      " ARIMA(1,0,0)(0,1,0)[12] intercept   : AIC=10287.901, Time=0.06 sec\n",
      " ARIMA(1,0,0)(1,1,1)[12] intercept   : AIC=10237.305, Time=0.36 sec\n",
      " ARIMA(1,0,0)(0,1,2)[12] intercept   : AIC=10237.137, Time=0.63 sec\n",
      " ARIMA(1,0,0)(1,1,2)[12] intercept   : AIC=10239.095, Time=1.18 sec\n",
      " ARIMA(0,0,0)(0,1,1)[12] intercept   : AIC=10320.644, Time=0.16 sec\n",
      " ARIMA(2,0,0)(0,1,1)[12] intercept   : AIC=10235.011, Time=0.31 sec\n",
      " ARIMA(2,0,0)(0,1,0)[12] intercept   : AIC=10289.619, Time=0.07 sec\n",
      " ARIMA(2,0,0)(1,1,1)[12] intercept   : AIC=10236.741, Time=0.48 sec\n",
      " ARIMA(2,0,0)(0,1,2)[12] intercept   : AIC=10236.521, Time=0.73 sec\n",
      " ARIMA(2,0,0)(1,1,0)[12] intercept   : AIC=10245.950, Time=0.30 sec\n",
      " ARIMA(2,0,0)(1,1,2)[12] intercept   : AIC=10238.323, Time=0.84 sec\n",
      " ARIMA(3,0,0)(0,1,1)[12] intercept   : AIC=10236.838, Time=0.42 sec\n",
      " ARIMA(2,0,1)(0,1,1)[12] intercept   : AIC=10236.970, Time=0.61 sec\n",
      " ARIMA(3,0,1)(0,1,1)[12] intercept   : AIC=10238.465, Time=0.83 sec\n",
      " ARIMA(2,0,0)(0,1,1)[12]             : AIC=10239.361, Time=0.27 sec\n",
      "\n",
      "Best model:  ARIMA(2,0,0)(0,1,1)[12] intercept\n",
      "Total fit time: 12.204 seconds\n"
     ]
    }
   ],
   "source": [
    "park_df = prep_data(\"YOSE\")\n",
    "sarima_model = save_sarima(park_df, 48, \"YOSE\")"
   ]
  },
  {
   "cell_type": "code",
   "execution_count": 58,
   "metadata": {},
   "outputs": [],
   "source": [
    "sarima_predictions = sarima_model.predict(n_periods=48)"
   ]
  },
  {
   "cell_type": "code",
   "execution_count": 59,
   "metadata": {},
   "outputs": [
    {
     "data": {
      "image/png": "[encoded data removed]",
      "text/plain": [
       "<Figure size 432x288 with 1 Axes>"
      ]
     },
     "metadata": {
      "needs_background": "light"
     },
     "output_type": "display_data"
    }
   ],
   "source": [
    "comparison = pd.DataFrame(sarima_predictions)\n",
    "comparison[\"actual\"] = pd.Series(test_data[\"num_visitors\"].values, index=comparison.index)\n",
    "comparison = comparison.rename(columns={0:\"prediction\"})\n",
    "comparison.plot();"
   ]
  },
  {
   "cell_type": "code",
   "execution_count": null,
   "metadata": {},
   "outputs": [],
   "source": [
    "comparison.index = test_data.index"
   ]
  },
  {
   "cell_type": "code",
   "execution_count": 88,
   "metadata": {},
   "outputs": [
    {
     "data": {
      "image/png": "[encoded data removed]",
      "text/plain": [
       "<Figure size 1080x360 with 1 Axes>"
      ]
     },
     "metadata": {
      "needs_background": "light"
     },
     "output_type": "display_data"
    }
   ],
   "source": [
    "plt.figure(figsize=(15,5))\n",
    "\n",
    "plt.plot(comparison.index, comparison[\"prediction\"], label=\"prediction\", color='#DE482B', linestyle='--')\n",
    "sns.lineplot(x=comparison.index, y=comparison[\"actual\"], label=\"actual\", color='#3B77BC')\n",
    "\n",
    "sns.despine(top=True, right=True)\n",
    "\n",
    "legend = plt.legend(bbox_to_anchor=(0,1), loc=\"upper left\", frameon=False)\n",
    "legend.texts[0].set_text(\"Prediction\")\n",
    "legend.texts[1].set_text(\"Actual\")\n",
    "\n",
    "plt.title(\"SARIMA Predicted vs. Actual Visitor Count\", fontsize=20, fontname=\"AppleGothic\")\n",
    "\n",
    "plt.xlabel(\"Time\", fontname=\"AppleGothic\", fontsize=18)\n",
    "plt.ylabel(\"Number of Visitors\", fontname=\"AppleGothic\", fontsize=18)\n",
    "\n",
    "plt.xticks(rotation=20, fontname=\"AppleGothic\", fontsize=14)\n",
    "plt.yticks(fontname=\"AppleGothic\", fontsize=14)\n",
    "plt.tight_layout()\n",
    "\n",
    "plt.savefig('images/sarima_forecast.png', format='png', dpi=400, transparent=True);"
   ]
  },
  {
   "cell_type": "code",
   "execution_count": null,
   "metadata": {},
   "outputs": [],
   "source": [
    "top_10_park_codes = ['ACAD',\n",
    " 'GLAC',\n",
    " 'GRCA',\n",
    " 'GRTE',\n",
    " 'GRSM',\n",
    " 'OLYM',\n",
    " 'ROMO',\n",
    " 'YELL',\n",
    " 'YOSE',\n",
    " 'ZION']"
   ]
  },
  {
   "cell_type": "code",
   "execution_count": null,
   "metadata": {},
   "outputs": [],
   "source": [
    "# save fitted sarima models\n",
    "for park in top_10_park_codes:\n",
    "    \n",
    "    park_df = prep_data(park)\n",
    "    \n",
    "    sarima_model = save_sarima(park_df, 48, park)\n",
    "    \n",
    "    with open(f\"model_data/{park}_sarima.pickle\", \"wb\") as write_file:\n",
    "        pickle.dump(sarima_model, write_file)"
   ]
  },
  {
   "cell_type": "markdown",
   "metadata": {},
   "source": [
    "Now my goal is to create a figure to compare the error rates between the different time series models. This is done after the neural net models metrics have been calculated."
   ]
  },
  {
   "cell_type": "code",
   "execution_count": null,
   "metadata": {},
   "outputs": [],
   "source": [
    "# open up mean absolute percent error model metrics\n",
    "model_error_df = pd.read_pickle(\"model_data/model_error_df.pickle\")\n",
    "nn_model_error_df = pd.read_pickle(\"model_data/nn_model_error_df.pickle\")\n",
    "\n",
    "# combine the dataframes\n",
    "combined_df = pd.merge(model_error_df, nn_model_error_df, on=\"park_code\")\n",
    "combined_df.index = combined_df[\"park_code\"]\n",
    "\n",
    "# dropping ARIMA error column because the errors are extremely large and SARIMA performs much better\n",
    "combined_df.drop(columns=[\"park_code\", \"ARIMA_mape\"], inplace=True)\n",
    "\n",
    "# stack the dataframe so each row is a park and model\n",
    "stacked_df = pd.DataFrame(combined_df.stack()).reset_index()\n",
    "stacked_df.columns = [\"park_code\", \"model\", \"mape\"]"
   ]
  },
  {
   "cell_type": "code",
   "execution_count": 89,
   "metadata": {},
   "outputs": [
    {
     "data": {
      "image/png": "[encoded data removed]",
      "text/plain": [
       "<Figure size 1080x360 with 1 Axes>"
      ]
     },
     "metadata": {
      "needs_background": "light"
     },
     "output_type": "display_data"
    }
   ],
   "source": [
    "plt.figure(figsize=(15,5))\n",
    "sns.boxplot(x=\"model\", y=\"mape\", data=stacked_df, palette='winter_r')\n",
    "sns.despine(top=True, right=True)\n",
    "\n",
    "plt.title(\"Time Series Model Comparison\", fontsize=20, fontname=\"AppleGothic\")\n",
    "\n",
    "plt.xlabel(\"Model\", fontsize=18, fontname=\"AppleGothic\")\n",
    "plt.ylabel(\"Mean Average Percent Error (%)\", fontsize=18, fontname=\"AppleGothic\")\n",
    "\n",
    "tick_names = [0,1,2,3,4,5]\n",
    "tick_labels = [\"SARIMA\", \"FB Prophet\", \"Simple LSTM\", \"Stacked LSTM\", \"Bidirectional LSTM\", \"CNN LSTM\"]\n",
    "\n",
    "plt.xticks(ticks=tick_names, labels=tick_labels, fontsize=14, fontname=\"AppleGothic\")\n",
    "plt.yticks(fontsize=14, fontname=\"AppleGothic\")\n",
    "\n",
    "plt.tight_layout()\n",
    "plt.savefig('images/model_comparison.png', format='png', dpi=400, transparent=True);"
   ]
  }
 ],
 "metadata": {
  "kernelspec": {
   "display_name": "Python 3",
   "language": "python",
   "name": "python3"
  },
  "language_info": {
   "codemirror_mode": {
    "name": "ipython",
    "version": 3
   },
   "file_extension": ".py",
   "mimetype": "text/x-python",
   "name": "python",
   "nbconvert_exporter": "python",
   "pygments_lexer": "ipython3",
   "version": "3.7.7"
  }
 },
 "nbformat": 4,
 "nbformat_minor": 4
}
