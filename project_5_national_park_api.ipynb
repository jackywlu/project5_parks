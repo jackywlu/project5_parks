{
 "cells": [
  {
   "cell_type": "markdown",
   "metadata": {},
   "source": [
    "In this notebook, I use the National Park API to pull in topics and activities related to each national park to build a topic/activity matrix for my recommender. I also scrape the National Park website for visitor count information."
   ]
  },
  {
   "cell_type": "markdown",
   "metadata": {},
   "source": [
    "# Table of Contents\n",
    "1. [Imports](#section1)\n",
    "2. [Sign in to API](#section2)\n",
    "3. [API Exploration Functions](#section3)\n",
    "4. [Collect National Park Names](#section4)\n",
    "\n",
    "\n",
    "Exploration Part of the Notebook:<br/>\n",
    "5. [Practice Parsing through an HTML table](#section5)<br/>\n",
    "6. [More EDA](#section6)<br/>"
   ]
  },
  {
   "cell_type": "markdown",
   "metadata": {},
   "source": [
    "<a id='section1'></a>"
   ]
  },
  {
   "cell_type": "markdown",
   "metadata": {},
   "source": [
    "### 1. Imports"
   ]
  },
  {
   "cell_type": "code",
   "execution_count": 476,
   "metadata": {},
   "outputs": [],
   "source": [
    "# standard imports\n",
    "import pandas as pd\n",
    "import numpy as np\n",
    "import matplotlib.pyplot as plt\n",
    "import seaborn as sns\n",
    "import pickle\n",
    "import random\n",
    "\n",
    "%matplotlib inline"
   ]
  },
  {
   "cell_type": "code",
   "execution_count": 85,
   "metadata": {},
   "outputs": [],
   "source": [
    "# API access imports\n",
    "import requests\n",
    "import json\n",
    "\n",
    "# web scraping\n",
    "from bs4 import BeautifulSoup\n",
    "import time\n",
    "import re"
   ]
  },
  {
   "cell_type": "code",
   "execution_count": 213,
   "metadata": {},
   "outputs": [],
   "source": [
    "# use cosine similarity to use as a topic/activity matrix recommender\n",
    "from sklearn.metrics.pairwise import cosine_similarity"
   ]
  },
  {
   "cell_type": "markdown",
   "metadata": {},
   "source": [
    "<a id='section2'></a>"
   ]
  },
  {
   "cell_type": "markdown",
   "metadata": {},
   "source": [
    "### 2. Sign in to API"
   ]
  },
  {
   "cell_type": "code",
   "execution_count": 86,
   "metadata": {},
   "outputs": [],
   "source": [
    "# fill in with own API key\n",
    "api_key = ''"
   ]
  },
  {
   "cell_type": "code",
   "execution_count": 87,
   "metadata": {},
   "outputs": [],
   "source": [
    "endpoint = 'https://developer.nps.gov/api/v1'\n",
    "HEADERS = {\"api_key\": api_key}"
   ]
  },
  {
   "cell_type": "markdown",
   "metadata": {},
   "source": [
    "<a id='section3'></a>"
   ]
  },
  {
   "cell_type": "markdown",
   "metadata": {},
   "source": [
    "### 3. API Exploration Functions"
   ]
  },
  {
   "cell_type": "code",
   "execution_count": 88,
   "metadata": {},
   "outputs": [],
   "source": [
    "def build_url(endpoint, search_type, parks):\n",
    "    '''\n",
    "    This function is used to access different National Park API endpoints.\n",
    "    Parameters:\n",
    "    -----------\n",
    "    - endpoint: one of the National Park endpoints such as activities. Endpoints can be found \n",
    "    at this website https://www.nps.gov/subjects/developer/api-documentation.htm#/\n",
    "    - search_type: some endpoints have multiple search types\n",
    "    - parks: list of 4 letter park codes\n",
    "    \n",
    "    Returns:\n",
    "    --------\n",
    "    - final_url: final url combining the endpoint, search type, and parks\n",
    "    '''\n",
    "    final_url = endpoint + \"/\" + search_type\n",
    "    for park in parks:\n",
    "        final_url = final_url + \"?parkCode=\" + park\n",
    "    return final_url"
   ]
  },
  {
   "cell_type": "code",
   "execution_count": 90,
   "metadata": {},
   "outputs": [],
   "source": [
    "def get_json(api_url, HEADERS):\n",
    "    '''\n",
    "    This function is access a JSON object from an API endpoint.\n",
    "    Parameters:\n",
    "    -----------\n",
    "    - api_url: API endpoint URL\n",
    "    - HEADERS: API access credentials\n",
    "    \n",
    "    Returns:\n",
    "    --------\n",
    "    - json object related to the API call\n",
    "    \n",
    "    '''\n",
    "    try:\n",
    "        response = requests.get(api_url, params=HEADERS)\n",
    "    except requests.exceptions.ConnectionError as e:\n",
    "        raise RuntimeError(e)\n",
    "    return response.json()"
   ]
  },
  {
   "cell_type": "markdown",
   "metadata": {},
   "source": [
    "<a id='section4'></a>"
   ]
  },
  {
   "cell_type": "markdown",
   "metadata": {},
   "source": [
    "### 4. Collecting National Park Names"
   ]
  },
  {
   "cell_type": "code",
   "execution_count": 15,
   "metadata": {},
   "outputs": [],
   "source": [
    "url = 'https://irma.nps.gov/RPRS/Parks/Search'\n",
    "response = requests.get(url)\n",
    "page = response.text\n",
    "soup = BeautifulSoup(page, 'lxml')\n",
    "soup"
   ]
  },
  {
   "cell_type": "markdown",
   "metadata": {},
   "source": [
    "Copy and paste the park 4 letter codes and the names associated with them."
   ]
  },
  {
   "cell_type": "code",
   "execution_count": 51,
   "metadata": {},
   "outputs": [],
   "source": [
    "park_names = [{\"Key\":\"ABLI\",\"Value\":\"Abraham Lincoln Birthplace (ABLI)\"},{\"Key\":\"ACAD\",\"Value\":\"Acadia (ACAD)\"},{\"Key\":\"ADAM\",\"Value\":\"Adams (ADAM)\"},{\"Key\":\"AFBG\",\"Value\":\"African Burial Ground (AFBG)\"},{\"Key\":\"AGFO\",\"Value\":\"Agate Fossil Beds (AGFO)\"},{\"Key\":\"ALKA\",\"Value\":\"Ala Kahakai National Historic Trail (ALKA)\"},{\"Key\":\"ALAG\",\"Value\":\"Alagnak Wild River (ALAG)\"},{\"Key\":\"ALEU\",\"Value\":\"Aleutian Islands World War II (ALEU)\"},{\"Key\":\"ALFL\",\"Value\":\"Alibates Flint Quarries (ALFL)\"},{\"Key\":\"ALPO\",\"Value\":\"Allegheny Portage Railroad (ALPO)\"},{\"Key\":\"AMME\",\"Value\":\"American Memorial Park (AMME)\"},{\"Key\":\"AMIS\",\"Value\":\"Amistad (AMIS)\"},{\"Key\":\"ANDE\",\"Value\":\"Andersonville (ANDE)\"},{\"Key\":\"ANJO\",\"Value\":\"Andrew Johnson (ANJO)\"},{\"Key\":\"ANIA\",\"Value\":\"Aniakchak (ANIA)\"},{\"Key\":\"ANTI\",\"Value\":\"Antietam (ANTI)\"},{\"Key\":\"ANCM\",\"Value\":\"Antietam (ANCM)\"},{\"Key\":\"APIS\",\"Value\":\"Apostle Islands (APIS)\"},{\"Key\":\"APPA\",\"Value\":\"Appalachian (APPA)\"},{\"Key\":\"APCO\",\"Value\":\"Appomattox Court House (APCO)\"},{\"Key\":\"ARCH\",\"Value\":\"Arches (ARCH)\"},{\"Key\":\"ARPO\",\"Value\":\"Arkansas Post (ARPO)\"},{\"Key\":\"ARHO\",\"Value\":\"Arlington House, The Robert E. Lee Memorial (ARHO)\"},{\"Key\":\"ASIS\",\"Value\":\"Assateague Island (ASIS)\"},{\"Key\":\"AZRU\",\"Value\":\"Aztec Ruins (AZRU)\"},{\"Key\":\"BADL\",\"Value\":\"Badlands (BADL)\"},{\"Key\":\"BAWA\",\"Value\":\"Baltimore-Washington (BAWA)\"},{\"Key\":\"BAND\",\"Value\":\"Bandelier (BAND)\"},{\"Key\":\"BATT\",\"Value\":\"Battleground (BATT)\"},{\"Key\":\"BEPA\",\"Value\":\"Belmont-Paul Women's Equality (BEPA)\"},{\"Key\":\"BEFR\",\"Value\":\"Benjamin Franklin National Memorial (BEFR)\"},{\"Key\":\"BEOL\",\"Value\":\"Bent's Old Fort (BEOL)\"},{\"Key\":\"BELA\",\"Value\":\"Bering Land Bridge (BELA)\"},{\"Key\":\"BERI\",\"Value\":\"Beringia International Heritage Park (BERI)\"},{\"Key\":\"BIBE\",\"Value\":\"Big Bend (BIBE)\"},{\"Key\":\"BICY\",\"Value\":\"Big Cypress (BICY)\"},{\"Key\":\"BIHO\",\"Value\":\"Big Hole (BIHO)\"},{\"Key\":\"BISO\",\"Value\":\"Big South Fork National River and Recreation Area (BISO)\"},{\"Key\":\"BITH\",\"Value\":\"Big Thicket (BITH)\"},{\"Key\":\"BICA\",\"Value\":\"Bighorn Canyon (BICA)\"},{\"Key\":\"BISC\",\"Value\":\"Biscayne (BISC)\"},{\"Key\":\"BLCA\",\"Value\":\"Black Canyon of the Gunnison (BLCA)\"},{\"Key\":\"BLRV\",\"Value\":\"Blackstone River Valley (BLRV)\"},{\"Key\":\"BLAC\",\"Value\":\"Blackstone River Valley National Heritage Corridor (BLAC)\"},{\"Key\":\"BLRI\",\"Value\":\"Blue Ridge Parkway (BLRI)\"},{\"Key\":\"BLUE\",\"Value\":\"Bluestone National Scenic River (BLUE)\"},{\"Key\":\"BOWA\",\"Value\":\"Booker T. Washington (BOWA)\"},{\"Key\":\"BOST\",\"Value\":\"Boston (BOST)\"},{\"Key\":\"BOAF\",\"Value\":\"Boston African American (BOAF)\"},{\"Key\":\"BOHA\",\"Value\":\"Boston Harbor Islands (BOHA)\"},{\"Key\":\"BRCR\",\"Value\":\"Brices Cross Roads (BRCR)\"},{\"Key\":\"BRVB\",\"Value\":\"Brown v. Board of Education (BRVB)\"},{\"Key\":\"BRCA\",\"Value\":\"Bryce Canyon (BRCA)\"},{\"Key\":\"BUIS\",\"Value\":\"Buck Island Reef (BUIS)\"},{\"Key\":\"BUFF\",\"Value\":\"Buffalo (BUFF)\"},{\"Key\":\"CABR\",\"Value\":\"Cabrillo (CABR)\"},{\"Key\":\"CALA\",\"Value\":\"Cache La Poudre River Corridor (CALA)\"},{\"Key\":\"CALI\",\"Value\":\"California (CALI)\"},{\"Key\":\"CANA\",\"Value\":\"Canaveral (CANA)\"},{\"Key\":\"CRHA\",\"Value\":\"Cane River (CRHA)\"},{\"Key\":\"CARI\",\"Value\":\"Cane River Creole (CARI)\"},{\"Key\":\"CACH\",\"Value\":\"Canyon De Chelly (CACH)\"},{\"Key\":\"CANY\",\"Value\":\"Canyonlands (CANY)\"},{\"Key\":\"CACO\",\"Value\":\"Cape Cod (CACO)\"},{\"Key\":\"CAHA\",\"Value\":\"Cape Hatteras (CAHA)\"},{\"Key\":\"CAME\",\"Value\":\"Cape Henry (CAME)\"},{\"Key\":\"CAKR\",\"Value\":\"Cape Krusenstern (CAKR)\"},{\"Key\":\"CALO\",\"Value\":\"Cape Lookout (CALO)\"},{\"Key\":\"CARE\",\"Value\":\"Capitol Reef (CARE)\"},{\"Key\":\"CAJO\",\"Value\":\"Captain John Smith Chesapeake National Historic Trail (CAJO)\"},{\"Key\":\"CAVO\",\"Value\":\"Capulin Volcano (CAVO)\"},{\"Key\":\"CARL\",\"Value\":\"Carl Sandburg Home (CARL)\"},{\"Key\":\"CAVE\",\"Value\":\"Carlsbad Caverns (CAVE)\"},{\"Key\":\"CAGR\",\"Value\":\"Casa Grande Ruins (CAGR)\"},{\"Key\":\"CASA\",\"Value\":\"Castillo De San Marcos (CASA)\"},{\"Key\":\"CACL\",\"Value\":\"Castle Clinton (CACL)\"},{\"Key\":\"CATO\",\"Value\":\"Catoctin Mountain (CATO)\"},{\"Key\":\"CEBR\",\"Value\":\"Cedar Breaks (CEBR)\"},{\"Key\":\"CEBE\",\"Value\":\"Cedar Creek and Belle Grove (CEBE)\"},{\"Key\":\"CHSC\",\"Value\":\"Central High School (CHSC)\"},{\"Key\":\"CECH\",\"Value\":\"Cesar E. Chavez (CECH)\"},{\"Key\":\"CHCU\",\"Value\":\"Chaco Culture (CHCU)\"},{\"Key\":\"CHAM\",\"Value\":\"Chamizal (CHAM)\"},{\"Key\":\"CHIS\",\"Value\":\"Channel Islands (CHIS)\"},{\"Key\":\"CHPI\",\"Value\":\"Charles Pinckney (CHPI)\"},{\"Key\":\"CHYO\",\"Value\":\"Charles Young Buffalo Soldiers (CHYO)\"},{\"Key\":\"CHAT\",\"Value\":\"Chattahoochee River (CHAT)\"},{\"Key\":\"CHOH\",\"Value\":\"Chesapeake and Ohio Canal (CHOH)\"},{\"Key\":\"CBPO\",\"Value\":\"Chesapeake Bay Gateways (CBPO)\"},{\"Key\":\"CHPO\",\"Value\":\"Chicago Portage National Historic Site (CHPO)\"},{\"Key\":\"CHCH\",\"Value\":\"Chickamauga and Chattanooga (CHCH)\"},{\"Key\":\"CHIC\",\"Value\":\"Chickasaw (CHIC)\"},{\"Key\":\"CHRO\",\"Value\":\"Chimney Rock National Historic Site (CHRO)\"},{\"Key\":\"CHIR\",\"Value\":\"Chiricahua (CHIR)\"},{\"Key\":\"CHRI\",\"Value\":\"Christiansted (CHRI)\"},{\"Key\":\"CIRO\",\"Value\":\"City Of Rocks (CIRO)\"},{\"Key\":\"CLBA\",\"Value\":\"Clara Barton (CLBA)\"},{\"Key\":\"COLO\",\"Value\":\"Colonial (COLO)\"},{\"Key\":\"COLP\",\"Value\":\"Colonial Parkway (COLP)\"},{\"Key\":\"COLM\",\"Value\":\"Colorado (COLM)\"},{\"Key\":\"CONG\",\"Value\":\"Congaree (CONG)\"},{\"Key\":\"CORO\",\"Value\":\"Coronado (CORO)\"},{\"Key\":\"CODA\",\"Value\":\"Coulee Dam (CODA)\"},{\"Key\":\"COWP\",\"Value\":\"Cowpens (COWP)\"},{\"Key\":\"CRLA\",\"Value\":\"Crater Lake (CRLA)\"},{\"Key\":\"CRMO\",\"Value\":\"Craters of the Moon (CRMO)\"},{\"Key\":\"CUGA\",\"Value\":\"Cumberland Gap (CUGA)\"},{\"Key\":\"CUIS\",\"Value\":\"Cumberland Island (CUIS)\"},{\"Key\":\"CURE\",\"Value\":\"Curecanti (CURE)\"},{\"Key\":\"CUVA\",\"Value\":\"Cuyahoga Valley (CUVA)\"},{\"Key\":\"DABE\",\"Value\":\"David Berger National Memorial (DABE)\"},{\"Key\":\"DAAV\",\"Value\":\"Dayton Aviation Heritage (DAAV)\"},{\"Key\":\"DEVA\",\"Value\":\"Death Valley (DEVA)\"},{\"Key\":\"DELE\",\"Value\":\"Delaware and Lehigh Navigation Canal National Heritage Corridor (DELE)\"},{\"Key\":\"DELA\",\"Value\":\"Delaware National Scenic River (DELA)\"},{\"Key\":\"DEWA\",\"Value\":\"Delaware Water Gap (DEWA)\"},{\"Key\":\"DENA\",\"Value\":\"Denali (DENA)\"},{\"Key\":\"DESO\",\"Value\":\"DeSoto (DESO)\"},{\"Key\":\"DEPO\",\"Value\":\"Devils Postpile (DEPO)\"},{\"Key\":\"DETO\",\"Value\":\"Devils Tower (DETO)\"},{\"Key\":\"DINO\",\"Value\":\"Dinosaur (DINO)\"},{\"Key\":\"DRTO\",\"Value\":\"Dry Tortugas (DRTO)\"},{\"Key\":\"EBLA\",\"Value\":\"Ebey's Landing (EBLA)\"},{\"Key\":\"EDAL\",\"Value\":\"Edgar Allan Poe (EDAL)\"},{\"Key\":\"EFMO\",\"Value\":\"Effigy Mounds (EFMO)\"},{\"Key\":\"EISE\",\"Value\":\"Eisenhower (EISE)\"},{\"Key\":\"ELTE\",\"Value\":\"El Camino Real de los Tejas (ELTE)\"},{\"Key\":\"ELCA\",\"Value\":\"El Camino Real de Tierra Adentro (ELCA)\"},{\"Key\":\"ELMA\",\"Value\":\"El Malpais (ELMA)\"},{\"Key\":\"ELMO\",\"Value\":\"El Morro (ELMO)\"},{\"Key\":\"ELRO\",\"Value\":\"Eleanor Roosevelt (ELRO)\"},{\"Key\":\"ELIS\",\"Value\":\"Ellis Island (ELIS)\"},{\"Key\":\"ERIE\",\"Value\":\"Erie Canalway (ERIE)\"},{\"Key\":\"ESSE\",\"Value\":\"Essex (ESSE)\"},{\"Key\":\"EUON\",\"Value\":\"Eugene O'Neill (EUON)\"},{\"Key\":\"EVER\",\"Value\":\"Everglades (EVER)\"},{\"Key\":\"FATI\",\"Value\":\"Fallen Timbers Battlefield (FATI)\"},{\"Key\":\"FARM\",\"Value\":\"Farmington (FARM)\"},{\"Key\":\"FAMA\",\"Value\":\"Father Marquette National Memorial (FAMA)\"},{\"Key\":\"FEHA\",\"Value\":\"Federal Hall (FEHA)\"},{\"Key\":\"FIIS\",\"Value\":\"Fire Island (FIIS)\"},{\"Key\":\"FILA\",\"Value\":\"First Ladies (FILA)\"},{\"Key\":\"FRST\",\"Value\":\"First State (FRST)\"},{\"Key\":\"FLNI\",\"Value\":\"Flight 93 (FLNI)\"},{\"Key\":\"FLFO\",\"Value\":\"Florissant Fossil Beds (FLFO)\"},{\"Key\":\"FOBO\",\"Value\":\"Fort Bowie (FOBO)\"},{\"Key\":\"FODA\",\"Value\":\"Fort Davis (FODA)\"},{\"Key\":\"FODO\",\"Value\":\"Fort Donelson (FODO)\"},{\"Key\":\"FDNC\",\"Value\":\"Fort Donelson (FDNC)\"},{\"Key\":\"FOFO\",\"Value\":\"Fort Foote Park (FOFO)\"},{\"Key\":\"FOFR\",\"Value\":\"Fort Frederica (FOFR)\"},{\"Key\":\"FOLA\",\"Value\":\"Fort Laramie (FOLA)\"},{\"Key\":\"FOLS\",\"Value\":\"Fort Larned (FOLS)\"},{\"Key\":\"FOMA\",\"Value\":\"Fort Matanzas (FOMA)\"},{\"Key\":\"FOMC\",\"Value\":\"Fort McHenry (FOMC)\"},{\"Key\":\"FOMR\",\"Value\":\"Fort Monroe (FOMR)\"},{\"Key\":\"FONE\",\"Value\":\"Fort Necessity (FONE)\"},{\"Key\":\"FOPO\",\"Value\":\"Fort Point (FOPO)\"},{\"Key\":\"FOPU\",\"Value\":\"Fort Pulaski (FOPU)\"},{\"Key\":\"FORA\",\"Value\":\"Fort Raleigh (FORA)\"},{\"Key\":\"FOSC\",\"Value\":\"Fort Scott (FOSC)\"},{\"Key\":\"FOSM\",\"Value\":\"Fort Smith (FOSM)\"},{\"Key\":\"FOST\",\"Value\":\"Fort Stanwix (FOST)\"},{\"Key\":\"FOSU\",\"Value\":\"Fort Sumter (FOSU)\"},{\"Key\":\"FOUN\",\"Value\":\"Fort Union (FOUN)\"},{\"Key\":\"FOUS\",\"Value\":\"Fort Union Trading Post (FOUS)\"},{\"Key\":\"FOVA\",\"Value\":\"Fort Vancouver (FOVA)\"},{\"Key\":\"FOWA\",\"Value\":\"Fort Washington (FOWA)\"},{\"Key\":\"FOBU\",\"Value\":\"Fossil Butte (FOBU)\"},{\"Key\":\"FRSC\",\"Value\":\"Francis Scott Key (FRSC)\"},{\"Key\":\"FRDO\",\"Value\":\"Frederick Douglass (FRDO)\"},{\"Key\":\"FRLA\",\"Value\":\"Frederick Law Olmsted (FRLA)\"},{\"Key\":\"FRED\",\"Value\":\"Fredericksburg (FRED)\"},{\"Key\":\"FRSP\",\"Value\":\"Fredericksburg and Spotsylvania County Battlefields Memorial  (FRSP)\"},{\"Key\":\"FRHI\",\"Value\":\"Friendship Hill (FRHI)\"},{\"Key\":\"GAAR\",\"Value\":\"Gates of the Arctic (GAAR)\"},{\"Key\":\"GATE\",\"Value\":\"Gateway (GATE)\"},{\"Key\":\"JEFF\",\"Value\":\"Gateway Arch (JEFF)\"},{\"Key\":\"GARI\",\"Value\":\"Gauley River (GARI)\"},{\"Key\":\"GEGR\",\"Value\":\"General Grant (GEGR)\"},{\"Key\":\"GERO\",\"Value\":\"George Rogers Clark (GERO)\"},{\"Key\":\"GEWA\",\"Value\":\"George Washington Birthplace (GEWA)\"},{\"Key\":\"GWCA\",\"Value\":\"George Washington Carver (GWCA)\"},{\"Key\":\"GWMP\",\"Value\":\"George Washington Memorial Parkway (GWMP)\"},{\"Key\":\"GETT\",\"Value\":\"Gettysburg (GETT)\"},{\"Key\":\"GICL\",\"Value\":\"Gila Cliff Dwellings (GICL)\"},{\"Key\":\"GLAC\",\"Value\":\"Glacier (GLAC)\"},{\"Key\":\"GLBA\",\"Value\":\"Glacier Bay (GLBA)\"},{\"Key\":\"GLCA\",\"Value\":\"Glen Canyon (GLCA)\"},{\"Key\":\"GLDE\",\"Value\":\"Gloria Dei (Old Swedes') Church National Historic Site (GLDE)\"},{\"Key\":\"GLOR\",\"Value\":\"Glorieta (GLOR)\"},{\"Key\":\"GOGA\",\"Value\":\"Golden Gate (GOGA)\"},{\"Key\":\"GOSP\",\"Value\":\"Golden Spike (GOSP)\"},{\"Key\":\"GOIS\",\"Value\":\"Governors Island (GOIS)\"},{\"Key\":\"GRCA\",\"Value\":\"Grand Canyon (GRCA)\"},{\"Key\":\"GRPO\",\"Value\":\"Grand Portage (GRPO)\"},{\"Key\":\"GRTE\",\"Value\":\"Grand Teton (GRTE)\"},{\"Key\":\"GRKO\",\"Value\":\"Grant-Kohrs Ranch (GRKO)\"},{\"Key\":\"GRBA\",\"Value\":\"Great Basin (GRBA)\"},{\"Key\":\"GREG\",\"Value\":\"Great Egg Harbor National Scenic and Recreational River (GREG)\"},{\"Key\":\"GRFA\",\"Value\":\"Great Falls Park (GRFA)\"},{\"Key\":\"GRSA\",\"Value\":\"Great Sand Dunes (GRSA)\"},{\"Key\":\"GRSM\",\"Value\":\"Great Smoky Mountains (GRSM)\"},{\"Key\":\"GRSP\",\"Value\":\"Green Springs National Historic Landmark District (GRSP)\"},{\"Key\":\"GREE\",\"Value\":\"Greenbelt (GREE)\"},{\"Key\":\"GUMO\",\"Value\":\"Guadalupe Mountains (GUMO)\"},{\"Key\":\"GUCO\",\"Value\":\"Guilford Courthouse (GUCO)\"},{\"Key\":\"GUIS\",\"Value\":\"Gulf Islands (GUIS)\"},{\"Key\":\"HAFO\",\"Value\":\"Hagerman Fossil Beds (HAFO)\"},{\"Key\":\"HALE\",\"Value\":\"Haleakala (HALE)\"},{\"Key\":\"HAGR\",\"Value\":\"Hamilton Grange (HAGR)\"},{\"Key\":\"HAMP\",\"Value\":\"Hampton (HAMP)\"},{\"Key\":\"HAHA\",\"Value\":\"Harmony Hall (HAHA)\"},{\"Key\":\"HAFE\",\"Value\":\"Harpers Ferry (HAFE)\"},{\"Key\":\"HATU\",\"Value\":\"Harriet Tubman Underground Railroad (HATU)\"},{\"Key\":\"HSTR\",\"Value\":\"Harry S. Truman (HSTR)\"},{\"Key\":\"HAVO\",\"Value\":\"Hawaii Volcanoes (HAVO)\"},{\"Key\":\"HEHO\",\"Value\":\"Herbert Hoover (HEHO)\"},{\"Key\":\"HICA\",\"Value\":\"Historic Camden Revolutionary War Site (HICA)\"},{\"Key\":\"PIMA\",\"Value\":\"Hohokam Pima (PIMA)\"},{\"Key\":\"HOFR\",\"Value\":\"Home of Franklin D. Roosevelt (HOFR)\"},{\"Key\":\"HOME\",\"Value\":\"Homestead National Monument of America (HOME)\"},{\"Key\":\"HONO\",\"Value\":\"Honouliuli (HONO)\"},{\"Key\":\"HOCU\",\"Value\":\"Hopewell Culture (HOCU)\"},{\"Key\":\"HOFU\",\"Value\":\"Hopewell Furnace (HOFU)\"},{\"Key\":\"HOBE\",\"Value\":\"Horseshoe Bend (HOBE)\"},{\"Key\":\"HOSP\",\"Value\":\"Hot Springs (HOSP)\"},{\"Key\":\"HOVE\",\"Value\":\"Hovenweep (HOVE)\"},{\"Key\":\"HUTR\",\"Value\":\"Hubbell Trading Post (HUTR)\"},{\"Key\":\"IATR\",\"Value\":\"Ice Age National Scenic Trail (IATR)\"},{\"Key\":\"ICAG\",\"Value\":\"Ice Age National Scientific Reserve (ICAG)\"},{\"Key\":\"ILMI\",\"Value\":\"Illinois and Michigan Canal National Heritage Corridor (ILMI)\"},{\"Key\":\"INDE\",\"Value\":\"Independence (INDE)\"},{\"Key\":\"INDU\",\"Value\":\"Indiana Dunes (INDU)\"},{\"Key\":\"INPE\",\"Value\":\"International Peace Garden (INPE)\"},{\"Key\":\"INUP\",\"Value\":\"Inupiat Heritage Center (INUP)\"},{\"Key\":\"ISRO\",\"Value\":\"Isle Royale (ISRO)\"},{\"Key\":\"JAGA\",\"Value\":\"James A. Garfield (JAGA)\"},{\"Key\":\"JAME\",\"Value\":\"Jamestown National Historic Site (JAME)\"},{\"Key\":\"JELA\",\"Value\":\"Jean Lafitte (JELA)\"},{\"Key\":\"JECA\",\"Value\":\"Jewel Cave (JECA)\"},{\"Key\":\"JICA\",\"Value\":\"Jimmy Carter (JICA)\"},{\"Key\":\"JODR\",\"Value\":\"John D. Rockefeller Jr. Memorial Parkway (JODR)\"},{\"Key\":\"JODA\",\"Value\":\"John Day Fossil Beds (JODA)\"},{\"Key\":\"JOFK\",\"Value\":\"John F. Kennedy Center for the Performing Arts (JOFK)\"},{\"Key\":\"JOFI\",\"Value\":\"John Fitzgerald  Kennedy (JOFI)\"},{\"Key\":\"JOMU\",\"Value\":\"John Muir (JOMU)\"},{\"Key\":\"JOFL\",\"Value\":\"Johnstown Flood (JOFL)\"},{\"Key\":\"JOTR\",\"Value\":\"Joshua Tree (JOTR)\"},{\"Key\":\"JUBA\",\"Value\":\"Juan Bautista De Anza (JUBA)\"},{\"Key\":\"KALA\",\"Value\":\"Kalaupapa (KALA)\"},{\"Key\":\"KAHO\",\"Value\":\"Kaloko-Honokohau (KAHO)\"},{\"Key\":\"KAWW\",\"Value\":\"Katahdin Woods and Waters (KAWW)\"},{\"Key\":\"KATM\",\"Value\":\"Katmai (KATM)\"},{\"Key\":\"KEFJ\",\"Value\":\"Kenai Fjords (KEFJ)\"},{\"Key\":\"KEMO\",\"Value\":\"Kennesaw Mountain (KEMO)\"},{\"Key\":\"KEWE\",\"Value\":\"Keweenaw (KEWE)\"},{\"Key\":\"KIMO\",\"Value\":\"Kings Mountain (KIMO)\"},{\"Key\":\"KLGO\",\"Value\":\"Klondike Gold Rush (KLGO)\"},{\"Key\":\"KLSE\",\"Value\":\"Klondike Gold Rush - Seattle Unit (KLSE)\"},{\"Key\":\"KNRI\",\"Value\":\"Knife River Indian Villages (KNRI)\"},{\"Key\":\"KOVA\",\"Value\":\"Kobuk Valley (KOVA)\"},{\"Key\":\"LACL\",\"Value\":\"Lake Clark (LACL)\"},{\"Key\":\"LAKE\",\"Value\":\"Lake Mead (LAKE)\"},{\"Key\":\"LAMR\",\"Value\":\"Lake Meredith (LAMR)\"},{\"Key\":\"LARO\",\"Value\":\"Lake Roosevelt (LARO)\"},{\"Key\":\"LAMP\",\"Value\":\"Lamprey Wild and Scenic River (LAMP)\"},{\"Key\":\"LAVO\",\"Value\":\"Lassen Volcanic (LAVO)\"},{\"Key\":\"LABE\",\"Value\":\"Lava Beds (LABE)\"},{\"Key\":\"LEWI\",\"Value\":\"Lewis and Clark (LEWI)\"},{\"Key\":\"LECL\",\"Value\":\"Lewis and Clark National Historic Trail (LECL)\"},{\"Key\":\"LIBO\",\"Value\":\"Lincoln Boyhood (LIBO)\"},{\"Key\":\"LIHO\",\"Value\":\"Lincoln Home (LIHO)\"},{\"Key\":\"LINC\",\"Value\":\"Lincoln Memorial (LINC)\"},{\"Key\":\"LIBI\",\"Value\":\"Little Bighorn Battlefield (LIBI)\"},{\"Key\":\"LIRI\",\"Value\":\"Little River Canyon (LIRI)\"},{\"Key\":\"LONG\",\"Value\":\"Longfellow House - Washington's Headquarters (LONG)\"},{\"Key\":\"LOWE\",\"Value\":\"Lowell (LOWE)\"},{\"Key\":\"LOEA\",\"Value\":\"Lower East Side Tenement Museum (LOEA)\"},{\"Key\":\"LYJO\",\"Value\":\"Lyndon B. Johnson (LYJO)\"},{\"Key\":\"MAWA\",\"Value\":\"Maggie L. Walker (MAWA)\"},{\"Key\":\"MACA\",\"Value\":\"Mammoth Cave (MACA)\"},{\"Key\":\"MANA\",\"Value\":\"Manassas (MANA)\"},{\"Key\":\"MASI\",\"Value\":\"Manhattan Sites (MASI)\"},{\"Key\":\"MANZ\",\"Value\":\"Manzanar (MANZ)\"},{\"Key\":\"MAAL\",\"Value\":\"Mar-A-Lago (MAAL)\"},{\"Key\":\"MAHE\",\"Value\":\"Marin Headlands Sites (MAHE)\"},{\"Key\":\"MABI\",\"Value\":\"Marsh-Billings-Rockefeller (MABI)\"},{\"Key\":\"MALU\",\"Value\":\"Martin Luther King, Jr. (MALU)\"},{\"Key\":\"MAVA\",\"Value\":\"Martin Van Buren (MAVA)\"},{\"Key\":\"MAUR\",\"Value\":\"Maurice (MAUR)\"},{\"Key\":\"MCHO\",\"Value\":\"McLoughlin House National Historic Site (MCHO)\"},{\"Key\":\"MEHI\",\"Value\":\"Meridian Hill Park (MEHI)\"},{\"Key\":\"MEVE\",\"Value\":\"Mesa Verde (MEVE)\"},{\"Key\":\"MICU\",\"Value\":\"Mimbres Culture (MICU)\"},{\"Key\":\"MIIN\",\"Value\":\"Minidoka (MIIN)\"},{\"Key\":\"MIMA\",\"Value\":\"Minute Man (MIMA)\"},{\"Key\":\"MIMI\",\"Value\":\"Minuteman Missile (MIMI)\"},{\"Key\":\"MISS\",\"Value\":\"Mississippi National River and Recreation Areas (MISS)\"},{\"Key\":\"MNRR\",\"Value\":\"Missouri National Recreational River (MNRR)\"},{\"Key\":\"MOJA\",\"Value\":\"Mojave (MOJA)\"},{\"Key\":\"MONO\",\"Value\":\"Monocacy (MONO)\"},{\"Key\":\"MOCA\",\"Value\":\"Montezuma Castle (MOCA)\"},{\"Key\":\"MOCR\",\"Value\":\"Moores Creek (MOCR)\"},{\"Key\":\"MOPI\",\"Value\":\"Mormon Pioneer (MOPI)\"},{\"Key\":\"MORR\",\"Value\":\"Morristown (MORR)\"},{\"Key\":\"MORA\",\"Value\":\"Mount Rainier (MORA)\"},{\"Key\":\"MORU\",\"Value\":\"Mount Rushmore (MORU)\"},{\"Key\":\"MUWO\",\"Value\":\"Muir Woods (MUWO)\"},{\"Key\":\"NATC\",\"Value\":\"Natchez (NATC)\"},{\"Key\":\"NATT\",\"Value\":\"Natchez Trace (NATT)\"},{\"Key\":\"NATR\",\"Value\":\"Natchez Trace Parkway (NATR)\"},{\"Key\":\"NACE\",\"Value\":\"National Capital Parks-East (NACE)\"},{\"Key\":\"NAMA\",\"Value\":\"National Mall and Memorial Parks (NAMA)\"},{\"Key\":\"NPSA\",\"Value\":\"National Park of American Samoa (NPSA)\"},{\"Key\":\"NABR\",\"Value\":\"Natural Bridges (NABR)\"},{\"Key\":\"NAVA\",\"Value\":\"Navajo (NAVA)\"},{\"Key\":\"NEBE\",\"Value\":\"New Bedford Whaling (NEBE)\"},{\"Key\":\"NEEN\",\"Value\":\"New England National Scenic Trail (NEEN)\"},{\"Key\":\"NEJE\",\"Value\":\"New Jersey Coastal Heritage Trail Route (NEJE)\"},{\"Key\":\"JAZZ\",\"Value\":\"New Orleans Jazz (JAZZ)\"},{\"Key\":\"NERI\",\"Value\":\"New River Gorge (NERI)\"},{\"Key\":\"NEPE\",\"Value\":\"Nez Perce (NEPE)\"},{\"Key\":\"NICO\",\"Value\":\"Nicodemus (NICO)\"},{\"Key\":\"NISI\",\"Value\":\"Ninety Six (NISI)\"},{\"Key\":\"NIOB\",\"Value\":\"Niobrara National Scenic River (NIOB)\"},{\"Key\":\"NOAT\",\"Value\":\"Noatak (NOAT)\"},{\"Key\":\"NCCO\",\"Value\":\"North Cascades National Park Service Complex (NCCO)\"},{\"Key\":\"NOCO\",\"Value\":\"North Country (NOCO)\"},{\"Key\":\"NCPN\",\"Value\":\"Northern Colorado Plateau Network (NCPN)\"},{\"Key\":\"OBRI\",\"Value\":\"Obed Wild and Scenic River (OBRI)\"},{\"Key\":\"OCMU\",\"Value\":\"Ocmulgee Mounds (OCMU)\"},{\"Key\":\"OLSP\",\"Value\":\"Old Spanish (OLSP)\"},{\"Key\":\"OLYM\",\"Value\":\"Olympic (OLYM)\"},{\"Key\":\"OREG\",\"Value\":\"Oregon (OREG)\"},{\"Key\":\"ORCA\",\"Value\":\"Oregon Caves (ORCA)\"},{\"Key\":\"ORPI\",\"Value\":\"Organ Pipe Cactus (ORPI)\"},{\"Key\":\"OVVI\",\"Value\":\"Overmountain Victory (OVVI)\"},{\"Key\":\"OXHI\",\"Value\":\"Oxon Cove Park and Oxon Hill Run (OXHI)\"},{\"Key\":\"OXRU\",\"Value\":\"Oxon Run (OXRU)\"},{\"Key\":\"OZAR\",\"Value\":\"Ozark National Scenic Riverways (OZAR)\"},{\"Key\":\"PAIS\",\"Value\":\"Padre Island (PAIS)\"},{\"Key\":\"PAAL\",\"Value\":\"Palo Alto Battlefield (PAAL)\"},{\"Key\":\"PARA\",\"Value\":\"Parashant (PARA)\"},{\"Key\":\"PAGR\",\"Value\":\"Paterson Great Falls (PAGR)\"},{\"Key\":\"PERI\",\"Value\":\"Pea Ridge (PERI)\"},{\"Key\":\"PECO\",\"Value\":\"Pecos (PECO)\"},{\"Key\":\"PIMI\",\"Value\":\"Peirce Mill Park (PIMI)\"},{\"Key\":\"PAAV\",\"Value\":\"Pennsylvania Avenue (PAAV)\"},{\"Key\":\"PEVI\",\"Value\":\"Perry's Victory and International Peace Memorial (PEVI)\"},{\"Key\":\"PETE\",\"Value\":\"Petersburg (PETE)\"},{\"Key\":\"PEFO\",\"Value\":\"Petrified Forest (PEFO)\"},{\"Key\":\"PETR\",\"Value\":\"Petroglyph (PETR)\"},{\"Key\":\"PIRO\",\"Value\":\"Pictured Rocks (PIRO)\"},{\"Key\":\"PINE\",\"Value\":\"Pinelands National Reserve (PINE)\"},{\"Key\":\"PINN\",\"Value\":\"Pinnacles (PINN)\"},{\"Key\":\"PISP\",\"Value\":\"Pipe Spring (PISP)\"},{\"Key\":\"PIPE\",\"Value\":\"Pipestone (PIPE)\"},{\"Key\":\"PISC\",\"Value\":\"Piscataway (PISC)\"},{\"Key\":\"PORE\",\"Value\":\"Point Reyes (PORE)\"},{\"Key\":\"POEX\",\"Value\":\"Pony Express (POEX)\"},{\"Key\":\"POGR\",\"Value\":\"Poplar Grove (POGR)\"},{\"Key\":\"POCH\",\"Value\":\"Port Chicago Naval Magazine National Memorial (POCH)\"},{\"Key\":\"POPO\",\"Value\":\"Poverty Point (POPO)\"},{\"Key\":\"PRPA\",\"Value\":\"President's Park (PRPA)\"},{\"Key\":\"PRSF\",\"Value\":\"Presidio of San Francisco (PRSF)\"},{\"Key\":\"PRWI\",\"Value\":\"Prince William Forest (PRWI)\"},{\"Key\":\"PULL\",\"Value\":\"Pullman (PULL)\"},{\"Key\":\"PUHO\",\"Value\":\"Pu'uhonua o Honaunau (PUHO)\"},{\"Key\":\"PUHE\",\"Value\":\"Puukohola Heiau (PUHE)\"},{\"Key\":\"QUSH\",\"Value\":\"Quinebaug and Shetucket Rivers Valley National Heritage Corridor (QUSH)\"},{\"Key\":\"RABR\",\"Value\":\"Rainbow Bridge (RABR)\"},{\"Key\":\"REER\",\"Value\":\"Reconstruction Era (REER)\"},{\"Key\":\"REDW\",\"Value\":\"Redwood (REDW)\"},{\"Key\":\"RICH\",\"Value\":\"Richmond (RICH)\"},{\"Key\":\"RIGR\",\"Value\":\"Rio Grande Wild and Scenic River (RIGR)\"},{\"Key\":\"RIRA\",\"Value\":\"River Raisin (RIRA)\"},{\"Key\":\"ROCR\",\"Value\":\"Rock Creek (ROCR)\"},{\"Key\":\"ROMO\",\"Value\":\"Rocky Mountain (ROMO)\"},{\"Key\":\"ROWI\",\"Value\":\"Roger Williams (ROWI)\"},{\"Key\":\"ROCA\",\"Value\":\"Roosevelt Campobello International Park (ROCA)\"},{\"Key\":\"ROVA\",\"Value\":\"Roosevelt-Vanderbilt Headquarters (ROVA)\"},{\"Key\":\"RORI\",\"Value\":\"Rosie The Riveter WWII Home Front (RORI)\"},{\"Key\":\"RUCA\",\"Value\":\"Russell Cave (RUCA)\"},{\"Key\":\"SAHI\",\"Value\":\"Sagamore Hill (SAHI)\"},{\"Key\":\"SAGU\",\"Value\":\"Saguaro (SAGU)\"},{\"Key\":\"SACR\",\"Value\":\"Saint Croix Island (SACR)\"},{\"Key\":\"SACN\",\"Value\":\"Saint Croix National Scenic River (SACN)\"},{\"Key\":\"SAPA\",\"Value\":\"Saint Paul's Church (SAPA)\"},{\"Key\":\"SAGA\",\"Value\":\"Saint-Gaudens (SAGA)\"},{\"Key\":\"SAMA\",\"Value\":\"Salem Maritime (SAMA)\"},{\"Key\":\"SAPU\",\"Value\":\"Salinas Pueblo Missions (SAPU)\"},{\"Key\":\"SARI\",\"Value\":\"Salt River Bay (SARI)\"},{\"Key\":\"SAAN\",\"Value\":\"San Antonio Missions (SAAN)\"},{\"Key\":\"SAFR\",\"Value\":\"San Francisco Maritime (SAFR)\"},{\"Key\":\"SAJU\",\"Value\":\"San Juan (SAJU)\"},{\"Key\":\"SAJH\",\"Value\":\"San Juan Island (SAJH)\"},{\"Key\":\"SAND\",\"Value\":\"Sand Creek Massacre (SAND)\"},{\"Key\":\"SAFE\",\"Value\":\"Santa Fe (SAFE)\"},{\"Key\":\"SAMO\",\"Value\":\"Santa Monica Mountains (SAMO)\"},{\"Key\":\"SARA\",\"Value\":\"Saratoga (SARA)\"},{\"Key\":\"SAIR\",\"Value\":\"Saugus Iron Works (SAIR)\"},{\"Key\":\"SCBL\",\"Value\":\"Scotts Bluff (SCBL)\"},{\"Key\":\"SEMO\",\"Value\":\"Selma To Montgomery (SEMO)\"},{\"Key\":\"SEKI\",\"Value\":\"Sequoia and Kings Canyon (SEKI)\"},{\"Key\":\"SHEN\",\"Value\":\"Shenandoah (SHEN)\"},{\"Key\":\"SHIL\",\"Value\":\"Shiloh (SHIL)\"},{\"Key\":\"SITK\",\"Value\":\"Sitka (SITK)\"},{\"Key\":\"SLBE\",\"Value\":\"Sleeping Bear Dunes (SLBE)\"},{\"Key\":\"SPAR\",\"Value\":\"Springfield Armory (SPAR)\"},{\"Key\":\"STSP\",\"Value\":\"Star-Spangled Banner National Historic Trail (STSP)\"},{\"Key\":\"STLI\",\"Value\":\"Statue of Liberty (STLI)\"},{\"Key\":\"STEA\",\"Value\":\"Steamtown (STEA)\"},{\"Key\":\"STRI\",\"Value\":\"Stones River (STRI)\"},{\"Key\":\"SRNC\",\"Value\":\"Stones River (SRNC)\"},{\"Key\":\"STON\",\"Value\":\"Stonewall (STON)\"},{\"Key\":\"SUAS\",\"Value\":\"Sudbury, Assabet and Concord (SUAS)\"},{\"Key\":\"SUCR\",\"Value\":\"Sunset Crater Volcano (SUCR)\"},{\"Key\":\"TAPR\",\"Value\":\"Tallgrass Prairie (TAPR)\"},{\"Key\":\"THKO\",\"Value\":\"Thaddeus Kosciuszko (THKO)\"},{\"Key\":\"OLST\",\"Value\":\"The Old Stone House (OLST)\"},{\"Key\":\"THRO\",\"Value\":\"Theodore Roosevelt (THRO)\"},{\"Key\":\"THRB\",\"Value\":\"Theodore Roosevelt Birthplace (THRB)\"},{\"Key\":\"THRI\",\"Value\":\"Theodore Roosevelt Inaugural (THRI)\"},{\"Key\":\"THIS\",\"Value\":\"Theodore Roosevelt Island (THIS)\"},{\"Key\":\"THCO\",\"Value\":\"Thomas Cole National Historic Site (THCO)\"},{\"Key\":\"EDIS\",\"Value\":\"Thomas Edison (EDIS)\"},{\"Key\":\"THST\",\"Value\":\"Thomas Stone (THST)\"},{\"Key\":\"TICA\",\"Value\":\"Timpanogos Cave (TICA)\"},{\"Key\":\"TIMU\",\"Value\":\"Timucuan (TIMU)\"},{\"Key\":\"TONT\",\"Value\":\"Tonto (TONT)\"},{\"Key\":\"TOSY\",\"Value\":\"Touro Synagogue National Historic Site (TOSY)\"},{\"Key\":\"TRTE\",\"Value\":\"Trail of Tears (TRTE)\"},{\"Key\":\"TUSK\",\"Value\":\"Tule Springs Fossil Beds (TUSK)\"},{\"Key\":\"TUMA\",\"Value\":\"Tumacacori (TUMA)\"},{\"Key\":\"TUPE\",\"Value\":\"Tupelo (TUPE)\"},{\"Key\":\"TUAI\",\"Value\":\"Tuskegee Airmen (TUAI)\"},{\"Key\":\"TUIN\",\"Value\":\"Tuskegee Institute (TUIN)\"},{\"Key\":\"TUZI\",\"Value\":\"Tuzigoot (TUZI)\"},{\"Key\":\"ULSG\",\"Value\":\"Ulysses S. Grant (ULSG)\"},{\"Key\":\"UPDE\",\"Value\":\"Upper Delaware National Scenic and Recreation River (UPDE)\"},{\"Key\":\"VALL\",\"Value\":\"Valles Caldera (VALL)\"},{\"Key\":\"VAFO\",\"Value\":\"Valley Forge (VAFO)\"},{\"Key\":\"VAMA\",\"Value\":\"Vanderbilt Mansion (VAMA)\"},{\"Key\":\"VICK\",\"Value\":\"Vicksburg (VICK)\"},{\"Key\":\"VINC\",\"Value\":\"Vicksburg (VINC)\"},{\"Key\":\"VIVE\",\"Value\":\"Vietnam Veterans Memorial (VIVE)\"},{\"Key\":\"VIIS\",\"Value\":\"Virgin Islands (VIIS)\"},{\"Key\":\"VICR\",\"Value\":\"Virgin Islands Coral Reef (VICR)\"},{\"Key\":\"VOYA\",\"Value\":\"Voyageurs (VOYA)\"},{\"Key\":\"WACO\",\"Value\":\"Waco Mammoth (WACO)\"},{\"Key\":\"WACA\",\"Value\":\"Walnut Canyon (WACA)\"},{\"Key\":\"WAPA\",\"Value\":\"War in the Pacific (WAPA)\"},{\"Key\":\"WASP\",\"Value\":\"Warm Springs Apache (WASP)\"},{\"Key\":\"WAHA\",\"Value\":\"Warren G Harding (WAHA)\"},{\"Key\":\"WAMO\",\"Value\":\"Washington Monument (WAMO)\"},{\"Key\":\"WARO\",\"Value\":\"Washington-Rochambeau Revolutionary Route National Historic Trail (WARO)\"},{\"Key\":\"WABA\",\"Value\":\"Washita Battlefield (WABA)\"},{\"Key\":\"WEFA\",\"Value\":\"Weir Farm (WEFA)\"},{\"Key\":\"WACC\",\"Value\":\"Western Archeological and Conservation Center (WACC)\"},{\"Key\":\"WEAR\",\"Value\":\"Western Arctic National Parklands (WEAR)\"},{\"Key\":\"WHIS\",\"Value\":\"Whiskeytown (WHIS)\"},{\"Key\":\"WHHO\",\"Value\":\"White House (WHHO)\"},{\"Key\":\"WHVC\",\"Value\":\"White House Visitor Center (WHVC)\"},{\"Key\":\"WHSA\",\"Value\":\"White Sands (WHSA)\"},{\"Key\":\"WHMI\",\"Value\":\"Whitman Mission (WHMI)\"},{\"Key\":\"WIBR\",\"Value\":\"Wildcat Brook (WIBR)\"},{\"Key\":\"WIHO\",\"Value\":\"William Howard Taft (WIHO)\"},{\"Key\":\"WICL\",\"Value\":\"William Jefferson Clinton Birthplace (WICL)\"},{\"Key\":\"WICR\",\"Value\":\"Wilson's Creek (WICR)\"},{\"Key\":\"WICA\",\"Value\":\"Wind Cave (WICA)\"},{\"Key\":\"WOTR\",\"Value\":\"Wolf Trap National Park for the Performing Arts (WOTR)\"},{\"Key\":\"WORI\",\"Value\":\"Women's Rights (WORI)\"},{\"Key\":\"VALR\",\"Value\":\"World War II Valor in the Pacific (VALR)\"},{\"Key\":\"WRST\",\"Value\":\"Wrangell - St Elias (WRST)\"},{\"Key\":\"WRBR\",\"Value\":\"Wright Brothers (WRBR)\"},{\"Key\":\"WUPA\",\"Value\":\"Wupatki (WUPA)\"},{\"Key\":\"YELL\",\"Value\":\"Yellowstone (YELL)\"},{\"Key\":\"YORK\",\"Value\":\"Yorktown (YORK)\"},{\"Key\":\"YONB\",\"Value\":\"Yorktown Battlefield (YONB)\"},{\"Key\":\"YOSE\",\"Value\":\"Yosemite (YOSE)\"},{\"Key\":\"YUHO\",\"Value\":\"Yucca House (YUHO)\"},{\"Key\":\"YUCH\",\"Value\":\"Yukon-Charley Rivers (YUCH)\"},{\"Key\":\"ZION\",\"Value\":\"Zion (ZION)\"}]"
   ]
  },
  {
   "cell_type": "code",
   "execution_count": 58,
   "metadata": {},
   "outputs": [],
   "source": [
    "park_list = []\n",
    "\n",
    "for park in park_names:\n",
    "    national_park_dict = {}\n",
    "    national_park_dict[\"abbreviation\"] = park['Key']\n",
    "    national_park_dict[\"name\"] = park['Value']\n",
    "    park_list.append(national_park_dict)\n",
    "    \n",
    "# create a dataframe where park codes are associated with a park name\n",
    "all_park_df = pd.DataFrame(park_list)"
   ]
  },
  {
   "cell_type": "code",
   "execution_count": null,
   "metadata": {},
   "outputs": [],
   "source": [
    "def strip_parens(text):\n",
    "    '''\n",
    "    Strip parentheses from text and turn large whitespaces to one whitespace\n",
    "    \n",
    "    Parameters:\n",
    "    -----------\n",
    "    - text: park name to clean up\n",
    "    \n",
    "    Returns:\n",
    "    - no_parens_text: park name with cleaned text\n",
    "    \n",
    "    '''\n",
    "    # strip all parentheses and text within them\n",
    "    no_parens_text = re.sub('\\(.*\\)', '', text)\n",
    "    \n",
    "    # make all spacing one whitespace\n",
    "    no_parens_text = re.sub('\\s{2,}', ' ', no_parens_text)\n",
    "    return no_parens_text"
   ]
  },
  {
   "cell_type": "code",
   "execution_count": 74,
   "metadata": {},
   "outputs": [
    {
     "data": {
      "text/html": [
       "<div>\n",
       "<style scoped>\n",
       "    .dataframe tbody tr th:only-of-type {\n",
       "        vertical-align: middle;\n",
       "    }\n",
       "\n",
       "    .dataframe tbody tr th {\n",
       "        vertical-align: top;\n",
       "    }\n",
       "\n",
       "    .dataframe thead th {\n",
       "        text-align: right;\n",
       "    }\n",
       "</style>\n",
       "<table border=\"1\" class=\"dataframe\">\n",
       "  <thead>\n",
       "    <tr style=\"text-align: right;\">\n",
       "      <th></th>\n",
       "      <th>abbreviation</th>\n",
       "      <th>name</th>\n",
       "    </tr>\n",
       "  </thead>\n",
       "  <tbody>\n",
       "    <tr>\n",
       "      <th>0</th>\n",
       "      <td>ABLI</td>\n",
       "      <td>Abraham Lincoln Birthplace</td>\n",
       "    </tr>\n",
       "    <tr>\n",
       "      <th>1</th>\n",
       "      <td>ACAD</td>\n",
       "      <td>Acadia</td>\n",
       "    </tr>\n",
       "    <tr>\n",
       "      <th>2</th>\n",
       "      <td>ADAM</td>\n",
       "      <td>Adams</td>\n",
       "    </tr>\n",
       "    <tr>\n",
       "      <th>3</th>\n",
       "      <td>AFBG</td>\n",
       "      <td>African Burial Ground</td>\n",
       "    </tr>\n",
       "    <tr>\n",
       "      <th>4</th>\n",
       "      <td>AGFO</td>\n",
       "      <td>Agate Fossil Beds</td>\n",
       "    </tr>\n",
       "    <tr>\n",
       "      <th>...</th>\n",
       "      <td>...</td>\n",
       "      <td>...</td>\n",
       "    </tr>\n",
       "    <tr>\n",
       "      <th>479</th>\n",
       "      <td>YONB</td>\n",
       "      <td>Yorktown Battlefield</td>\n",
       "    </tr>\n",
       "    <tr>\n",
       "      <th>480</th>\n",
       "      <td>YOSE</td>\n",
       "      <td>Yosemite</td>\n",
       "    </tr>\n",
       "    <tr>\n",
       "      <th>481</th>\n",
       "      <td>YUHO</td>\n",
       "      <td>Yucca House</td>\n",
       "    </tr>\n",
       "    <tr>\n",
       "      <th>482</th>\n",
       "      <td>YUCH</td>\n",
       "      <td>Yukon-Charley Rivers</td>\n",
       "    </tr>\n",
       "    <tr>\n",
       "      <th>483</th>\n",
       "      <td>ZION</td>\n",
       "      <td>Zion</td>\n",
       "    </tr>\n",
       "  </tbody>\n",
       "</table>\n",
       "<p>484 rows × 2 columns</p>\n",
       "</div>"
      ],
      "text/plain": [
       "    abbreviation                        name\n",
       "0           ABLI  Abraham Lincoln Birthplace\n",
       "1           ACAD                      Acadia\n",
       "2           ADAM                       Adams\n",
       "3           AFBG       African Burial Ground\n",
       "4           AGFO           Agate Fossil Beds\n",
       "..           ...                         ...\n",
       "479         YONB        Yorktown Battlefield\n",
       "480         YOSE                    Yosemite\n",
       "481         YUHO                 Yucca House\n",
       "482         YUCH        Yukon-Charley Rivers\n",
       "483         ZION                        Zion\n",
       "\n",
       "[484 rows x 2 columns]"
      ]
     },
     "execution_count": 74,
     "metadata": {},
     "output_type": "execute_result"
    }
   ],
   "source": [
    "all_park_df[\"name\"] = all_park_df[\"name\"].apply(strip_parens)"
   ]
  },
  {
   "cell_type": "markdown",
   "metadata": {},
   "source": [
    "Now, my goal is to explore what data is in the API. I want to get a list of topics and activities per park as well as see what other information is there. Can I get images for parks? Descriptions?"
   ]
  },
  {
   "cell_type": "code",
   "execution_count": 136,
   "metadata": {},
   "outputs": [],
   "source": [
    "test_url = build_url(endpoint, \"/parks\", [\"yose\"])\n",
    "data = get_json(test_url, HEADERS)"
   ]
  },
  {
   "cell_type": "code",
   "execution_count": null,
   "metadata": {},
   "outputs": [],
   "source": [
    "# get a list of activities related to Yosemite\n",
    "yosemite_activity_list = []\n",
    "for activity in data['data'][0]['activities']:\n",
    "    yosemite_activity_list.append(activity['name'])"
   ]
  },
  {
   "cell_type": "code",
   "execution_count": null,
   "metadata": {},
   "outputs": [],
   "source": [
    "# get a list of topics related to Yosemite\n",
    "yosemite_topic_list = []\n",
    "for topic in data['data'][0]['topics']:\n",
    "    yosemite_topic_list.append(topic['name'])"
   ]
  },
  {
   "cell_type": "code",
   "execution_count": null,
   "metadata": {},
   "outputs": [],
   "source": [
    "print(data['data'][0]['description'])\n",
    "print(data['data'][0]['states'])"
   ]
  },
  {
   "cell_type": "code",
   "execution_count": null,
   "metadata": {},
   "outputs": [],
   "source": [
    "# grab images related to Yosemite\n",
    "image_list = []\n",
    "for image in data['data'][0]['images']:\n",
    "    image_dict = {}\n",
    "    image_dict['park_code'] = data['data'][0]['parkCode']\n",
    "    image_dict['park_name'] = data['data'][0]['fullName']\n",
    "    image_dict['caption'] = image['caption']\n",
    "    image_dict['url'] = image['url']\n",
    "    image_list.append(image_dict)\n",
    "pd.DataFrame(image_list)"
   ]
  },
  {
   "cell_type": "code",
   "execution_count": 158,
   "metadata": {},
   "outputs": [
    {
     "data": {
      "text/html": [
       "<div>\n",
       "<style scoped>\n",
       "    .dataframe tbody tr th:only-of-type {\n",
       "        vertical-align: middle;\n",
       "    }\n",
       "\n",
       "    .dataframe tbody tr th {\n",
       "        vertical-align: top;\n",
       "    }\n",
       "\n",
       "    .dataframe thead th {\n",
       "        text-align: right;\n",
       "    }\n",
       "</style>\n",
       "<table border=\"1\" class=\"dataframe\">\n",
       "  <thead>\n",
       "    <tr style=\"text-align: right;\">\n",
       "      <th></th>\n",
       "      <th>park_code</th>\n",
       "      <th>full_name</th>\n",
       "      <th>state</th>\n",
       "      <th>description</th>\n",
       "      <th>Arts and Culture</th>\n",
       "      <th>Astronomy</th>\n",
       "      <th>Auto and ATV</th>\n",
       "      <th>Backcountry Camping</th>\n",
       "      <th>Backcountry Hiking</th>\n",
       "      <th>Biking</th>\n",
       "      <th>...</th>\n",
       "      <th>Science, Technology and Innovation</th>\n",
       "      <th>Tragic Events</th>\n",
       "      <th>Trails</th>\n",
       "      <th>Transportation</th>\n",
       "      <th>Unique Species</th>\n",
       "      <th>Waterfalls</th>\n",
       "      <th>Watersheds</th>\n",
       "      <th>Wetlands</th>\n",
       "      <th>Wilderness</th>\n",
       "      <th>Women's History</th>\n",
       "    </tr>\n",
       "  </thead>\n",
       "  <tbody>\n",
       "    <tr>\n",
       "      <th>0</th>\n",
       "      <td>yose</td>\n",
       "      <td>Yosemite National Park</td>\n",
       "      <td>CA</td>\n",
       "      <td>Not just a great valley, but a shrine to human...</td>\n",
       "      <td>1</td>\n",
       "      <td>1</td>\n",
       "      <td>1</td>\n",
       "      <td>1</td>\n",
       "      <td>1</td>\n",
       "      <td>1</td>\n",
       "      <td>...</td>\n",
       "      <td>1</td>\n",
       "      <td>1</td>\n",
       "      <td>1</td>\n",
       "      <td>1</td>\n",
       "      <td>1</td>\n",
       "      <td>1</td>\n",
       "      <td>1</td>\n",
       "      <td>1</td>\n",
       "      <td>1</td>\n",
       "      <td>1</td>\n",
       "    </tr>\n",
       "  </tbody>\n",
       "</table>\n",
       "<p>1 rows × 78 columns</p>\n",
       "</div>"
      ],
      "text/plain": [
       "  park_code               full_name state  \\\n",
       "0      yose  Yosemite National Park    CA   \n",
       "\n",
       "                                         description  Arts and Culture  \\\n",
       "0  Not just a great valley, but a shrine to human...                 1   \n",
       "\n",
       "   Astronomy  Auto and ATV  Backcountry Camping  Backcountry Hiking  Biking  \\\n",
       "0          1             1                    1                   1       1   \n",
       "\n",
       "   ...  Science, Technology and Innovation  Tragic Events  Trails  \\\n",
       "0  ...                                   1              1       1   \n",
       "\n",
       "   Transportation  Unique Species  Waterfalls  Watersheds  Wetlands  \\\n",
       "0               1               1           1           1         1   \n",
       "\n",
       "   Wilderness  Women's History  \n",
       "0           1                1  \n",
       "\n",
       "[1 rows x 78 columns]"
      ]
     },
     "execution_count": 158,
     "metadata": {},
     "output_type": "execute_result"
    }
   ],
   "source": [
    "# build a dataframe to collect park activities, topics, a park description, and the states associated with Yosemite\n",
    "\n",
    "park_info = {}\n",
    "\n",
    "park_info['park_code'] = [data['data'][0]['parkCode']]\n",
    "park_info['full_name'] = [data['data'][0]['fullName']]\n",
    "park_info['state'] = [data['data'][0]['states']]\n",
    "park_info['description'] = [data['data'][0]['description']]\n",
    "\n",
    "for activity in data['data'][0]['activities']:\n",
    "    park_info[activity['name']] = [1]\n",
    "    \n",
    "for topic in data['data'][0]['topics']:\n",
    "    park_info[topic['name']] = [1]\n",
    "\n",
    "pd.DataFrame(park_info)"
   ]
  },
  {
   "cell_type": "markdown",
   "metadata": {},
   "source": [
    "I've refined a pipeline to get information for a park. Now, I'll need to grab information for all the different national parks I can access in the API."
   ]
  },
  {
   "cell_type": "code",
   "execution_count": null,
   "metadata": {},
   "outputs": [],
   "source": []
  },
  {
   "cell_type": "code",
   "execution_count": 181,
   "metadata": {},
   "outputs": [],
   "source": [
    "def fill_park_info_dict(data, code, park_error_list):\n",
    "    '''\n",
    "    Fill a dictionary with information about a national park. This dictionary will be used to build\n",
    "    a larger dataframe with more information about a park.\n",
    "    \n",
    "    Parameters:\n",
    "    -----------\n",
    "    - data: the JSON object about a park\n",
    "    - code: the 4 letter park code (e.g. YOSE for Yosemite)\n",
    "    - park_error_list: a list to collect parks that have errors in requesting JSON objects\n",
    "    \n",
    "    Returns:\n",
    "    --------\n",
    "    - park_info_dict: dictionary with lots of information (description, topics, activities) about a park\n",
    "    '''\n",
    "    park_info_dict = {}\n",
    "    \n",
    "    try:\n",
    "        park_info_dict['park_code'] = data['data'][0]['parkCode']\n",
    "        park_info_dict['full_name'] = data['data'][0]['fullName']\n",
    "        park_info_dict['states'] = data['data'][0]['states']\n",
    "        park_info_dict['description'] = data['data'][0]['description']\n",
    "\n",
    "        if data['data'][0]['activities']:\n",
    "            for activity in data['data'][0]['activities']:\n",
    "                park_info_dict[activity['name']] = 1.0\n",
    "\n",
    "        if data['data'][0]['topics']:\n",
    "            for topic in data['data'][0]['topics']:\n",
    "                park_info_dict[topic['name']] = 1.0\n",
    "    except IndexError:\n",
    "        print(f\"{code} has an index error\")\n",
    "        park_error_list.append(code)\n",
    "    \n",
    "    return park_info_dict"
   ]
  },
  {
   "cell_type": "code",
   "execution_count": null,
   "metadata": {},
   "outputs": [],
   "source": [
    "# get a list of four letter park codes\n",
    "park_codes = all_park_df[\"abbreviation\"].str.lower().tolist()"
   ]
  },
  {
   "cell_type": "code",
   "execution_count": null,
   "metadata": {},
   "outputs": [],
   "source": [
    "park_info_list = []\n",
    "park_error_list = []\n",
    "\n",
    "for code in park_codes:\n",
    "    # for each park, send a request, access the JSON object, and build a dictionary to build\n",
    "    # a larger dataframe\n",
    "    \n",
    "    url = build_url(endpoint, \"/parks\", [code])\n",
    "    data = get_json(url, HEADERS)\n",
    "    \n",
    "    park_info_dict = fill_park_info_dict(data, code, park_error_list)\n",
    "    \n",
    "    # don't append empty dictionaries where there's an error\n",
    "    if park_info_dict:\n",
    "        park_info_list.append(park_info_dict)\n",
    "\n",
    "    time.sleep(1)"
   ]
  },
  {
   "cell_type": "code",
   "execution_count": null,
   "metadata": {},
   "outputs": [],
   "source": [
    "park_activity_topic_df = pd.DataFrame(park_info_list)\n",
    "park_activity_topic_df.to_pickle('data/park_activity_topic_df.pickle')"
   ]
  },
  {
   "cell_type": "markdown",
   "metadata": {},
   "source": [
    "Now, I want to check how similar two parks are. How similar are Yosemite National Park and Rocky Mountain National Park?"
   ]
  },
  {
   "cell_type": "code",
   "execution_count": null,
   "metadata": {},
   "outputs": [],
   "source": [
    "yose_activity_topic_df = park_activity_topic_df[park_activity_topic_df[\"park_code\"] == \"yose\"].copy()\n",
    "yose_activity_topics = yose_activity_topic_df.columns[(yose_activity_topic_df == 1.0).any(axis=0)].tolist()\n",
    "\n",
    "rocky_activity_topic_df = park_activity_topic_df[park_activity_topic_df[\"full_name\"] == \"Rocky Mountain National Park\"].copy()\n",
    "rocky_activity_topics = rocky_activity_topic_df.columns[(rocky_activity_topic_df == 1.0).any(axis=0)].tolist()\n",
    "\n",
    "# overlap contains a list of topics and activities common to both Yosemite and Rocky Mountain National Parks\n",
    "overlap = list(set(yose_activity_topics).intersection(set(rocky_activity_topics)))"
   ]
  },
  {
   "cell_type": "markdown",
   "metadata": {},
   "source": [
    "Now look at how Gateway National Park topics/activities different from Yosemite National Park topics/activities."
   ]
  },
  {
   "cell_type": "code",
   "execution_count": null,
   "metadata": {},
   "outputs": [],
   "source": [
    "gateway_activity_topic = park_activity_topic_df[park_activity_topic_df[\"full_name\"] == \"Gateway Arch National Park\"].copy()\n",
    "gateway_activity_topics = gateway_activity_topic.columns[(gateway_activity_topic == 1.0).any(axis=0)].tolist()"
   ]
  },
  {
   "cell_type": "markdown",
   "metadata": {},
   "source": [
    "After doing more research, the US only has 62 protected areas as national parks that are opreated by the National Park Service. What I have instead is a list that includes anything operated by the National Park Service that includes national monuments, recreation areas, scenic trails, etc."
   ]
  },
  {
   "cell_type": "markdown",
   "metadata": {},
   "source": [
    "Now, I can utilize the topic and activity matrix to build a recommender based on cosine similarity."
   ]
  },
  {
   "cell_type": "code",
   "execution_count": 215,
   "metadata": {},
   "outputs": [
    {
     "data": {
      "text/html": [
       "<div>\n",
       "<style scoped>\n",
       "    .dataframe tbody tr th:only-of-type {\n",
       "        vertical-align: middle;\n",
       "    }\n",
       "\n",
       "    .dataframe tbody tr th {\n",
       "        vertical-align: top;\n",
       "    }\n",
       "\n",
       "    .dataframe thead th {\n",
       "        text-align: right;\n",
       "    }\n",
       "</style>\n",
       "<table border=\"1\" class=\"dataframe\">\n",
       "  <thead>\n",
       "    <tr style=\"text-align: right;\">\n",
       "      <th></th>\n",
       "      <th>full_name</th>\n",
       "    </tr>\n",
       "  </thead>\n",
       "  <tbody>\n",
       "    <tr>\n",
       "      <th>0</th>\n",
       "      <td>Abraham Lincoln Birthplace National Historical...</td>\n",
       "    </tr>\n",
       "    <tr>\n",
       "      <th>1</th>\n",
       "      <td>Acadia National Park</td>\n",
       "    </tr>\n",
       "    <tr>\n",
       "      <th>2</th>\n",
       "      <td>Adams National Historical Park</td>\n",
       "    </tr>\n",
       "    <tr>\n",
       "      <th>3</th>\n",
       "      <td>African Burial Ground National Monument</td>\n",
       "    </tr>\n",
       "    <tr>\n",
       "      <th>4</th>\n",
       "      <td>Agate Fossil Beds National Monument</td>\n",
       "    </tr>\n",
       "  </tbody>\n",
       "</table>\n",
       "</div>"
      ],
      "text/plain": [
       "                                           full_name\n",
       "0  Abraham Lincoln Birthplace National Historical...\n",
       "1                               Acadia National Park\n",
       "2                     Adams National Historical Park\n",
       "3            African Burial Ground National Monument\n",
       "4                Agate Fossil Beds National Monument"
      ]
     },
     "execution_count": 215,
     "metadata": {},
     "output_type": "execute_result"
    }
   ],
   "source": [
    "park_name_df = park_activity_topic_df[[\"full_name\"]].copy()\n",
    "\n",
    "# only copy the columns associated with topics and activities\n",
    "activity_df = park_activity_topic_df.iloc[:,4:].copy()\n",
    "activity_df = activity_df.fillna('0')\n",
    "\n",
    "# Here's my recommender!\n",
    "cos_sim = cosine_similarity(activity_df)"
   ]
  },
  {
   "cell_type": "code",
   "execution_count": 510,
   "metadata": {},
   "outputs": [],
   "source": [
    "with open(\"recommend_data/park_cosine_similarity.pickle\", \"wb\") as write_file:\n",
    "    pickle.dump(cos_sim, write_file)"
   ]
  },
  {
   "cell_type": "markdown",
   "metadata": {},
   "source": [
    "Time to test out my recommender. What are the top 5 similar parks to Abraham Lincoln Birthplace National Historical Park?"
   ]
  },
  {
   "cell_type": "code",
   "execution_count": 228,
   "metadata": {},
   "outputs": [
    {
     "data": {
      "text/plain": [
       "array([ 0, 86, 72, 67, 93])"
      ]
     },
     "execution_count": 228,
     "metadata": {},
     "output_type": "execute_result"
    }
   ],
   "source": [
    "abraham_top5 = np.argsort(cos_sim[0])[-5:][::-1]\n",
    "abraham_top5"
   ]
  },
  {
   "cell_type": "code",
   "execution_count": 229,
   "metadata": {},
   "outputs": [
    {
     "data": {
      "text/html": [
       "<div>\n",
       "<style scoped>\n",
       "    .dataframe tbody tr th:only-of-type {\n",
       "        vertical-align: middle;\n",
       "    }\n",
       "\n",
       "    .dataframe tbody tr th {\n",
       "        vertical-align: top;\n",
       "    }\n",
       "\n",
       "    .dataframe thead th {\n",
       "        text-align: right;\n",
       "    }\n",
       "</style>\n",
       "<table border=\"1\" class=\"dataframe\">\n",
       "  <thead>\n",
       "    <tr style=\"text-align: right;\">\n",
       "      <th></th>\n",
       "      <th>full_name</th>\n",
       "    </tr>\n",
       "  </thead>\n",
       "  <tbody>\n",
       "    <tr>\n",
       "      <th>86</th>\n",
       "      <td>Chiricahua National Monument</td>\n",
       "    </tr>\n",
       "    <tr>\n",
       "      <th>72</th>\n",
       "      <td>Cedar Breaks National Monument</td>\n",
       "    </tr>\n",
       "    <tr>\n",
       "      <th>67</th>\n",
       "      <td>Carlsbad Caverns National Park</td>\n",
       "    </tr>\n",
       "    <tr>\n",
       "      <th>93</th>\n",
       "      <td>Coronado National Memorial</td>\n",
       "    </tr>\n",
       "  </tbody>\n",
       "</table>\n",
       "</div>"
      ],
      "text/plain": [
       "                         full_name\n",
       "86    Chiricahua National Monument\n",
       "72  Cedar Breaks National Monument\n",
       "67  Carlsbad Caverns National Park\n",
       "93      Coronado National Memorial"
      ]
     },
     "execution_count": 229,
     "metadata": {},
     "output_type": "execute_result"
    }
   ],
   "source": [
    "park_name_df.iloc[[86, 72, 67, 93]]"
   ]
  },
  {
   "cell_type": "code",
   "execution_count": 232,
   "metadata": {},
   "outputs": [
    {
     "data": {
      "text/html": [
       "<div>\n",
       "<style scoped>\n",
       "    .dataframe tbody tr th:only-of-type {\n",
       "        vertical-align: middle;\n",
       "    }\n",
       "\n",
       "    .dataframe tbody tr th {\n",
       "        vertical-align: top;\n",
       "    }\n",
       "\n",
       "    .dataframe thead th {\n",
       "        text-align: right;\n",
       "    }\n",
       "</style>\n",
       "<table border=\"1\" class=\"dataframe\">\n",
       "  <thead>\n",
       "    <tr style=\"text-align: right;\">\n",
       "      <th></th>\n",
       "      <th>full_name</th>\n",
       "    </tr>\n",
       "  </thead>\n",
       "  <tbody>\n",
       "    <tr>\n",
       "      <th>429</th>\n",
       "      <td>Yosemite National Park</td>\n",
       "    </tr>\n",
       "    <tr>\n",
       "      <th>339</th>\n",
       "      <td>Rocky Mountain National Park</td>\n",
       "    </tr>\n",
       "    <tr>\n",
       "      <th>275</th>\n",
       "      <td>Mount Rainier National Park</td>\n",
       "    </tr>\n",
       "    <tr>\n",
       "      <th>171</th>\n",
       "      <td>Glacier National Park</td>\n",
       "    </tr>\n",
       "    <tr>\n",
       "      <th>364</th>\n",
       "      <td>Sequoia &amp; Kings Canyon National Parks</td>\n",
       "    </tr>\n",
       "  </tbody>\n",
       "</table>\n",
       "</div>"
      ],
      "text/plain": [
       "                                 full_name\n",
       "429                 Yosemite National Park\n",
       "339           Rocky Mountain National Park\n",
       "275            Mount Rainier National Park\n",
       "171                  Glacier National Park\n",
       "364  Sequoia & Kings Canyon National Parks"
      ]
     },
     "execution_count": 232,
     "metadata": {},
     "output_type": "execute_result"
    }
   ],
   "source": [
    "# What are the top 5 similar parks to Yosemite National Park?\n",
    "yosemite_top5 = np.argsort(cos_sim[429])[-5:][::-1].tolist()\n",
    "park_name_df.iloc[yosemite_top5]"
   ]
  },
  {
   "cell_type": "markdown",
   "metadata": {},
   "source": [
    "<a id='section5'></a>"
   ]
  },
  {
   "cell_type": "markdown",
   "metadata": {},
   "source": [
    "### 5. Practice Parsing through an HTML Table"
   ]
  },
  {
   "cell_type": "markdown",
   "metadata": {},
   "source": [
    "Now, my goal is to go through URLs for visitor counts for different parks and save them as dataframes."
   ]
  },
  {
   "cell_type": "code",
   "execution_count": 98,
   "metadata": {},
   "outputs": [
    {
     "name": "stdout",
     "output_type": "stream",
     "text": [
      "<Response [200]>\n"
     ]
    }
   ],
   "source": [
    "url = 'https://irma.nps.gov/STATS/MvcReportViewer.aspx?_id=b1b8f507-30be-453d-aa65-3b0e4992ac8e&_m=Remote&_r=%2fNPS.Stats.Reports%2fPark+Specific+Reports%2fRecreation+Visitors+By+Month+(1979+-+Last+Calendar+Year)&_15=True&_16=True&_18=True&_19=True&_34=False&_35=False&_39=880px&Park=CRLA'\n",
    "response = requests.get(url)\n",
    "page = response.text\n",
    "soup = BeautifulSoup(page, 'lxml')"
   ]
  },
  {
   "cell_type": "code",
   "execution_count": 103,
   "metadata": {},
   "outputs": [],
   "source": [
    "# access the table with visitor count data\n",
    "table = soup.find(\"table\", cellspacing=\"0\", cellpadding=\"0\", cols=\"14\", border=\"0\", style=\"border-collapse:collapse;\")\n",
    "table_rows = table.find_all('div')"
   ]
  },
  {
   "cell_type": "code",
   "execution_count": null,
   "metadata": {},
   "outputs": [],
   "source": [
    "# get the columns for my dataframe (Year, Jan, Feb, Mar, etc.)\n",
    "visitor_columns = []\n",
    "table_rows = table.find_all('td')\n",
    "for tr in table_rows[14:28]:\n",
    "    visitor_columns.append(tr.text)"
   ]
  },
  {
   "cell_type": "code",
   "execution_count": 128,
   "metadata": {},
   "outputs": [],
   "source": [
    "# get the values for my dataframe\n",
    "visitor_values = []\n",
    "table_rows = table.find_all('td')\n",
    "for tr in table_rows[28:]:\n",
    "    row = [tr.text]\n",
    "    visitor_values.append(row)\n",
    "    \n",
    "# reshape the values to fit the shape of my dataframe (has to be 14 columns)\n",
    "visitor_values = np.array(visitor_values).reshape(42, 14)\n",
    "pd.DataFrame(visitor_values, columns=visitor_columns)"
   ]
  },
  {
   "cell_type": "markdown",
   "metadata": {},
   "source": [
    "<a id='section6'></a>"
   ]
  },
  {
   "cell_type": "markdown",
   "metadata": {},
   "source": [
    "### 6. More EDA"
   ]
  },
  {
   "cell_type": "markdown",
   "metadata": {},
   "source": [
    "Additional EDA. To give broader context to my problem, I would like to do some more EDA on national parks in general. Questions I want to know are:\n",
    "1. What are the top 10 most visited parks in the US National Park System?\n",
    "2. What are the most visited parks per month? (potentially as a % of their total visitors)"
   ]
  },
  {
   "cell_type": "code",
   "execution_count": 239,
   "metadata": {},
   "outputs": [
    {
     "name": "stdout",
     "output_type": "stream",
     "text": [
      "<Response [200]>\n"
     ]
    }
   ],
   "source": [
    "url = 'https://irma.nps.gov/STATS/MvcReportViewer.aspx?_id=7219afe3-9518-49ca-9352-37cbbd038ece&_m=Remote&_r=%2fNPS.Stats.Reports%2fNational+Reports%2fAnnual+Visitation+By+Park+(1979+-+Last+Calendar+Year)&_15=True&_16=True&_18=True&_19=True&_34=False&_35=False&_39=880px'\n",
    "response = requests.get(url)\n",
    "page = response.text\n",
    "soup = BeautifulSoup(page, 'lxml')"
   ]
  },
  {
   "cell_type": "code",
   "execution_count": null,
   "metadata": {},
   "outputs": [],
   "source": [
    "table = soup.find(\"table\", cellspacing=\"0\", cellpadding=\"0\", cols=\"13\", border=\"0\", style=\"border-collapse:collapse;\")\n",
    "table_rows = table.find_all('td')"
   ]
  },
  {
   "cell_type": "code",
   "execution_count": null,
   "metadata": {},
   "outputs": [],
   "source": [
    "annual_visit_columns = []\n",
    "table_rows = table.find_all('td')\n",
    "for tr in table_rows[17:29]:\n",
    "    annual_visit_columns.append(tr.text)"
   ]
  },
  {
   "cell_type": "code",
   "execution_count": null,
   "metadata": {},
   "outputs": [],
   "source": [
    "annual_visit_values = []\n",
    "table_rows = table.find_all('td')\n",
    "for tr in table_rows[29:]:\n",
    "    if tr.text:\n",
    "        row = [tr.text]\n",
    "        annual_visit_values.append(row)"
   ]
  },
  {
   "cell_type": "code",
   "execution_count": null,
   "metadata": {},
   "outputs": [],
   "source": [
    "# prep the values to be inserted into a dataframe\n",
    "annual_visitor_values = np.array(annual_visit_values).reshape(379, 12)\n",
    "pd.DataFrame(annual_visitor_values, columns=annual_visit_columns)"
   ]
  },
  {
   "cell_type": "code",
   "execution_count": null,
   "metadata": {},
   "outputs": [],
   "source": [
    "column_names = annual_visits_df.columns.tolist()\n",
    "column_names.insert(1, column_names.pop())"
   ]
  },
  {
   "cell_type": "code",
   "execution_count": null,
   "metadata": {},
   "outputs": [],
   "source": [
    "def clean_park_name(text):\n",
    "    '''\n",
    "    Removes the national park, national monument, etc. designation at the end of a park name\n",
    "    '''\n",
    "    cleaned_text = re.sub('[A-Z]{2,}$', '', text)\n",
    "    cleaned_text = cleaned_text.strip()\n",
    "    return cleaned_text"
   ]
  },
  {
   "cell_type": "code",
   "execution_count": 268,
   "metadata": {},
   "outputs": [
    {
     "data": {
      "text/html": [
       "<div>\n",
       "<style scoped>\n",
       "    .dataframe tbody tr th:only-of-type {\n",
       "        vertical-align: middle;\n",
       "    }\n",
       "\n",
       "    .dataframe tbody tr th {\n",
       "        vertical-align: top;\n",
       "    }\n",
       "\n",
       "    .dataframe thead th {\n",
       "        text-align: right;\n",
       "    }\n",
       "</style>\n",
       "<table border=\"1\" class=\"dataframe\">\n",
       "  <thead>\n",
       "    <tr style=\"text-align: right;\">\n",
       "      <th></th>\n",
       "      <th>Park Name</th>\n",
       "      <th>park_name</th>\n",
       "      <th>2010</th>\n",
       "      <th>2011</th>\n",
       "      <th>2012</th>\n",
       "      <th>2013</th>\n",
       "      <th>2014</th>\n",
       "      <th>2015</th>\n",
       "      <th>2016</th>\n",
       "      <th>2017</th>\n",
       "      <th>2018</th>\n",
       "      <th>2019</th>\n",
       "      <th>Average</th>\n",
       "    </tr>\n",
       "  </thead>\n",
       "  <tbody>\n",
       "    <tr>\n",
       "      <th>0</th>\n",
       "      <td>Abraham Lincoln Birthplace NHP</td>\n",
       "      <td>Abraham Lincoln Birthplace</td>\n",
       "      <td>177,122</td>\n",
       "      <td>163,568</td>\n",
       "      <td>169,515</td>\n",
       "      <td>163,928</td>\n",
       "      <td>241,264</td>\n",
       "      <td>148,605</td>\n",
       "      <td>252,495</td>\n",
       "      <td>269,580</td>\n",
       "      <td>260,964</td>\n",
       "      <td>238,226</td>\n",
       "      <td>208,527</td>\n",
       "    </tr>\n",
       "    <tr>\n",
       "      <th>1</th>\n",
       "      <td>Acadia NP</td>\n",
       "      <td>Acadia</td>\n",
       "      <td>2,504,208</td>\n",
       "      <td>2,374,645</td>\n",
       "      <td>2,431,052</td>\n",
       "      <td>2,254,922</td>\n",
       "      <td>2,563,129</td>\n",
       "      <td>2,811,184</td>\n",
       "      <td>3,303,393</td>\n",
       "      <td>3,509,271</td>\n",
       "      <td>3,537,575</td>\n",
       "      <td>3,437,286</td>\n",
       "      <td>2,872,667</td>\n",
       "    </tr>\n",
       "    <tr>\n",
       "      <th>2</th>\n",
       "      <td>Adams NHP</td>\n",
       "      <td>Adams</td>\n",
       "      <td>73,339</td>\n",
       "      <td>219,975</td>\n",
       "      <td>336,031</td>\n",
       "      <td>285,501</td>\n",
       "      <td>178,468</td>\n",
       "      <td>183,632</td>\n",
       "      <td>199,301</td>\n",
       "      <td>255,562</td>\n",
       "      <td>121,007</td>\n",
       "      <td>187,400</td>\n",
       "      <td>204,022</td>\n",
       "    </tr>\n",
       "    <tr>\n",
       "      <th>3</th>\n",
       "      <td>African Burial Ground NM</td>\n",
       "      <td>African Burial Ground</td>\n",
       "      <td>117,113</td>\n",
       "      <td>108,585</td>\n",
       "      <td>77,624</td>\n",
       "      <td>93,234</td>\n",
       "      <td>54,861</td>\n",
       "      <td>56,348</td>\n",
       "      <td>46,526</td>\n",
       "      <td>43,182</td>\n",
       "      <td>45,035</td>\n",
       "      <td>47,427</td>\n",
       "      <td>68,994</td>\n",
       "    </tr>\n",
       "    <tr>\n",
       "      <th>4</th>\n",
       "      <td>Agate Fossil Beds NM</td>\n",
       "      <td>Agate Fossil Beds</td>\n",
       "      <td>12,509</td>\n",
       "      <td>11,617</td>\n",
       "      <td>11,824</td>\n",
       "      <td>10,504</td>\n",
       "      <td>12,440</td>\n",
       "      <td>13,264</td>\n",
       "      <td>15,555</td>\n",
       "      <td>32,038</td>\n",
       "      <td>16,238</td>\n",
       "      <td>16,657</td>\n",
       "      <td>15,265</td>\n",
       "    </tr>\n",
       "  </tbody>\n",
       "</table>\n",
       "</div>"
      ],
      "text/plain": [
       "                        Park Name                   park_name       2010  \\\n",
       "0  Abraham Lincoln Birthplace NHP  Abraham Lincoln Birthplace    177,122   \n",
       "1                       Acadia NP                      Acadia  2,504,208   \n",
       "2                       Adams NHP                       Adams     73,339   \n",
       "3        African Burial Ground NM       African Burial Ground    117,113   \n",
       "4            Agate Fossil Beds NM           Agate Fossil Beds     12,509   \n",
       "\n",
       "        2011       2012       2013       2014       2015       2016  \\\n",
       "0    163,568    169,515    163,928    241,264    148,605    252,495   \n",
       "1  2,374,645  2,431,052  2,254,922  2,563,129  2,811,184  3,303,393   \n",
       "2    219,975    336,031    285,501    178,468    183,632    199,301   \n",
       "3    108,585     77,624     93,234     54,861     56,348     46,526   \n",
       "4     11,617     11,824     10,504     12,440     13,264     15,555   \n",
       "\n",
       "        2017       2018       2019    Average  \n",
       "0    269,580    260,964    238,226    208,527  \n",
       "1  3,509,271  3,537,575  3,437,286  2,872,667  \n",
       "2    255,562    121,007    187,400    204,022  \n",
       "3     43,182     45,035     47,427     68,994  \n",
       "4     32,038     16,238     16,657     15,265  "
      ]
     },
     "execution_count": 268,
     "metadata": {},
     "output_type": "execute_result"
    }
   ],
   "source": [
    "annual_visits_df = pd.DataFrame(annual_visitor_values, columns=annual_visit_columns)\n",
    "annual_visits_df[\"park_name\"] = annual_visits_df[\"Park Name\"].apply(clean_park_name)\n",
    "\n",
    "column_names = annual_visits_df.columns.tolist()\n",
    "column_names.insert(1, column_names.pop())\n",
    "\n",
    "annual_visits_df = annual_visits_df[column_names]\n",
    "annual_visits_df.head()"
   ]
  },
  {
   "cell_type": "code",
   "execution_count": null,
   "metadata": {},
   "outputs": [],
   "source": [
    "annual_visits_df.to_pickle(\"data/annual_visits_df.pickle\")"
   ]
  },
  {
   "cell_type": "code",
   "execution_count": null,
   "metadata": {},
   "outputs": [],
   "source": [
    "annual_visits_df = pd.read_pickle(\"data/annual_visits_df.pickle\")"
   ]
  },
  {
   "cell_type": "code",
   "execution_count": 287,
   "metadata": {},
   "outputs": [],
   "source": [
    "# some \"blank\" values actually show \\xa0\n",
    "annual_visits_df.iloc[:,2:] = annual_visits_df.iloc[:,2:].replace(\"\\xa0\", 0)\n",
    "\n",
    "# remove commas from values\n",
    "annual_visits_df.iloc[:,2:] = annual_visits_df.iloc[:,2:].replace(',', '', regex=True).astype(int)"
   ]
  },
  {
   "cell_type": "code",
   "execution_count": 303,
   "metadata": {},
   "outputs": [],
   "source": [
    "def get_park_type(text):\n",
    "    '''\n",
    "    Gets the national park, national monument, etc. designation at the end of a park name.\n",
    "    E.G. Gets the \"NP\" designation from \"Yosemite NP\"\n",
    "    '''\n",
    "    \n",
    "    if re.findall('[A-Z]{2,}$', text):\n",
    "        park_type = re.findall('[A-Z]{2,}$', text)\n",
    "        return park_type[0]\n",
    "    else:\n",
    "        return 'not specified'"
   ]
  },
  {
   "cell_type": "code",
   "execution_count": 305,
   "metadata": {},
   "outputs": [
    {
     "data": {
      "text/html": [
       "<div>\n",
       "<style scoped>\n",
       "    .dataframe tbody tr th:only-of-type {\n",
       "        vertical-align: middle;\n",
       "    }\n",
       "\n",
       "    .dataframe tbody tr th {\n",
       "        vertical-align: top;\n",
       "    }\n",
       "\n",
       "    .dataframe thead th {\n",
       "        text-align: right;\n",
       "    }\n",
       "</style>\n",
       "<table border=\"1\" class=\"dataframe\">\n",
       "  <thead>\n",
       "    <tr style=\"text-align: right;\">\n",
       "      <th></th>\n",
       "      <th>Park Name</th>\n",
       "      <th>park_name</th>\n",
       "      <th>type</th>\n",
       "      <th>2010</th>\n",
       "      <th>2011</th>\n",
       "      <th>2012</th>\n",
       "      <th>2013</th>\n",
       "      <th>2014</th>\n",
       "      <th>2015</th>\n",
       "      <th>2016</th>\n",
       "      <th>2017</th>\n",
       "      <th>2018</th>\n",
       "      <th>2019</th>\n",
       "      <th>Average</th>\n",
       "    </tr>\n",
       "  </thead>\n",
       "  <tbody>\n",
       "    <tr>\n",
       "      <th>0</th>\n",
       "      <td>Abraham Lincoln Birthplace NHP</td>\n",
       "      <td>Abraham Lincoln Birthplace</td>\n",
       "      <td>NHP</td>\n",
       "      <td>177122</td>\n",
       "      <td>163568</td>\n",
       "      <td>169515</td>\n",
       "      <td>163928</td>\n",
       "      <td>241264</td>\n",
       "      <td>148605</td>\n",
       "      <td>252495</td>\n",
       "      <td>269580</td>\n",
       "      <td>260964</td>\n",
       "      <td>238226</td>\n",
       "      <td>208527</td>\n",
       "    </tr>\n",
       "    <tr>\n",
       "      <th>1</th>\n",
       "      <td>Acadia NP</td>\n",
       "      <td>Acadia</td>\n",
       "      <td>NP</td>\n",
       "      <td>2504208</td>\n",
       "      <td>2374645</td>\n",
       "      <td>2431052</td>\n",
       "      <td>2254922</td>\n",
       "      <td>2563129</td>\n",
       "      <td>2811184</td>\n",
       "      <td>3303393</td>\n",
       "      <td>3509271</td>\n",
       "      <td>3537575</td>\n",
       "      <td>3437286</td>\n",
       "      <td>2872667</td>\n",
       "    </tr>\n",
       "    <tr>\n",
       "      <th>2</th>\n",
       "      <td>Adams NHP</td>\n",
       "      <td>Adams</td>\n",
       "      <td>NHP</td>\n",
       "      <td>73339</td>\n",
       "      <td>219975</td>\n",
       "      <td>336031</td>\n",
       "      <td>285501</td>\n",
       "      <td>178468</td>\n",
       "      <td>183632</td>\n",
       "      <td>199301</td>\n",
       "      <td>255562</td>\n",
       "      <td>121007</td>\n",
       "      <td>187400</td>\n",
       "      <td>204022</td>\n",
       "    </tr>\n",
       "    <tr>\n",
       "      <th>3</th>\n",
       "      <td>African Burial Ground NM</td>\n",
       "      <td>African Burial Ground</td>\n",
       "      <td>NM</td>\n",
       "      <td>117113</td>\n",
       "      <td>108585</td>\n",
       "      <td>77624</td>\n",
       "      <td>93234</td>\n",
       "      <td>54861</td>\n",
       "      <td>56348</td>\n",
       "      <td>46526</td>\n",
       "      <td>43182</td>\n",
       "      <td>45035</td>\n",
       "      <td>47427</td>\n",
       "      <td>68994</td>\n",
       "    </tr>\n",
       "    <tr>\n",
       "      <th>4</th>\n",
       "      <td>Agate Fossil Beds NM</td>\n",
       "      <td>Agate Fossil Beds</td>\n",
       "      <td>NM</td>\n",
       "      <td>12509</td>\n",
       "      <td>11617</td>\n",
       "      <td>11824</td>\n",
       "      <td>10504</td>\n",
       "      <td>12440</td>\n",
       "      <td>13264</td>\n",
       "      <td>15555</td>\n",
       "      <td>32038</td>\n",
       "      <td>16238</td>\n",
       "      <td>16657</td>\n",
       "      <td>15265</td>\n",
       "    </tr>\n",
       "  </tbody>\n",
       "</table>\n",
       "</div>"
      ],
      "text/plain": [
       "                        Park Name                   park_name type     2010  \\\n",
       "0  Abraham Lincoln Birthplace NHP  Abraham Lincoln Birthplace  NHP   177122   \n",
       "1                       Acadia NP                      Acadia   NP  2504208   \n",
       "2                       Adams NHP                       Adams  NHP    73339   \n",
       "3        African Burial Ground NM       African Burial Ground   NM   117113   \n",
       "4            Agate Fossil Beds NM           Agate Fossil Beds   NM    12509   \n",
       "\n",
       "      2011     2012     2013     2014     2015     2016     2017     2018  \\\n",
       "0   163568   169515   163928   241264   148605   252495   269580   260964   \n",
       "1  2374645  2431052  2254922  2563129  2811184  3303393  3509271  3537575   \n",
       "2   219975   336031   285501   178468   183632   199301   255562   121007   \n",
       "3   108585    77624    93234    54861    56348    46526    43182    45035   \n",
       "4    11617    11824    10504    12440    13264    15555    32038    16238   \n",
       "\n",
       "      2019  Average  \n",
       "0   238226   208527  \n",
       "1  3437286  2872667  \n",
       "2   187400   204022  \n",
       "3    47427    68994  \n",
       "4    16657    15265  "
      ]
     },
     "execution_count": 305,
     "metadata": {},
     "output_type": "execute_result"
    }
   ],
   "source": [
    "annual_visits_df[\"type\"] = annual_visits_df[\"Park Name\"].apply(get_park_type)\n",
    "\n",
    "column_names = annual_visits_df.columns.tolist()\n",
    "column_names.insert(2, column_names.pop())\n",
    "\n",
    "annual_visits_df = annual_visits_df[column_names]\n",
    "annual_visits_df.head()"
   ]
  },
  {
   "cell_type": "code",
   "execution_count": null,
   "metadata": {},
   "outputs": [],
   "source": [
    "# get the top 10 most visited average parks from the last 10 years from 2010 to 2019\n",
    "annual_visits_df[annual_visits_df[\"type\"] == \"NP\"].sort_values(\"Average\", ascending=False)"
   ]
  },
  {
   "cell_type": "code",
   "execution_count": null,
   "metadata": {},
   "outputs": [],
   "source": [
    "annual_visits_df[annual_visits_df.columns[3:]] = annual_visits_df[annual_visits_df.columns[3:]].astype(int)"
   ]
  },
  {
   "cell_type": "code",
   "execution_count": null,
   "metadata": {},
   "outputs": [],
   "source": [
    "year_cols = annual_visits_df.columns.tolist()[3:-1]\n",
    "\n",
    "top_10_park_cols = top_10_parks.columns.tolist()[4:-1]\n",
    "\n",
    "top_10_parks = annual_visits_df[annual_visits_df[\"type\"] == \"NP\"].sort_values(\"Average\", ascending=False).head(10).reset_index().copy()\n",
    "top_10_parks = top_10_parks[year_cols]"
   ]
  },
  {
   "cell_type": "code",
   "execution_count": 350,
   "metadata": {},
   "outputs": [
    {
     "data": {
      "text/plain": [
       "['Great Smoky Mountains',\n",
       " 'Grand Canyon',\n",
       " 'Yosemite',\n",
       " 'Rocky Mountain',\n",
       " 'Yellowstone',\n",
       " 'Zion',\n",
       " 'Olympic',\n",
       " 'Grand Teton',\n",
       " 'Acadia',\n",
       " 'Glacier']"
      ]
     },
     "execution_count": 350,
     "metadata": {},
     "output_type": "execute_result"
    }
   ],
   "source": [
    "top_10_park_names = annual_visits_df[annual_visits_df[\"type\"] == \"NP\"].sort_values(\"Average\", ascending=False).head(10)[\"park_name\"].values.tolist()\n",
    "top_10_park_names"
   ]
  },
  {
   "cell_type": "code",
   "execution_count": 351,
   "metadata": {},
   "outputs": [],
   "source": [
    "top_10_parks.index = top_10_park_names\n",
    "top_10_parks"
   ]
  },
  {
   "cell_type": "code",
   "execution_count": 507,
   "metadata": {},
   "outputs": [
    {
     "data": {
      "text/plain": [
       "['Great Smoky Mountains',\n",
       " 'Grand Canyon',\n",
       " 'Yosemite',\n",
       " 'Rocky Mountain',\n",
       " 'Yellowstone',\n",
       " 'Zion',\n",
       " 'Olympic',\n",
       " 'Grand Teton',\n",
       " 'Acadia',\n",
       " 'Glacier']"
      ]
     },
     "execution_count": 507,
     "metadata": {},
     "output_type": "execute_result"
    }
   ],
   "source": [
    "top_10_parks.index.tolist()"
   ]
  },
  {
   "cell_type": "code",
   "execution_count": 358,
   "metadata": {},
   "outputs": [
    {
     "data": {
      "text/html": [
       "<div>\n",
       "<style scoped>\n",
       "    .dataframe tbody tr th:only-of-type {\n",
       "        vertical-align: middle;\n",
       "    }\n",
       "\n",
       "    .dataframe tbody tr th {\n",
       "        vertical-align: top;\n",
       "    }\n",
       "\n",
       "    .dataframe thead th {\n",
       "        text-align: right;\n",
       "    }\n",
       "</style>\n",
       "<table border=\"1\" class=\"dataframe\">\n",
       "  <thead>\n",
       "    <tr style=\"text-align: right;\">\n",
       "      <th></th>\n",
       "      <th>park_name</th>\n",
       "      <th>year</th>\n",
       "      <th>num_visitors</th>\n",
       "    </tr>\n",
       "  </thead>\n",
       "  <tbody>\n",
       "    <tr>\n",
       "      <th>0</th>\n",
       "      <td>Great Smoky Mountains</td>\n",
       "      <td>2010</td>\n",
       "      <td>9463538</td>\n",
       "    </tr>\n",
       "    <tr>\n",
       "      <th>1</th>\n",
       "      <td>Great Smoky Mountains</td>\n",
       "      <td>2011</td>\n",
       "      <td>9008830</td>\n",
       "    </tr>\n",
       "    <tr>\n",
       "      <th>2</th>\n",
       "      <td>Great Smoky Mountains</td>\n",
       "      <td>2012</td>\n",
       "      <td>9685829</td>\n",
       "    </tr>\n",
       "    <tr>\n",
       "      <th>3</th>\n",
       "      <td>Great Smoky Mountains</td>\n",
       "      <td>2013</td>\n",
       "      <td>9354695</td>\n",
       "    </tr>\n",
       "    <tr>\n",
       "      <th>4</th>\n",
       "      <td>Great Smoky Mountains</td>\n",
       "      <td>2014</td>\n",
       "      <td>10099276</td>\n",
       "    </tr>\n",
       "    <tr>\n",
       "      <th>...</th>\n",
       "      <td>...</td>\n",
       "      <td>...</td>\n",
       "      <td>...</td>\n",
       "    </tr>\n",
       "    <tr>\n",
       "      <th>95</th>\n",
       "      <td>Glacier</td>\n",
       "      <td>2015</td>\n",
       "      <td>2366056</td>\n",
       "    </tr>\n",
       "    <tr>\n",
       "      <th>96</th>\n",
       "      <td>Glacier</td>\n",
       "      <td>2016</td>\n",
       "      <td>2946681</td>\n",
       "    </tr>\n",
       "    <tr>\n",
       "      <th>97</th>\n",
       "      <td>Glacier</td>\n",
       "      <td>2017</td>\n",
       "      <td>3305512</td>\n",
       "    </tr>\n",
       "    <tr>\n",
       "      <th>98</th>\n",
       "      <td>Glacier</td>\n",
       "      <td>2018</td>\n",
       "      <td>2965309</td>\n",
       "    </tr>\n",
       "    <tr>\n",
       "      <th>99</th>\n",
       "      <td>Glacier</td>\n",
       "      <td>2019</td>\n",
       "      <td>3049839</td>\n",
       "    </tr>\n",
       "  </tbody>\n",
       "</table>\n",
       "<p>100 rows × 3 columns</p>\n",
       "</div>"
      ],
      "text/plain": [
       "                park_name  year  num_visitors\n",
       "0   Great Smoky Mountains  2010       9463538\n",
       "1   Great Smoky Mountains  2011       9008830\n",
       "2   Great Smoky Mountains  2012       9685829\n",
       "3   Great Smoky Mountains  2013       9354695\n",
       "4   Great Smoky Mountains  2014      10099276\n",
       "..                    ...   ...           ...\n",
       "95                Glacier  2015       2366056\n",
       "96                Glacier  2016       2946681\n",
       "97                Glacier  2017       3305512\n",
       "98                Glacier  2018       2965309\n",
       "99                Glacier  2019       3049839\n",
       "\n",
       "[100 rows x 3 columns]"
      ]
     },
     "execution_count": 358,
     "metadata": {},
     "output_type": "execute_result"
    }
   ],
   "source": [
    "top_10_parks_df = pd.DataFrame(top_10_parks.stack(), columns=[\"num_visitors\"]).reset_index()\n",
    "top_10_parks_df.columns = [\"park_name\", \"year\", \"num_visitors\"]\n",
    "top_10_parks_df[\"year\"] = top_10_parks_df[\"year\"].astype(int)\n",
    "top_10_parks_df"
   ]
  },
  {
   "cell_type": "code",
   "execution_count": 363,
   "metadata": {},
   "outputs": [
    {
     "data": {
      "image/png": "[encoded data removed]",
      "text/plain": [
       "<Figure size 432x288 with 1 Axes>"
      ]
     },
     "metadata": {
      "needs_background": "light"
     },
     "output_type": "display_data"
    }
   ],
   "source": [
    "# make a pretty plot\n",
    "sns.lineplot(x=\"year\", y=\"num_visitors\", hue=\"park_name\", data=top_10_parks_df);"
   ]
  },
  {
   "cell_type": "code",
   "execution_count": 367,
   "metadata": {},
   "outputs": [
    {
     "data": {
      "text/plain": [
       "['Acadia', 'Arches', 'Badlands', 'Big Bend', 'Biscayne']"
      ]
     },
     "execution_count": 367,
     "metadata": {},
     "output_type": "execute_result"
    }
   ],
   "source": [
    "national_park_names = annual_visits_df[annual_visits_df[\"type\"] == \"NP\"][\"park_name\"].to_list()\n",
    "national_park_names[:5]"
   ]
  },
  {
   "cell_type": "code",
   "execution_count": 396,
   "metadata": {},
   "outputs": [
    {
     "data": {
      "text/html": [
       "<div>\n",
       "<style scoped>\n",
       "    .dataframe tbody tr th:only-of-type {\n",
       "        vertical-align: middle;\n",
       "    }\n",
       "\n",
       "    .dataframe tbody tr th {\n",
       "        vertical-align: top;\n",
       "    }\n",
       "\n",
       "    .dataframe thead th {\n",
       "        text-align: right;\n",
       "    }\n",
       "</style>\n",
       "<table border=\"1\" class=\"dataframe\">\n",
       "  <thead>\n",
       "    <tr style=\"text-align: right;\">\n",
       "      <th></th>\n",
       "      <th>abbreviation</th>\n",
       "      <th>name</th>\n",
       "      <th>national_park</th>\n",
       "    </tr>\n",
       "  </thead>\n",
       "  <tbody>\n",
       "    <tr>\n",
       "      <th>0</th>\n",
       "      <td>ABLI</td>\n",
       "      <td>Abraham Lincoln Birthplace</td>\n",
       "      <td>None</td>\n",
       "    </tr>\n",
       "    <tr>\n",
       "      <th>1</th>\n",
       "      <td>ACAD</td>\n",
       "      <td>Acadia</td>\n",
       "      <td>NP</td>\n",
       "    </tr>\n",
       "    <tr>\n",
       "      <th>2</th>\n",
       "      <td>ADAM</td>\n",
       "      <td>Adams</td>\n",
       "      <td>None</td>\n",
       "    </tr>\n",
       "    <tr>\n",
       "      <th>3</th>\n",
       "      <td>AFBG</td>\n",
       "      <td>African Burial Ground</td>\n",
       "      <td>None</td>\n",
       "    </tr>\n",
       "    <tr>\n",
       "      <th>4</th>\n",
       "      <td>AGFO</td>\n",
       "      <td>Agate Fossil Beds</td>\n",
       "      <td>None</td>\n",
       "    </tr>\n",
       "    <tr>\n",
       "      <th>...</th>\n",
       "      <td>...</td>\n",
       "      <td>...</td>\n",
       "      <td>...</td>\n",
       "    </tr>\n",
       "    <tr>\n",
       "      <th>479</th>\n",
       "      <td>YONB</td>\n",
       "      <td>Yorktown Battlefield</td>\n",
       "      <td>None</td>\n",
       "    </tr>\n",
       "    <tr>\n",
       "      <th>480</th>\n",
       "      <td>YOSE</td>\n",
       "      <td>Yosemite</td>\n",
       "      <td>NP</td>\n",
       "    </tr>\n",
       "    <tr>\n",
       "      <th>481</th>\n",
       "      <td>YUHO</td>\n",
       "      <td>Yucca House</td>\n",
       "      <td>None</td>\n",
       "    </tr>\n",
       "    <tr>\n",
       "      <th>482</th>\n",
       "      <td>YUCH</td>\n",
       "      <td>Yukon-Charley Rivers</td>\n",
       "      <td>None</td>\n",
       "    </tr>\n",
       "    <tr>\n",
       "      <th>483</th>\n",
       "      <td>ZION</td>\n",
       "      <td>Zion</td>\n",
       "      <td>NP</td>\n",
       "    </tr>\n",
       "  </tbody>\n",
       "</table>\n",
       "<p>484 rows × 3 columns</p>\n",
       "</div>"
      ],
      "text/plain": [
       "    abbreviation                        name national_park\n",
       "0           ABLI  Abraham Lincoln Birthplace          None\n",
       "1           ACAD                      Acadia            NP\n",
       "2           ADAM                       Adams          None\n",
       "3           AFBG       African Burial Ground          None\n",
       "4           AGFO           Agate Fossil Beds          None\n",
       "..           ...                         ...           ...\n",
       "479         YONB        Yorktown Battlefield          None\n",
       "480         YOSE                    Yosemite            NP\n",
       "481         YUHO                 Yucca House          None\n",
       "482         YUCH        Yukon-Charley Rivers          None\n",
       "483         ZION                        Zion            NP\n",
       "\n",
       "[484 rows x 3 columns]"
      ]
     },
     "execution_count": 396,
     "metadata": {},
     "output_type": "execute_result"
    }
   ],
   "source": [
    "national_park_code_df = all_park_df.copy()\n",
    "national_park_code_df[\"national_park\"] = national_park_code_df[\"name\"].apply(lambda x: \"NP\" if x in national_park_names else \"None\")\n",
    "national_park_code_df[national_park_code_df[\"national_park\"] == \"NP\"]"
   ]
  },
  {
   "cell_type": "code",
   "execution_count": 419,
   "metadata": {},
   "outputs": [
    {
     "data": {
      "text/plain": [
       "['Denali',\n",
       " 'Gates of the Arctic',\n",
       " 'Glacier Bay',\n",
       " 'Great Sand Dunes',\n",
       " 'Katmai',\n",
       " 'Lake Clark',\n",
       " 'Wrangell-St. Elias']"
      ]
     },
     "execution_count": 419,
     "metadata": {},
     "output_type": "execute_result"
    }
   ],
   "source": [
    "# there are some national parks that end with NP &\n",
    "add_national_parks = []\n",
    "for park in annual_visits_df[\"park_name\"].tolist():\n",
    "    if \"NP &\" in park:\n",
    "        add_national_parks.append(park[:-5])\n",
    "add_national_parks"
   ]
  },
  {
   "cell_type": "code",
   "execution_count": 420,
   "metadata": {},
   "outputs": [
    {
     "data": {
      "text/plain": [
       "['Denali',\n",
       " 'Gates of the Arctic',\n",
       " 'Glacier Bay',\n",
       " 'Great Sand Dunes',\n",
       " 'Katmai',\n",
       " 'Lake Clark',\n",
       " 'Wrangell-St. Elias',\n",
       " 'North Cascades National Park Service Complex',\n",
       " 'Sequoia and Kings Canyon']"
      ]
     },
     "execution_count": 420,
     "metadata": {},
     "output_type": "execute_result"
    }
   ],
   "source": [
    "add_national_parks += [\"North Cascades National Park Service Complex\", \"Sequoia and Kings Canyon\"]\n",
    "add_national_parks"
   ]
  },
  {
   "cell_type": "code",
   "execution_count": 422,
   "metadata": {},
   "outputs": [
    {
     "data": {
      "text/plain": [
       "[['DENA', 'Denali', 'NP'],\n",
       " ['GAAR', 'Gates of the Arctic', 'NP'],\n",
       " ['GLBA', 'Glacier Bay', 'NP'],\n",
       " ['GRSA', 'Great Sand Dunes', 'NP'],\n",
       " ['KATM', 'Katmai', 'NP'],\n",
       " ['LACL', 'Lake Clark', 'NP'],\n",
       " ['NCCO', 'North Cascades National Park Service Complex', 'NP'],\n",
       " ['SEKI', 'Sequoia and Kings Canyon', 'NP']]"
      ]
     },
     "execution_count": 422,
     "metadata": {},
     "output_type": "execute_result"
    }
   ],
   "source": [
    "add_abbreviation_list = []\n",
    "for park in add_national_parks:\n",
    "    if park in all_park_df[\"name\"].tolist():\n",
    "        add_abbreviation_list.append([all_park_df[all_park_df[\"name\"] == park][\"abbreviation\"].values[0], park, \"NP\"])\n",
    "add_abbreviation_list"
   ]
  },
  {
   "cell_type": "code",
   "execution_count": null,
   "metadata": {},
   "outputs": [],
   "source": [
    "pd.DataFrame(add_abbreviation_list, columns=national_park_code_df.columns)"
   ]
  },
  {
   "cell_type": "code",
   "execution_count": 429,
   "metadata": {},
   "outputs": [
    {
     "data": {
      "text/html": [
       "<div>\n",
       "<style scoped>\n",
       "    .dataframe tbody tr th:only-of-type {\n",
       "        vertical-align: middle;\n",
       "    }\n",
       "\n",
       "    .dataframe tbody tr th {\n",
       "        vertical-align: top;\n",
       "    }\n",
       "\n",
       "    .dataframe thead th {\n",
       "        text-align: right;\n",
       "    }\n",
       "</style>\n",
       "<table border=\"1\" class=\"dataframe\">\n",
       "  <thead>\n",
       "    <tr style=\"text-align: right;\">\n",
       "      <th></th>\n",
       "      <th>abbreviation</th>\n",
       "      <th>name</th>\n",
       "      <th>national_park</th>\n",
       "    </tr>\n",
       "  </thead>\n",
       "  <tbody>\n",
       "    <tr>\n",
       "      <th>0</th>\n",
       "      <td>ABLI</td>\n",
       "      <td>Abraham Lincoln Birthplace</td>\n",
       "      <td>None</td>\n",
       "    </tr>\n",
       "    <tr>\n",
       "      <th>1</th>\n",
       "      <td>ACAD</td>\n",
       "      <td>Acadia</td>\n",
       "      <td>NP</td>\n",
       "    </tr>\n",
       "    <tr>\n",
       "      <th>2</th>\n",
       "      <td>ADAM</td>\n",
       "      <td>Adams</td>\n",
       "      <td>None</td>\n",
       "    </tr>\n",
       "    <tr>\n",
       "      <th>3</th>\n",
       "      <td>AFBG</td>\n",
       "      <td>African Burial Ground</td>\n",
       "      <td>None</td>\n",
       "    </tr>\n",
       "    <tr>\n",
       "      <th>4</th>\n",
       "      <td>AGFO</td>\n",
       "      <td>Agate Fossil Beds</td>\n",
       "      <td>None</td>\n",
       "    </tr>\n",
       "    <tr>\n",
       "      <th>...</th>\n",
       "      <td>...</td>\n",
       "      <td>...</td>\n",
       "      <td>...</td>\n",
       "    </tr>\n",
       "    <tr>\n",
       "      <th>487</th>\n",
       "      <td>GRSA</td>\n",
       "      <td>Great Sand Dunes</td>\n",
       "      <td>NP</td>\n",
       "    </tr>\n",
       "    <tr>\n",
       "      <th>488</th>\n",
       "      <td>KATM</td>\n",
       "      <td>Katmai</td>\n",
       "      <td>NP</td>\n",
       "    </tr>\n",
       "    <tr>\n",
       "      <th>489</th>\n",
       "      <td>LACL</td>\n",
       "      <td>Lake Clark</td>\n",
       "      <td>NP</td>\n",
       "    </tr>\n",
       "    <tr>\n",
       "      <th>490</th>\n",
       "      <td>NCCO</td>\n",
       "      <td>North Cascades National Park Service Complex</td>\n",
       "      <td>NP</td>\n",
       "    </tr>\n",
       "    <tr>\n",
       "      <th>491</th>\n",
       "      <td>SEKI</td>\n",
       "      <td>Sequoia and Kings Canyon</td>\n",
       "      <td>NP</td>\n",
       "    </tr>\n",
       "  </tbody>\n",
       "</table>\n",
       "<p>492 rows × 3 columns</p>\n",
       "</div>"
      ],
      "text/plain": [
       "    abbreviation                                          name national_park\n",
       "0           ABLI                    Abraham Lincoln Birthplace          None\n",
       "1           ACAD                                        Acadia            NP\n",
       "2           ADAM                                         Adams          None\n",
       "3           AFBG                         African Burial Ground          None\n",
       "4           AGFO                             Agate Fossil Beds          None\n",
       "..           ...                                           ...           ...\n",
       "487         GRSA                              Great Sand Dunes            NP\n",
       "488         KATM                                        Katmai            NP\n",
       "489         LACL                                    Lake Clark            NP\n",
       "490         NCCO  North Cascades National Park Service Complex            NP\n",
       "491         SEKI                      Sequoia and Kings Canyon            NP\n",
       "\n",
       "[492 rows x 3 columns]"
      ]
     },
     "execution_count": 429,
     "metadata": {},
     "output_type": "execute_result"
    }
   ],
   "source": [
    "national_park_code_df = national_park_code_df.append(pd.DataFrame(add_abbreviation_list, columns=national_park_code_df.columns), ignore_index=True)\n",
    "national_park_code_df.to_pickle(\"data/national_park_code_df.pickle\")\n",
    "national_park_code_df"
   ]
  }
 ],
 "metadata": {
  "kernelspec": {
   "display_name": "Python 3",
   "language": "python",
   "name": "python3"
  },
  "language_info": {
   "codemirror_mode": {
    "name": "ipython",
    "version": 3
   },
   "file_extension": ".py",
   "mimetype": "text/x-python",
   "name": "python",
   "nbconvert_exporter": "python",
   "pygments_lexer": "ipython3",
   "version": "3.7.7"
  }
 },
 "nbformat": 4,
 "nbformat_minor": 4
}
